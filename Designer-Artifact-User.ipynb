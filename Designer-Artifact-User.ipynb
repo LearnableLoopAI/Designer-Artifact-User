{
 "cells": [
  {
   "cell_type": "markdown",
   "metadata": {},
   "source": [
    "# **Designer-Artifact-User multi-agent system**"
   ]
  },
  {
   "cell_type": "code",
   "execution_count": 2,
   "metadata": {},
   "outputs": [],
   "source": [
    "#| hide\n",
    "# BASED ON\n",
    "    # Designer-Artifact-User_LUCA^v6.ipynb\n",
    "    # Designer-Artifact-User_LUCA^v5.ipynb\n",
    "    # Designer-Artifact-User_LUCA^v4.ipynb\n",
    "    # Designer-Artifact-User_LUCA^v3.ipynb\n",
    "    \n",
    "# DONE\n",
    "# v4 starts ------------------------------------------------\n",
    "# 4.5.6.1.1\tAdd action from User to Artifact\n",
    "# 4.5.6.1.2\tAdd observation from Artifact to User\n",
    "# 4.5.6.1.3\tVisualize\n",
    "# v5 starts ------------------------------------------------\n",
    "# 4.5.6.1.4\tRedo indexing of variables due to name clashes\n",
    "# 4.5.6.1.5\tUpdate section 1 diagram\n",
    "# 4.5.6.1.6\tUpdate section 1 symbol descriptions\n",
    "# v6 starts ------------------------------------------------\n",
    "# 4.5.6.1.7\tUpdate the User agent's environment dynamics to a non-parametric model\n",
    "# v7 starts ------------------------------------------------\n",
    "\n",
    "# TODO\n"
   ]
  },
  {
   "cell_type": "code",
   "execution_count": 3,
   "metadata": {},
   "outputs": [],
   "source": [
    "import numpy as np\n",
    "import copy\n",
    "\n",
    "from pymdp.agent import Agent\n",
    "from pymdp import utils\n",
    "from pymdp.maths import softmax\n",
    "\n",
    "import matplotlib.pyplot as plt\n",
    "from matplotlib.gridspec import GridSpec\n",
    "from matplotlib.lines import Line2D\n",
    "from matplotlib.ticker import MaxNLocator\n",
    "import random\n",
    "\n",
    "import argparse\n",
    "import matplotlib\n",
    "matplotlib.use(\"Agg\") ## Use a non-GUI backend"
   ]
  },
  {
   "cell_type": "code",
   "execution_count": 4,
   "metadata": {},
   "outputs": [],
   "source": [
    "## ?utils.get_model_dimensions_from_labels\n",
    "## rewrite the pyMDP method to allow for shorter names so that the labels \n",
    "## dictionary can be used more easily when setting up the matrices\n",
    "def get_model_dimensions_from_labels(model_labels):\n",
    "    modalities = model_labels['y']\n",
    "    num_modalities = len(modalities.keys())\n",
    "    num_obs = [len(modalities[modality]) for modality in modalities.keys()]\n",
    "\n",
    "    factors = model_labels['s']\n",
    "    num_factors = len(factors.keys())\n",
    "    num_states = [len(factors[factor]) for factor in factors.keys()]\n",
    "\n",
    "    if 'a' in model_labels.keys():\n",
    "        controls = model_labels['a']\n",
    "        num_control_fac = len(controls.keys())\n",
    "        num_controls = [len(controls[cfac]) for cfac in controls.keys()]\n",
    "        return num_obs, num_modalities, num_states, num_factors, num_controls, num_control_fac\n",
    "    else:\n",
    "        return num_obs, num_modalities, num_states, num_factors"
   ]
  },
  {
   "cell_type": "markdown",
   "metadata": {},
   "source": [
    "# 1 Summary of entity interactions\n",
    "The following diagram is a representation of the interactions between the entities in this project. "
   ]
  },
  {
   "cell_type": "markdown",
   "metadata": {},
   "source": [
    "![](./designer-artifact-user3.png)"
   ]
  },
  {
   "cell_type": "markdown",
   "metadata": {},
   "source": [
    "The Designer entity's agent has symbols:\n",
    "\n",
    "- $a^{\\mathrm{DsgArt}}$ is the action from the Designer entity's agent to the Artifact entity's environment segment\n",
    "- $u^{\\mathrm{ArtDsg}}$ is the inferred control states of the Artifact entity's environment segment\n",
    "- $\\theta^{\\mathrm{ArtDsg}}$ is the inferred parameters of the Artifact entity's environment segment\n",
    "- $s^{\\mathrm{ArtDsg}}$ is the inferred state of the Artifact entity's environment segment\n",
    "- $\\theta^{\\mathrm{UsrDsg}}$ is the inferred parameters of the User entity's environment segment\n",
    "- $s^{\\mathrm{UsrDsg}}$ is the inferred state of the User entity's environment segment\n",
    "\n",
    "The Designer entity's environment has symbols:\n",
    "\n",
    "- from Artifact's environment segment:\n",
    "    - $y^{\\mathrm{ArtDsg}}$ is the observation from the Artifact entity's environment segment\n",
    "    - $\\breve\\theta^{\\mathrm{ArtDsg}}$ is the true parameters of the Artifact entity\n",
    "    - $\\breve s^{\\mathrm{ArtDsg}}$ is the true state of the Artifact entity\n",
    "    - $W^{\\mathrm{Art}}$ is the exogenous information impacting the Artifact entity\n",
    "- from User's environment segment:\n",
    "    - $y^{\\mathrm{UsrDsg}}$ is the observation from the User entity's environment segment\n",
    "    - $\\breve\\theta^{\\mathrm{UsrDsg}}$ is the true parameters of the User entity\n",
    "    - $\\breve s^{\\mathrm{UsrDsg}}$ is the true state of the User entity"
   ]
  },
  {
   "cell_type": "markdown",
   "metadata": {},
   "source": [
    "The Artifact entity's agent has symbols:\n",
    "\n",
    "- $a^{\\mathrm{ArtUsr}}$ is the action from the Artifact entity's agent to the User entity's environment segment\n",
    "- $u^{\\mathrm{UsrArt}}$ is the inferred control states of the User entity's environment segment\n",
    "- $\\theta^{\\mathrm{UsrArt}}$ is the inferred parameters of the User entity's environment segment\n",
    "- $s^{\\mathrm{UsrArt}}$ is the inferred state of the User entity's environment segment\n",
    "\n",
    "The Artifact entity's environment has symbols:\n",
    "\n",
    "- from User's environment segment:\n",
    "    - $y^{\\mathrm{UsrArt}}$ is the observation from the User entity's environment segment\n",
    "    - $\\breve\\theta^{\\mathrm{UsrArt}}$ is the true parameters of the User entity\n",
    "    - $\\breve s^{\\mathrm{UsrArt}}$ is the true state of the User entity\n",
    "    - $W^{\\mathrm{Usr}}$ is the exogenous information impacting the User entity"
   ]
  },
  {
   "cell_type": "markdown",
   "metadata": {},
   "source": [
    "The User entity's agent has symbols:\n",
    "\n",
    "- $a^{\\mathrm{UsrArt}}$ is the action from the User entity's agent to the Artifact entity's environment segment\n",
    "- $u^{\\mathrm{ArtUsr}}$ is the inferred control states of the Artifact entity's environment segment\n",
    "- $\\theta^{\\mathrm{ArtUsr}}$ is the inferred parameters of the Artifact entity's environment segment\n",
    "- $s^{\\mathrm{ArtUsr}}$ is the inferred state of the User entity's environment segment\n",
    "\n",
    "The User entity's environment has symbols:\n",
    "\n",
    "- from Artifact's environment segment:\n",
    "    - $y^{\\mathrm{ArtUsr}}$ is the observation from the Artifact entity's environment segment\n",
    "    - $\\breve\\theta^{\\mathrm{ArtUsr}}$ is the true parameters of the Artifact entity\n",
    "    - $\\breve s^{\\mathrm{ArtUsr}}$ is the true state of the Artifact entity\n",
    "    - $W^{\\mathrm{Art}}$ is the exogenous information impacting the Artifact entity"
   ]
  },
  {
   "cell_type": "markdown",
   "metadata": {},
   "source": [
    "# 2 Entity interactions"
   ]
  },
  {
   "cell_type": "markdown",
   "metadata": {},
   "source": [
    "## 2.1 Designer agent\n",
    "This is the Designer agent's *generative model* for its environment."
   ]
  },
  {
   "cell_type": "markdown",
   "metadata": {},
   "source": [
    "### 2.1.1 State factors\n",
    "The inferred state factors from the Designer's environment are:\n",
    "\n",
    "- $s^{\\mathrm{ArtDsg}}_1$ (EYE_TRACKING)\n",
    "- $s^{\\mathrm{ArtDsg}}_2$ (TIME_ON_TASK)\n",
    "- $s^{\\mathrm{ArtDsg}}_3$ (UI_FEATURES) [LATER]\n",
    "- $s^{\\mathrm{ArtDsg}}_4$ (PERFORMANCE) [LATER]\n",
    "- $s^{\\mathrm{UsrDsg}}_1$ (FEEDBACK) [LATER]\n",
    "\n",
    "#### 2.1.1.1 $s^{\\mathrm{ArtDsg}}_1$ (EYE_TRACKING)\n",
    "It has two possible values:\n",
    "\n",
    "- $s^{\\mathrm{ArtDsg}}_1 = 0$, `FOCUSED`\n",
    "- $s^{\\mathrm{ArtDsg}}_1 = 1$, `SCATTERED`\n",
    "\n",
    "#### 2.1.1.2 $s^{\\mathrm{Art}}_2$ (TIME_ON_TASK)\n",
    "It has three possible values:\n",
    "\n",
    "- $s^{\\mathrm{ArtDsg}}_2 = 0$, `SHORT`\n",
    "- $s^{\\mathrm{ArtDsg}}_2 = 1$, `MEDIUM`\n",
    "- $s^{\\mathrm{ArtDsg}}_2 = 2$, `LONG`\n",
    "\n",
    "#### 2.1.1.3 $s^{\\mathrm{ArtDsg}}_3$ (UI_FEATURES) [LATER]\n",
    "It has three possible values: \n",
    "\n",
    "- $s^{\\mathrm{ArtDsg}}_3 = 0$, `MINIMAL`\n",
    "- $s^{\\mathrm{ArtDsg}}_3 = 1$, `STANDARD`\n",
    "- $s^{\\mathrm{ArtDsg}}_3 = 2$, `ADVANCED`\n",
    "\n",
    "#### 2.1.1.4 $s^{\\mathrm{ArtDsg}}_4$ (PERFORMANCE) [LATER]\n",
    "It has three possible values:\n",
    "\n",
    "- $s^{\\mathrm{ArtDsg}}_4 = 0$, `LOW`\n",
    "- $s^{\\mathrm{ArtDsg}}_4 = 1$, `MEDIUM`\n",
    "- $s^{\\mathrm{ArtDsg}}_4 = 2$, `HIGH`\n",
    "\n",
    "#### 2.1.1.5 $s^{\\mathrm{UsrDsg}}_1$ (FEEDBACK) [LATER]\n",
    "It has two possible values:\n",
    "\n",
    "- $s^{\\mathrm{UsrDsg}}_1 = 0$, `POSITIVE`\n",
    "- $s^{\\mathrm{UsrDsg}}_1 = 1$, `NEGATIVE`"
   ]
  },
  {
   "cell_type": "markdown",
   "metadata": {},
   "source": [
    "### 2.1.2 Observation modalities \n",
    "The observed observation modalities from the Designer's environment (inputs to the Designer agent) are:\n",
    "\n",
    "- $y^{\\mathrm{ArtDsg}}_1$ (EYE_TRACKING_OBS)\n",
    "- $y^{\\mathrm{ArtDsg}}_2$ (TIME_ON_TASK_OBS)\n",
    "- $y^{\\mathrm{ArtDsg}}_3$ (UI_FEATURES_OBS)\n",
    "- $y^{\\mathrm{ArtDsg}}_4$ (PERFORMANCE_OBS) [LATER]\n",
    "- $y^{\\mathrm{UsrDsg}}_1$ (FEEDBACK_OBS) [LATER]\n",
    "\n",
    "#### 2.1.2.1 $y^{\\mathrm{ArtDsg}}_1$ (EYE_TRACKING_OBS)\n",
    "It has three possible values:\n",
    "\n",
    "- $y^{\\mathrm{ArtDsg}}_1 = 0$, `FOCUSED_OBS`\n",
    "- $y^{\\mathrm{ArtDsg}}_1 = 1$, `SCATTERED_OBS`\n",
    "- $y^{\\mathrm{ArtDsg}}_1 = 2$, `NEUTRAL_OBS`\n",
    "\n",
    "#### 2.1.2.2 $y^{\\mathrm{ArtDsg}}_2$ (TIME_ON_TASK_OBS)\n",
    "It has three possible values:\n",
    "\n",
    "- $y^{\\mathrm{ArtDsg}}_2 = 0$, `SHORT_OBS`\n",
    "- $y^{\\mathrm{ArtDsg}}_2 = 1$, `MEDIUM_OBS`\n",
    "- $y^{\\mathrm{ArtDsg}}_2 = 2$, `LONG_OBS`\n",
    "\n",
    "#### 2.1.2.3 $y^{\\mathrm{ArtDsg}}_3$ (UI_FEATURES_OBS)\n",
    "It has three possible values: \n",
    "\n",
    "- $y^{\\mathrm{ArtDsg}}_3 = 0$, `MINIMAL_OBS`\n",
    "- $y^{\\mathrm{ArtDsg}}_3 = 1$, `STANDARD_OBS`\n",
    "- $y^{\\mathrm{ArtDsg}}_3 = 2$, `ADVANCED_OBS`\n",
    "\n",
    "#### 2.1.2.4 $y^{\\mathrm{ArtDsg}}_4$ (PERFORMANCE_OBS) [LATER]\n",
    "It has three possible values:\n",
    "\n",
    "- $y^{\\mathrm{ArtDsg}}_4 = 0$, `LOW_OBS`\n",
    "- $y^{\\mathrm{ArtDsg}}_4 = 1$, `MEDIUM_OBS`\n",
    "- $y^{\\mathrm{ArtDsg}}_4 = 2$, `HIGH_OBS`\n",
    "\n",
    "#### 2.1.2.5 $y^{\\mathrm{UsrDsg}}_1$ (FEEDBACK_OBS) [LATER]\n",
    "It has two possible values:\n",
    "\n",
    "- $y^{\\mathrm{UsrDsg}}_1 = 0$, `POSITIVE_OBS`\n",
    "- $y^{\\mathrm{UsrDsg}}_1 = 1$, `NEGATIVE_OBS`"
   ]
  },
  {
   "cell_type": "markdown",
   "metadata": {},
   "source": [
    "### 2.1.3 Control factors\n",
    "The action control factors to the Designer's environment (outputs from the Designer agent) are:\n",
    "\n",
    "- $a^{\\mathrm{DsgArt}}_1$ (NULL)\n",
    "- $a^{\\mathrm{DsgArt}}_2$ (ADJUST_UI_FEATURES_ACTION)\n",
    "\n",
    "#### 2.1.3.1 $a^{\\mathrm{DsgArt}}_1$ (NULL)\n",
    "It has one possible value:\n",
    "\n",
    "- $a^{\\mathrm{DsgArt}}_1 = 0$, `NULL_ACT`\n",
    "\n",
    "#### 2.1.3.2 $a^{\\mathrm{DsgArt}}_2$ (ADJUST_UI_FEATURES_ACTION)\n",
    "It has three possible values:\n",
    "\n",
    "- $a^{\\mathrm{DsgArt}}_1 = 0$, `NO_CHANGE_ACT`\n",
    "- $a^{\\mathrm{DsgArt}}_2 = 1$, `CHANGE_COLOR_THEME_ACT`\n",
    "- $a^{\\mathrm{DsgArt}}_3 = 2$, `CHANGE_TEXT_SIZE_ACT`"
   ]
  },
  {
   "cell_type": "code",
   "execution_count": 5,
   "metadata": {},
   "outputs": [
    {
     "data": {
      "text/plain": [
       "([3, 3, 3], 3, [2, 3], 2, [1, 3], 2)"
      ]
     },
     "execution_count": 5,
     "metadata": {},
     "output_type": "execute_result"
    }
   ],
   "source": [
    "_labDsg = { ## labels for Designer\n",
    "    \"a\": {\n",
    "        \"aᴰˢᵍᴬʳᵗ₁\": [ ## \"NULL\"\n",
    "            \"NULL_ACT\", \n",
    "        ],\n",
    "        \"aᴰˢᵍᴬʳᵗ₂\": [ ## \"ADJUST_UI_FEATURES_ACTION\"\n",
    "            \"NO_CHANGE_ACT\", \n",
    "            \"CHANGE_COLOR_THEME_ACT\", \n",
    "            \"CHANGE_TEXT_SIZE_ACT\"\n",
    "        ],\n",
    "    },\n",
    "    \"s\": {\n",
    "        \"sᴬʳᵗᴰˢᵍ₁\": [ ## \"EYE_TRACKING\"\n",
    "            \"FOCUSED\", \n",
    "            \"SCATTERED\",\n",
    "        ],\n",
    "        \"sᴬʳᵗᴰˢᵍ₂\": [ ## \"TIME_ON_TASK\"\n",
    "            \"SHORT\", \n",
    "            \"MEDIUM\", \n",
    "            \"LONG\"\n",
    "        ],\n",
    "        ## LATER:\n",
    "        # \"sᴬʳᵗᴰˢᵍ₃\": [ ## \"UI_FEATURES\"\n",
    "        #     \"MINIMAL\", \n",
    "        #     \"STANDARD\", \n",
    "        #     \"ADVANCED\"\n",
    "        # ],\n",
    "        # \"sᴬʳᵗᴰˢᵍ₄\": [ ## \"PERFORMANCE\"\n",
    "        #     \"LOW\", \n",
    "        #     \"MEDIUM\", \n",
    "        #     \"HIGH\"\n",
    "        # ],\n",
    "        # \"sᵁˢʳᴰˢᵍ₁\": [ ## \"FEEDBACK\"\n",
    "        #     \"POSITIVE\", \n",
    "        #     \"NEGATIVE\"\n",
    "        # ],\n",
    "    },\n",
    "    \"s̆\": {\n",
    "        \"s̆ᴬʳᵗᴰˢᵍ₁\": [ ## \"EYE_TRACKING\"\n",
    "            \"FOCUSED\", \n",
    "            \"SCATTERED\",\n",
    "        ],\n",
    "        \"s̆ᴬʳᵗᴰˢᵍ₂\": [ ## \"TIME_ON_TASK\"\n",
    "            \"SHORT\", \n",
    "            \"MEDIUM\", \n",
    "            \"LONG\"\n",
    "        ],\n",
    "    },    \n",
    "    \"y\": {\n",
    "        \"yᴬʳᵗᴰˢᵍ₁\": [ ## \"EYE_TRACKING_OBS\"\n",
    "            \"FOCUSED_OBS\",\n",
    "            \"SCATTERED_OBS\",\n",
    "            \"NEUTRAL_OBS\"\n",
    "        ],\n",
    "        \"yᴬʳᵗᴰˢᵍ₂\": [ ## \"TIME_ON_TASK_OBS\"\n",
    "            \"SHORT_OBS\",\n",
    "            \"MEDIUM_OBS\",\n",
    "            \"LONG_OBS\"\n",
    "        ],\n",
    "        \"yᴬʳᵗᴰˢᵍ₃\": [ ## \"UI_FEATURES_OBS\"\n",
    "            \"MINIMAL_OBS\",\n",
    "            \"STANDARD_OBS\",\n",
    "            \"ADVANCED_OBS\"\n",
    "        ],\n",
    "        ## LATER:\n",
    "        # \"yᴬʳᵗᴰˢᵍ₄\": [ ## \"PERFORMANCE_OBS\"\n",
    "        #     \"LOW_OBS\",\n",
    "        #     \"MEDIUM_OBS\",\n",
    "        #     \"HIGH_OBS\"\n",
    "        # ],\n",
    "        # \"yᵁˢʳᴰˢᵍ₁\": [ ## \"FEEDBACK_OBS\"\n",
    "        #     \"POSITIVE_OBS\",\n",
    "        #     \"NEGATIVE_OBS\"\n",
    "        # ]\n",
    "    },\n",
    "}\n",
    "_yArtDsg_car,_yArtDsg_num, _sArtDsg_car,_sArtDsg_num, _aDsgArt_car,_aDsgArt_num = get_model_dimensions_from_labels(_labDsg)\n",
    "_yArtDsg_car,_yArtDsg_num, _sArtDsg_car,_sArtDsg_num, _aDsgArt_car,_aDsgArt_num"
   ]
  },
  {
   "cell_type": "code",
   "execution_count": 6,
   "metadata": {},
   "outputs": [
    {
     "name": "stdout",
     "output_type": "stream",
     "text": [
      "_aDsgArt_car=[1, 3]\n",
      "_aDsgArt_num=2\n",
      "_sArtDsg_car=[2, 3]\n",
      "_sArtDsg_num=2\n",
      "_yArtDsg_car=[3, 3, 3]\n",
      "_yArtDsg_num=3\n"
     ]
    }
   ],
   "source": [
    "print(f'{_aDsgArt_car=}') ## cardinality of control factors\n",
    "print(f'{_aDsgArt_num=}') ## number of control factors\n",
    "\n",
    "print(f'{_sArtDsg_car=}') ## cardinality of state factors\n",
    "print(f'{_sArtDsg_num=}') ## number of state factors\n",
    "\n",
    "print(f'{_yArtDsg_car=}') ## cardinality of observation modalities\n",
    "print(f'{_yArtDsg_num=}') ## number of observation modalities"
   ]
  },
  {
   "cell_type": "code",
   "execution_count": 7,
   "metadata": {},
   "outputs": [
    {
     "name": "stdout",
     "output_type": "stream",
     "text": [
      "_aDsgArt_fac_names=['aᴰˢᵍᴬʳᵗ₁', 'aᴰˢᵍᴬʳᵗ₂']\n",
      "_sArtDsg_fac_names=['sᴬʳᵗᴰˢᵍ₁', 'sᴬʳᵗᴰˢᵍ₂']\n",
      "_s̆ArtDsg_fac_names=['s̆ᴬʳᵗᴰˢᵍ₁', 's̆ᴬʳᵗᴰˢᵍ₂']\n",
      "_yArtDsg_mod_names=['yᴬʳᵗᴰˢᵍ₁', 'yᴬʳᵗᴰˢᵍ₂', 'yᴬʳᵗᴰˢᵍ₃']\n"
     ]
    }
   ],
   "source": [
    "_aDsgArt_fac_names = list(_labDsg['a'].keys()); print(f'{_aDsgArt_fac_names=}') ## control factor names\n",
    "_sArtDsg_fac_names = list(_labDsg['s'].keys()); print(f'{_sArtDsg_fac_names=}') ## state factor names\n",
    "_s̆ArtDsg_fac_names = list(_labDsg['s̆'].keys()); print(f'{_s̆ArtDsg_fac_names=}') ## state factor names\n",
    "_yArtDsg_mod_names = list(_labDsg['y'].keys()); print(f'{_yArtDsg_mod_names=}') ## observation modality names"
   ]
  },
  {
   "cell_type": "markdown",
   "metadata": {},
   "source": [
    "### 2.1.4 Observation likelihood matrix, $\\mathbf A$\n",
    "We now setup the observation likelihood matrix which is the first main component of generative model."
   ]
  },
  {
   "cell_type": "code",
   "execution_count": 8,
   "metadata": {},
   "outputs": [
    {
     "name": "stdout",
     "output_type": "stream",
     "text": [
      "len(_Aᴬʳᵗᴰˢᵍ)=3\n"
     ]
    },
    {
     "data": {
      "text/plain": [
       "array([array([[[0., 0., 0.],\n",
       "               [0., 0., 0.]],\n",
       "\n",
       "              [[0., 0., 0.],\n",
       "               [0., 0., 0.]],\n",
       "\n",
       "              [[0., 0., 0.],\n",
       "               [0., 0., 0.]]]), array([[[0., 0., 0.],\n",
       "                                        [0., 0., 0.]],\n",
       "\n",
       "                                       [[0., 0., 0.],\n",
       "                                        [0., 0., 0.]],\n",
       "\n",
       "                                       [[0., 0., 0.],\n",
       "                                        [0., 0., 0.]]]),\n",
       "       array([[[0., 0., 0.],\n",
       "               [0., 0., 0.]],\n",
       "\n",
       "              [[0., 0., 0.],\n",
       "               [0., 0., 0.]],\n",
       "\n",
       "              [[0., 0., 0.],\n",
       "               [0., 0., 0.]]])], dtype=object)"
      ]
     },
     "execution_count": 8,
     "metadata": {},
     "output_type": "execute_result"
    }
   ],
   "source": [
    "_Aᴬʳᵗᴰˢᵍ = utils.obj_array_zeros([[y_car] + _sArtDsg_car for y_car in _yArtDsg_car])\n",
    "print(f'{len(_Aᴬʳᵗᴰˢᵍ)=}')\n",
    "_Aᴬʳᵗᴰˢᵍ"
   ]
  },
  {
   "cell_type": "markdown",
   "metadata": {},
   "source": [
    "#### 2.1.4.1 Observation modality $y^{\\mathrm{ArtDsg}}_1$ (EYE_TRACKING_OBS)"
   ]
  },
  {
   "cell_type": "markdown",
   "metadata": {},
   "source": [
    "We setup this modality's likelihood mapping, corresponding to how $y^{\\mathrm{ArtDsg}}_1$ (EYE_TRACKING_OBS) is related to hidden states."
   ]
  },
  {
   "cell_type": "code",
   "execution_count": 9,
   "metadata": {},
   "outputs": [
    {
     "data": {
      "text/plain": [
       "array([[[0. , 0. , 0.8],\n",
       "        [0. , 0. , 0.2]],\n",
       "\n",
       "       [[0. , 0. , 0.2],\n",
       "        [0. , 0. , 0.8]],\n",
       "\n",
       "       [[1. , 1. , 0. ],\n",
       "        [1. , 1. , 0. ]]])"
      ]
     },
     "execution_count": 9,
     "metadata": {},
     "output_type": "execute_result"
    }
   ],
   "source": [
    "_Aᴬʳᵗᴰˢᵍ[0][\n",
    "    _labDsg['y']['yᴬʳᵗᴰˢᵍ₁'].index('NEUTRAL_OBS'), \n",
    "    :, \n",
    "    _labDsg['s']['sᴬʳᵗᴰˢᵍ₂'].index('SHORT')\n",
    "] = 1.0\n",
    "_Aᴬʳᵗᴰˢᵍ[0][\n",
    "    _labDsg['y']['yᴬʳᵗᴰˢᵍ₁'].index('NEUTRAL_OBS'), \n",
    "    :, \n",
    "    _labDsg['s']['sᴬʳᵗᴰˢᵍ₂'].index('MEDIUM')\n",
    "] = 1.0\n",
    "_Aᴬʳᵗᴰˢᵍ[0][\n",
    "    _labDsg['y']['yᴬʳᵗᴰˢᵍ₁'].index('FOCUSED_OBS'),\n",
    "    _labDsg['s']['sᴬʳᵗᴰˢᵍ₁'].index('FOCUSED'), \n",
    "    _labDsg['s']['sᴬʳᵗᴰˢᵍ₂'].index('LONG')\n",
    "] = 0.8\n",
    "_Aᴬʳᵗᴰˢᵍ[0][\n",
    "    _labDsg['y']['yᴬʳᵗᴰˢᵍ₁'].index('SCATTERED_OBS'),\n",
    "    _labDsg['s']['sᴬʳᵗᴰˢᵍ₁'].index('FOCUSED'), \n",
    "    _labDsg['s']['sᴬʳᵗᴰˢᵍ₂'].index('LONG')\n",
    "] = 0.2\n",
    "\n",
    "_Aᴬʳᵗᴰˢᵍ[0][\n",
    "    _labDsg['y']['yᴬʳᵗᴰˢᵍ₁'].index('SCATTERED_OBS'),\n",
    "    _labDsg['s']['sᴬʳᵗᴰˢᵍ₁'].index('SCATTERED'), \n",
    "    _labDsg['s']['sᴬʳᵗᴰˢᵍ₂'].index('LONG')\n",
    "] = 0.8\n",
    "_Aᴬʳᵗᴰˢᵍ[0][\n",
    "    _labDsg['y']['yᴬʳᵗᴰˢᵍ₁'].index('FOCUSED_OBS'),\n",
    "    _labDsg['s']['sᴬʳᵗᴰˢᵍ₁'].index('SCATTERED'), \n",
    "    _labDsg['s']['sᴬʳᵗᴰˢᵍ₂'].index('LONG')\n",
    "] = 0.2\n",
    "\n",
    "_Aᴬʳᵗᴰˢᵍ[0]"
   ]
  },
  {
   "cell_type": "markdown",
   "metadata": {},
   "source": [
    "#### 2.1.4.2 Observation modality $y^{\\mathrm{ArtDsg}}_2$ (TIME_ON_TASK_OBS)"
   ]
  },
  {
   "cell_type": "markdown",
   "metadata": {},
   "source": [
    "We setup this modality's likelihood mapping, corresponding to how $y^{\\mathrm{ArtDsg}}_2$ (TIME_ON_TASK_OBS) is related to hidden states."
   ]
  },
  {
   "cell_type": "code",
   "execution_count": 10,
   "metadata": {},
   "outputs": [
    {
     "data": {
      "text/plain": [
       "array([[[0.        , 0.73105858, 0.        ],\n",
       "        [0.        , 0.26894142, 0.        ]],\n",
       "\n",
       "       [[0.        , 0.26894142, 0.        ],\n",
       "        [0.        , 0.73105858, 0.        ]],\n",
       "\n",
       "       [[1.        , 0.        , 1.        ],\n",
       "        [1.        , 0.        , 1.        ]]])"
      ]
     },
     "execution_count": 10,
     "metadata": {},
     "output_type": "execute_result"
    }
   ],
   "source": [
    "_Aᴬʳᵗᴰˢᵍ[1][\n",
    "    _labDsg['y']['yᴬʳᵗᴰˢᵍ₂'].index('LONG_OBS'), \n",
    "    :, \n",
    "    _labDsg['s']['sᴬʳᵗᴰˢᵍ₂'].index('SHORT')\n",
    "] = 1.0\n",
    "\n",
    "_Aᴬʳᵗᴰˢᵍ[1][\n",
    "    _labDsg['y']['yᴬʳᵗᴰˢᵍ₂'].index('LONG_OBS'), \n",
    "    :, \n",
    "    _labDsg['s']['sᴬʳᵗᴰˢᵍ₂'].index('LONG')\n",
    "] = 1.0\n",
    "\n",
    "_FOCUSED_MAPPING_DSG = softmax(np.array([1.0, 0]))\n",
    "_SCATTERED_MAPPING_DSG = softmax(np.array([0.0, 1.0]))\n",
    "\n",
    "_Aᴬʳᵗᴰˢᵍ[1][\n",
    "    _labDsg['y']['yᴬʳᵗᴰˢᵍ₂'].index('SHORT_OBS'),\n",
    "    _labDsg['s']['sᴬʳᵗᴰˢᵍ₁'].index('FOCUSED'), \n",
    "    _labDsg['s']['sᴬʳᵗᴰˢᵍ₂'].index('MEDIUM')\n",
    "] = _FOCUSED_MAPPING_DSG[0]\n",
    "_Aᴬʳᵗᴰˢᵍ[1][\n",
    "    _labDsg['y']['yᴬʳᵗᴰˢᵍ₂'].index('MEDIUM_OBS'),\n",
    "    _labDsg['s']['sᴬʳᵗᴰˢᵍ₁'].index('FOCUSED'), \n",
    "    _labDsg['s']['sᴬʳᵗᴰˢᵍ₂'].index('MEDIUM')\n",
    "] = _FOCUSED_MAPPING_DSG[1]\n",
    "\n",
    "_Aᴬʳᵗᴰˢᵍ[1][\n",
    "    _labDsg['y']['yᴬʳᵗᴰˢᵍ₂'].index('SHORT_OBS'),\n",
    "    _labDsg['s']['sᴬʳᵗᴰˢᵍ₁'].index('SCATTERED'), \n",
    "    _labDsg['s']['sᴬʳᵗᴰˢᵍ₂'].index('MEDIUM')\n",
    "] = _SCATTERED_MAPPING_DSG[0]\n",
    "_Aᴬʳᵗᴰˢᵍ[1][\n",
    "    _labDsg['y']['yᴬʳᵗᴰˢᵍ₂'].index('MEDIUM_OBS'),\n",
    "    _labDsg['s']['sᴬʳᵗᴰˢᵍ₁'].index('SCATTERED'), \n",
    "    _labDsg['s']['sᴬʳᵗᴰˢᵍ₂'].index('MEDIUM')\n",
    "] = _SCATTERED_MAPPING_DSG[1]\n",
    "\n",
    "_Aᴬʳᵗᴰˢᵍ[1]"
   ]
  },
  {
   "cell_type": "markdown",
   "metadata": {},
   "source": [
    "#### 2.1.4.3 Observation modality $y^{\\mathrm{ArtDsg}}_3$ (UI_FEATURES_OBS)"
   ]
  },
  {
   "cell_type": "markdown",
   "metadata": {},
   "source": [
    "We setup this modality's likelihood mapping, corresponding to how $y^{\\mathrm{ArtDsg}}_3$ (UI_FEATURES_OBS) is related to hidden states."
   ]
  },
  {
   "cell_type": "code",
   "execution_count": 11,
   "metadata": {},
   "outputs": [
    {
     "data": {
      "text/plain": [
       "array([[[1., 0., 0.],\n",
       "        [1., 0., 0.]],\n",
       "\n",
       "       [[0., 1., 0.],\n",
       "        [0., 1., 0.]],\n",
       "\n",
       "       [[0., 0., 1.],\n",
       "        [0., 0., 1.]]])"
      ]
     },
     "execution_count": 11,
     "metadata": {},
     "output_type": "execute_result"
    }
   ],
   "source": [
    "_Aᴬʳᵗᴰˢᵍ[2][\n",
    "    _labDsg['y']['yᴬʳᵗᴰˢᵍ₃'].index('MINIMAL_OBS'), \n",
    "    :, \n",
    "    _labDsg['s']['sᴬʳᵗᴰˢᵍ₂'].index('SHORT')\n",
    "] = 1.0\n",
    "_Aᴬʳᵗᴰˢᵍ[2][\n",
    "    _labDsg['y']['yᴬʳᵗᴰˢᵍ₃'].index('STANDARD_OBS'), \n",
    "    :, \n",
    "    _labDsg['s']['sᴬʳᵗᴰˢᵍ₂'].index('MEDIUM')\n",
    "] = 1.0\n",
    "_Aᴬʳᵗᴰˢᵍ[2][\n",
    "    _labDsg['y']['yᴬʳᵗᴰˢᵍ₃'].index('ADVANCED_OBS'), \n",
    "    :, \n",
    "    _labDsg['s']['sᴬʳᵗᴰˢᵍ₂'].index('LONG')\n",
    "] = 1.0\n",
    "\n",
    "_Aᴬʳᵗᴰˢᵍ[2]"
   ]
  },
  {
   "cell_type": "code",
   "execution_count": 12,
   "metadata": {},
   "outputs": [
    {
     "name": "stdout",
     "output_type": "stream",
     "text": [
      "=== _sArtDsg_car:\n",
      "[2, 3]\n",
      "=== _yArtDsg_car:\n",
      "[3, 3, 3]\n"
     ]
    },
    {
     "data": {
      "text/plain": [
       "array([array([[[0. , 0. , 0.8],\n",
       "               [0. , 0. , 0.2]],\n",
       "\n",
       "              [[0. , 0. , 0.2],\n",
       "               [0. , 0. , 0.8]],\n",
       "\n",
       "              [[1. , 1. , 0. ],\n",
       "               [1. , 1. , 0. ]]]),\n",
       "       array([[[0.        , 0.73105858, 0.        ],\n",
       "               [0.        , 0.26894142, 0.        ]],\n",
       "\n",
       "              [[0.        , 0.26894142, 0.        ],\n",
       "               [0.        , 0.73105858, 0.        ]],\n",
       "\n",
       "              [[1.        , 0.        , 1.        ],\n",
       "               [1.        , 0.        , 1.        ]]]),\n",
       "       array([[[1., 0., 0.],\n",
       "               [1., 0., 0.]],\n",
       "\n",
       "              [[0., 1., 0.],\n",
       "               [0., 1., 0.]],\n",
       "\n",
       "              [[0., 0., 1.],\n",
       "               [0., 0., 1.]]])], dtype=object)"
      ]
     },
     "execution_count": 12,
     "metadata": {},
     "output_type": "execute_result"
    }
   ],
   "source": [
    "print(f'=== _sArtDsg_car:\\n{_sArtDsg_car}')\n",
    "print(f'=== _yArtDsg_car:\\n{_yArtDsg_car}')\n",
    "_Aᴬʳᵗᴰˢᵍ"
   ]
  },
  {
   "cell_type": "code",
   "execution_count": 13,
   "metadata": {},
   "outputs": [
    {
     "data": {
      "text/plain": [
       "True"
      ]
     },
     "execution_count": 13,
     "metadata": {},
     "output_type": "execute_result"
    }
   ],
   "source": [
    "utils.is_normalized(_Aᴬʳᵗᴰˢᵍ)"
   ]
  },
  {
   "cell_type": "markdown",
   "metadata": {},
   "source": [
    "### 2.1.5 State transition matrix, $\\mathbf B$"
   ]
  },
  {
   "cell_type": "code",
   "execution_count": 14,
   "metadata": {},
   "outputs": [
    {
     "name": "stdout",
     "output_type": "stream",
     "text": [
      "_sArtDsg_num=2\n",
      "len(_Bᴬʳᵗᴰˢᵍ)=2\n"
     ]
    },
    {
     "data": {
      "text/plain": [
       "array([None, None], dtype=object)"
      ]
     },
     "execution_count": 14,
     "metadata": {},
     "output_type": "execute_result"
    }
   ],
   "source": [
    "_control_fac_idx_Dsg = [1] ## used in Agent constructor\n",
    "_Bᴬʳᵗᴰˢᵍ = utils.obj_array(_sArtDsg_num); print(f'{_sArtDsg_num=}')\n",
    "print(f'{len(_Bᴬʳᵗᴰˢᵍ)=}')\n",
    "_Bᴬʳᵗᴰˢᵍ"
   ]
  },
  {
   "cell_type": "markdown",
   "metadata": {},
   "source": [
    "#### 2.1.5.1 Control factor $a^{\\mathrm{DsgArt}}_1$ (NULL)"
   ]
  },
  {
   "cell_type": "markdown",
   "metadata": {},
   "source": [
    "We setup this factor's mapping, corresponding to how $a^{\\mathrm{DsgArt}}_1$ (NULL) is related to hidden states."
   ]
  },
  {
   "cell_type": "code",
   "execution_count": 15,
   "metadata": {},
   "outputs": [
    {
     "name": "stdout",
     "output_type": "stream",
     "text": [
      "_sArtDsg_car[0]=2, _sArtDsg_car[0]=2, _aDsgArt_car[0]=1\n"
     ]
    },
    {
     "data": {
      "text/plain": [
       "array([[[0.],\n",
       "        [0.]],\n",
       "\n",
       "       [[0.],\n",
       "        [0.]]])"
      ]
     },
     "execution_count": 15,
     "metadata": {},
     "output_type": "execute_result"
    }
   ],
   "source": [
    "_Bᴬʳᵗᴰˢᵍ[0] = np.zeros((_sArtDsg_car[0], _sArtDsg_car[0], _aDsgArt_car[0])); print(f'{_sArtDsg_car[0]=}, {_sArtDsg_car[0]=}, {_aDsgArt_car[0]=}')\n",
    "_Bᴬʳᵗᴰˢᵍ[0]"
   ]
  },
  {
   "cell_type": "code",
   "execution_count": 16,
   "metadata": {},
   "outputs": [
    {
     "data": {
      "text/plain": [
       "array([[[1.],\n",
       "        [0.]],\n",
       "\n",
       "       [[0.],\n",
       "        [1.]]])"
      ]
     },
     "execution_count": 16,
     "metadata": {},
     "output_type": "execute_result"
    }
   ],
   "source": [
    "_p_stochDsg = 0.0\n",
    "## we cannot influence factor zero, set up the 'default' stationary dynamics - \n",
    "## one state just maps to itself at the next timestep with very high probability, \n",
    "## by default. So this means the EYE_TRACKING state can change from one to another with \n",
    "## some low probability (p_stoch)\n",
    "_Bᴬʳᵗᴰˢᵍ[0][\n",
    "    _labDsg['s']['sᴬʳᵗᴰˢᵍ₁'].index('FOCUSED'),\n",
    "    _labDsg['s']['sᴬʳᵗᴰˢᵍ₁'].index('FOCUSED'), \n",
    "    _labDsg['a']['aᴰˢᵍᴬʳᵗ₁'].index('NULL_ACT')\n",
    "] = 1.0 - _p_stochDsg\n",
    "_Bᴬʳᵗᴰˢᵍ[0][\n",
    "    _labDsg['s']['sᴬʳᵗᴰˢᵍ₁'].index('SCATTERED'),\n",
    "    _labDsg['s']['sᴬʳᵗᴰˢᵍ₁'].index('FOCUSED'), \n",
    "    _labDsg['a']['aᴰˢᵍᴬʳᵗ₁'].index('NULL_ACT')\n",
    "] = _p_stochDsg\n",
    "\n",
    "_Bᴬʳᵗᴰˢᵍ[0][\n",
    "    _labDsg['s']['sᴬʳᵗᴰˢᵍ₁'].index('SCATTERED'),\n",
    "    _labDsg['s']['sᴬʳᵗᴰˢᵍ₁'].index('SCATTERED'), \n",
    "    _labDsg['a']['aᴰˢᵍᴬʳᵗ₁'].index('NULL_ACT')\n",
    "] = 1.0 - _p_stochDsg\n",
    "_Bᴬʳᵗᴰˢᵍ[0][\n",
    "    _labDsg['s']['sᴬʳᵗᴰˢᵍ₁'].index('FOCUSED'),\n",
    "    _labDsg['s']['sᴬʳᵗᴰˢᵍ₁'].index('SCATTERED'), \n",
    "    _labDsg['a']['aᴰˢᵍᴬʳᵗ₁'].index('NULL_ACT')\n",
    "] = _p_stochDsg\n",
    "\n",
    "_Bᴬʳᵗᴰˢᵍ[0]"
   ]
  },
  {
   "cell_type": "markdown",
   "metadata": {},
   "source": [
    "#### 2.1.5.2 Control factor $a^{\\mathrm{DsgArt}}_2$ (ADJUST_UI_FEATURES_ACTION)"
   ]
  },
  {
   "cell_type": "markdown",
   "metadata": {},
   "source": [
    "We setup this factor's mapping, corresponding to how $a^{\\mathrm{DsgArt}}_2$ (ADJUST_UI_FEATURES_ACTION) is related to hidden states."
   ]
  },
  {
   "cell_type": "code",
   "execution_count": 17,
   "metadata": {},
   "outputs": [
    {
     "data": {
      "text/plain": [
       "array([[[1., 0., 0.],\n",
       "        [1., 0., 0.],\n",
       "        [1., 0., 0.]],\n",
       "\n",
       "       [[0., 1., 0.],\n",
       "        [0., 1., 0.],\n",
       "        [0., 1., 0.]],\n",
       "\n",
       "       [[0., 0., 1.],\n",
       "        [0., 0., 1.],\n",
       "        [0., 0., 1.]]])"
      ]
     },
     "execution_count": 17,
     "metadata": {},
     "output_type": "execute_result"
    }
   ],
   "source": [
    "_Bᴬʳᵗᴰˢᵍ[1] = np.zeros((_sArtDsg_car[1], _sArtDsg_car[1], _aDsgArt_car[1]))\n",
    "_Bᴬʳᵗᴰˢᵍ[1][\n",
    "    _labDsg['s']['sᴬʳᵗᴰˢᵍ₂'].index('SHORT'), \n",
    "    :, \n",
    "    _labDsg['a']['aᴰˢᵍᴬʳᵗ₂'].index('NO_CHANGE_ACT')\n",
    "] = 1.0\n",
    "_Bᴬʳᵗᴰˢᵍ[1][\n",
    "    _labDsg['s']['sᴬʳᵗᴰˢᵍ₂'].index('MEDIUM'), \n",
    "    :, \n",
    "    _labDsg['a']['aᴰˢᵍᴬʳᵗ₂'].index('CHANGE_COLOR_THEME_ACT')\n",
    "] = 1.0\n",
    "_Bᴬʳᵗᴰˢᵍ[1][\n",
    "    _labDsg['s']['sᴬʳᵗᴰˢᵍ₂'].index('LONG'), \n",
    "    :, \n",
    "    _labDsg['a']['aᴰˢᵍᴬʳᵗ₂'].index('CHANGE_TEXT_SIZE_ACT')\n",
    "] = 1.0\n",
    "\n",
    "_Bᴬʳᵗᴰˢᵍ[1]"
   ]
  },
  {
   "cell_type": "code",
   "execution_count": 18,
   "metadata": {},
   "outputs": [
    {
     "name": "stdout",
     "output_type": "stream",
     "text": [
      "=== _aDsgArt_car:\n",
      "[1, 3]\n",
      "=== _sArtDsg_car:\n",
      "[2, 3]\n"
     ]
    },
    {
     "data": {
      "text/plain": [
       "array([array([[[1.],\n",
       "               [0.]],\n",
       "\n",
       "              [[0.],\n",
       "               [1.]]]), array([[[1., 0., 0.],\n",
       "                                [1., 0., 0.],\n",
       "                                [1., 0., 0.]],\n",
       "\n",
       "                               [[0., 1., 0.],\n",
       "                                [0., 1., 0.],\n",
       "                                [0., 1., 0.]],\n",
       "\n",
       "                               [[0., 0., 1.],\n",
       "                                [0., 0., 1.],\n",
       "                                [0., 0., 1.]]])], dtype=object)"
      ]
     },
     "execution_count": 18,
     "metadata": {},
     "output_type": "execute_result"
    }
   ],
   "source": [
    "print(f'=== _aDsgArt_car:\\n{_aDsgArt_car}')\n",
    "print(f'=== _sArtDsg_car:\\n{_sArtDsg_car}')\n",
    "_Bᴬʳᵗᴰˢᵍ"
   ]
  },
  {
   "cell_type": "code",
   "execution_count": 19,
   "metadata": {},
   "outputs": [
    {
     "data": {
      "text/plain": [
       "True"
      ]
     },
     "execution_count": 19,
     "metadata": {},
     "output_type": "execute_result"
    }
   ],
   "source": [
    "utils.is_normalized(_Bᴬʳᵗᴰˢᵍ)"
   ]
  },
  {
   "cell_type": "markdown",
   "metadata": {},
   "source": [
    "### 2.1.6 Prior preferences vector, $\\mathbf C$\n",
    "\n",
    "Now we parameterise the C vector, or the prior beliefs about observations. This will be used in the expression of the prior over actions, which is technically a softmax function of the negative expected free energy of each action. It is the equivalent of the exponentiated reward function in reinforcement learning treatments.\n"
   ]
  },
  {
   "cell_type": "code",
   "execution_count": 20,
   "metadata": {},
   "outputs": [
    {
     "data": {
      "text/plain": [
       "array([array([0., 0., 0.]), array([0., 0., 0.]), array([0., 0., 0.])],\n",
       "      dtype=object)"
      ]
     },
     "execution_count": 20,
     "metadata": {},
     "output_type": "execute_result"
    }
   ],
   "source": [
    "_Cᴬʳᵗᴰˢᵍ = utils.obj_array_zeros([y_car for y_car in _yArtDsg_car])\n",
    "_Cᴬʳᵗᴰˢᵍ"
   ]
  },
  {
   "cell_type": "code",
   "execution_count": 21,
   "metadata": {},
   "outputs": [
    {
     "data": {
      "text/plain": [
       "array([ 1., -1.,  0.])"
      ]
     },
     "execution_count": 21,
     "metadata": {},
     "output_type": "execute_result"
    }
   ],
   "source": [
    "_Cᴬʳᵗᴰˢᵍ[1][\n",
    "    _labDsg['y']['yᴬʳᵗᴰˢᵍ₂'].index('SHORT_OBS'),\n",
    "] = 1.0\n",
    "_Cᴬʳᵗᴰˢᵍ[1][\n",
    "    _labDsg['y']['yᴬʳᵗᴰˢᵍ₂'].index('MEDIUM_OBS'),\n",
    "] = -1.0\n",
    "_Cᴬʳᵗᴰˢᵍ[1][\n",
    "    _labDsg['y']['yᴬʳᵗᴰˢᵍ₂'].index('LONG_OBS'),\n",
    "] = 0.0\n",
    "\n",
    "_Cᴬʳᵗᴰˢᵍ[1]"
   ]
  },
  {
   "cell_type": "code",
   "execution_count": 22,
   "metadata": {},
   "outputs": [],
   "source": [
    "## utils.is_normalized(_Cᴬʳᵗᴰˢᵍ)"
   ]
  },
  {
   "cell_type": "markdown",
   "metadata": {},
   "source": [
    "### 2.1.7 Initialise an instance of the `Agent()` class:"
   ]
  },
  {
   "cell_type": "code",
   "execution_count": 23,
   "metadata": {},
   "outputs": [
    {
     "data": {
      "text/plain": [
       "<pymdp.agent.Agent at 0x7f2540062050>"
      ]
     },
     "execution_count": 23,
     "metadata": {},
     "output_type": "execute_result"
    }
   ],
   "source": [
    "_agtDsg = Agent(\n",
    "    A=_Aᴬʳᵗᴰˢᵍ, \n",
    "    B=_Bᴬʳᵗᴰˢᵍ, \n",
    "    C=_Cᴬʳᵗᴰˢᵍ, \n",
    "    control_fac_idx=_control_fac_idx_Dsg\n",
    ")\n",
    "_agtDsg"
   ]
  },
  {
   "cell_type": "markdown",
   "metadata": {},
   "source": [
    "## 2.2 Designer environment\n",
    "This is the Designer agent's *generative process* for its environment.\n",
    "\n",
    "It is important to note that the generative process doesn't have to be described by A and B matrices - it can just be the arbitrary 'rules of the game' that you 'write in' as a modeller. But here we just use the same transition/likelihood matrices to make the sampling process straightforward."
   ]
  },
  {
   "cell_type": "code",
   "execution_count": 24,
   "metadata": {},
   "outputs": [],
   "source": [
    "## observation/transition matrices characterising the generative process\n",
    "\n",
    "## currently only true values of Artifact\n",
    "## should be _Ăᴰˢᵍ to include true values of the complete Designer environment\n",
    "_Ăᴬʳᵗᴰˢᵍ = copy.deepcopy(_Aᴬʳᵗᴰˢᵍ)\n",
    "\n",
    "## True next-state may be calculated without a B matrix\n",
    "## currently only true values of Artifact\n",
    "## should be _B̆ᴰˢᵍ to include true values of the complete Designer environment\n",
    "_B̆ᴬʳᵗᴰˢᵍ = copy.deepcopy(_Bᴬʳᵗᴰˢᵍ)"
   ]
  },
  {
   "cell_type": "markdown",
   "metadata": {},
   "source": [
    "## 3.1 Artifact agent\n",
    "This is the Artifact agent's *generative model* for its environment."
   ]
  },
  {
   "cell_type": "markdown",
   "metadata": {},
   "source": [
    "### 3.1.1 State factors\n",
    "The inferred state factors from the Artifact's environment are:\n",
    "\n",
    "- $s^{\\mathrm{UsrArt}}_1$ (TOUCH_DATA)\n",
    "- $s^{\\mathrm{UsrArt}}_2$ (GESTURES)\n",
    "- $s^{\\mathrm{UsrArt}}_3$ (APP_SWITCHES) [LATER]\n",
    "\n",
    "#### 3.1.1.1 $s^{\\mathrm{UsrArt}}_1$ (TOUCH_DATA)\n",
    "It has possible values:\n",
    "\n",
    "- $s^{\\mathrm{UsrArt}}_1 = 0$, `FREQUENT`\n",
    "- $s^{\\mathrm{UsrArt}}_1 = 1$, `INFREQUENT`\n",
    "\n",
    "#### 3.1.1.2 $s^{\\mathrm{UsrArt}}_2$ (GESTURES)\n",
    "It has possible values:\n",
    "\n",
    "- $s^{\\mathrm{UsrArt}}_2 = 0$, `SWIPES`\n",
    "- $s^{\\mathrm{UsrArt}}_2 = 1$, `TAPS`\n",
    "- $s^{\\mathrm{UsrArt}}_2 = 2$, `VOICE`\n",
    "\n",
    "#### 3.1.1.3 $s^{\\mathrm{UsrArt}}_3$ (APP_SWITCHES) [LATER]\n",
    "It has possible values:\n",
    "\n",
    "- $s^{\\mathrm{UsrArt}}_3 = 0$, `FEW`\n",
    "- $s^{\\mathrm{UsrArt}}_3 = 1$, `MANY`\n"
   ]
  },
  {
   "cell_type": "markdown",
   "metadata": {},
   "source": [
    "### 3.1.2 Observation modalities \n",
    "The observed observation modalities from the Artifact's environment (inputs to the Artifact agent) are:\n",
    "\n",
    "- $y^{\\mathrm{UsrArt}}_1$ (TOUCH_DATA_OBS)\n",
    "- $y^{\\mathrm{UsrArt}}_2$ (GESTURES_OBS)\n",
    "- $y^{\\mathrm{UsrArt}}_3$ (APP_SWITCHES_OBS)\n",
    "\n",
    "#### 3.1.2.1 $y^{\\mathrm{UsrArt}}_1$ (TOUCH_DATA_OBS)\n",
    "It has two possible values:\n",
    "\n",
    "- $y^{\\mathrm{UsrArt}}_1 = 0$, `FREQUENT_OBS`\n",
    "- $y^{\\mathrm{UsrArt}}_1 = 1$, `INFREQUENT_OBS`\n",
    "\n",
    "#### 3.1.2.2 $y^{\\mathrm{UsrArt}}_1$ (GESTURES_OBS)\n",
    "It has three possible values:\n",
    "\n",
    "- $y^{\\mathrm{UsrArt}}_1 = 0$, `SWIPES_OBS`\n",
    "- $y^{\\mathrm{UsrArt}}_1 = 1$, `TAPS_OBS`\n",
    "- $y^{\\mathrm{UsrArt}}_1 = 2$, `VOICE_OBS`\n",
    "\n",
    "#### 3.1.1.3 $s^{\\mathrm{UsrArt}}_1$ (APP_SWITCHES_OBS)\n",
    "It has three possible values: \n",
    "\n",
    "- $y^{\\mathrm{UsrArt}}_3 = 0$, `FEW_OBS`\n",
    "- $y^{\\mathrm{UsrArt}}_3 = 1$, `SOME_OBS`\n",
    "- $y^{\\mathrm{UsrArt}}_3 = 2$, `MANY_OBS`"
   ]
  },
  {
   "cell_type": "markdown",
   "metadata": {},
   "source": [
    "### 3.1.3 Control factors\n",
    "\n",
    "The 'control state' factors are the agent's representation of the control states (or actions) that _it believes_ can influence the dynamics of the hidden states - i.e. hidden state factors that are under the influence of control states are are 'controllable'. In practice, we often encode _every_ hidden state factor as being under the influence of control states, but the 'uncontrollable' hidden state factors are driven by a trivially-1-dimensional control state or action-affordance. This trivial action simply 'maintains the default environmental dynamics as they are' i.e. does nothing. This will become more clear when we set up the transition model (the `B` matrices) below.\n",
    "\n",
    "The action control factors to the Artifact's environment (outputs from the Artifact agent) are:\n",
    "\n",
    "- $a^{\\mathrm{ArtUsr}}_1$ (NULL)\n",
    "- $a^{\\mathrm{ArtUsr}}_2$ (ADJUST_SCREEN_OUTPUT_ACTION)\n",
    "\n",
    "#### 3.1.3.1 $a^{\\mathrm{ArtUsr}}_1$ (NULL)\n",
    "It has one possible value:\n",
    "\n",
    "- $a^{\\mathrm{ArtUsr}}_1 = 0$, `NULL_ACT`\n",
    "\n",
    "#### 3.1.3.2 $a^{\\mathrm{ArtUsr}}_2$ (ADJUST_SCREEN_OUTPUT_ACTION)\n",
    "It has three possible values:\n",
    "\n",
    "- $a^{\\mathrm{ArtUsr}}_1 = 0$, `ADJUST_NOTIFS_ACT`\n",
    "- $a^{\\mathrm{ArtUsr}}_2 = 1$, `ADJUST_COLORS_ACT`\n",
    "- $a^{\\mathrm{ArtUsr}}_3 = 2$, `ADJUST_TEXT_SIZE_ACT`"
   ]
  },
  {
   "cell_type": "code",
   "execution_count": 25,
   "metadata": {},
   "outputs": [
    {
     "data": {
      "text/plain": [
       "([3, 3, 3], 3, [2, 3], 2, [1, 3], 2)"
      ]
     },
     "execution_count": 25,
     "metadata": {},
     "output_type": "execute_result"
    }
   ],
   "source": [
    "_labArt = { ## labels for Artifact interaction\n",
    "    \"a\": {\n",
    "        \"aᴬʳᵗᵁˢʳ₁\": [ ## \"NULL\"\n",
    "            \"NULL_ACT\",\n",
    "        ],\n",
    "        \"aᴬʳᵗᵁˢʳ₂\": [ ## \"ADJUST_SCREEN_OUTPUT_ACTION\"\n",
    "            \"ADJUST_NOTIFS_ACT\",\n",
    "            \"ADJUST_COLORS_ACT\",\n",
    "            \"ADJUST_TEXT_SIZE_ACT\"\n",
    "        ],\n",
    "    },\n",
    "    \"s\": {\n",
    "        \"sᵁˢʳᴬʳᵗ₁\": [ ## \"TOUCH_DATA\"\n",
    "            \"FREQUENT\", \n",
    "            \"INFREQUENT\",\n",
    "        ],\n",
    "        \"sᵁˢʳᴬʳᵗ₂\": [ ## \"GESTURES\"\n",
    "            \"SWIPES\", \n",
    "            \"TAPS\",\n",
    "            \"VOICE\"\n",
    "        ],\n",
    "    },\n",
    "    \"s̆\": {\n",
    "        \"s̆ᵁˢʳᴬʳᵗ₁\": [ ## \"TOUCH_DATA\"\n",
    "            \"FREQUENT\", \n",
    "            \"INFREQUENT\",\n",
    "        ],\n",
    "        \"s̆ᵁˢʳᴬʳᵗ₂\": [ ## \"GESTURES\"\n",
    "            \"SWIPES\", \n",
    "            \"TAPS\",\n",
    "            \"VOICE\"\n",
    "        ],\n",
    "    },\n",
    "    \"y\": {\n",
    "        \"yᵁˢʳᴬʳᵗ₁\": [ ## \"TOUCH_DATA_OBS\"\n",
    "            \"FREQUENT_OBS\",\n",
    "            \"MODERATE_OBS\",\n",
    "            \"INFREQUENT_OBS\"\n",
    "        ],\n",
    "        \"yᵁˢʳᴬʳᵗ₂\": [ ## \"GESTURES_OBS\"\n",
    "            \"SWIPES_OBS\",\n",
    "            \"TAPS_OBS\",\n",
    "            \"VOICE_OBS\"\n",
    "        ],\n",
    "        \"yᵁˢʳᴬʳᵗ₃\": [ ## \"APP_SWITCHES_OBS\"\n",
    "            \"FEW_OBS\",\n",
    "            \"SOME_OBS\",\n",
    "            \"MANY_OBS\"\n",
    "        ],\n",
    "    },\n",
    "}\n",
    "_yUsrArt_car,_yUsrArt_num, _sUsrArt_car,_sUsrArt_num, _aArtUsr_car,_aArtUsr_num = get_model_dimensions_from_labels(_labArt)\n",
    "_yUsrArt_car,_yUsrArt_num, _sUsrArt_car,_sUsrArt_num, _aArtUsr_car,_aArtUsr_num"
   ]
  },
  {
   "cell_type": "code",
   "execution_count": 26,
   "metadata": {},
   "outputs": [
    {
     "name": "stdout",
     "output_type": "stream",
     "text": [
      "_aArtUsr_car=[1, 3]\n",
      "_aArtUsr_num=2\n",
      "_sUsrArt_car=[2, 3]\n",
      "_sUsrArt_num=2\n",
      "_yUsrArt_car=[3, 3, 3]\n",
      "_yUsrArt_num=3\n"
     ]
    }
   ],
   "source": [
    "print(f'{_aArtUsr_car=}') ## cardinality of control factors\n",
    "print(f'{_aArtUsr_num=}') ## number of control factors\n",
    "\n",
    "print(f'{_sUsrArt_car=}') ## cardinality of state factors\n",
    "print(f'{_sUsrArt_num=}') ## number of state factors\n",
    "\n",
    "print(f'{_yUsrArt_car=}') ## cardinality of observation modalities\n",
    "print(f'{_yUsrArt_num=}') ## number of observation modalities"
   ]
  },
  {
   "cell_type": "code",
   "execution_count": 27,
   "metadata": {},
   "outputs": [
    {
     "name": "stdout",
     "output_type": "stream",
     "text": [
      "_aArtUsr_fac_names=['aᴬʳᵗᵁˢʳ₁', 'aᴬʳᵗᵁˢʳ₂']\n",
      "_sUsrArt_fac_names=['sᵁˢʳᴬʳᵗ₁', 'sᵁˢʳᴬʳᵗ₂']\n",
      "_s̆UsrArt_fac_names=['s̆ᵁˢʳᴬʳᵗ₁', 's̆ᵁˢʳᴬʳᵗ₂']\n",
      "_yUsrArt_mod_names=['yᵁˢʳᴬʳᵗ₁', 'yᵁˢʳᴬʳᵗ₂', 'yᵁˢʳᴬʳᵗ₃']\n"
     ]
    }
   ],
   "source": [
    "_aArtUsr_fac_names = list(_labArt['a'].keys()); print(f'{_aArtUsr_fac_names=}') ## control factor names\n",
    "_sUsrArt_fac_names = list(_labArt['s'].keys()); print(f'{_sUsrArt_fac_names=}') ## state factor names\n",
    "_s̆UsrArt_fac_names = list(_labArt['s̆'].keys()); print(f'{_s̆UsrArt_fac_names=}') ## state factor names\n",
    "_yUsrArt_mod_names = list(_labArt['y'].keys()); print(f'{_yUsrArt_mod_names=}') ## observation modality names"
   ]
  },
  {
   "cell_type": "markdown",
   "metadata": {},
   "source": [
    "### 3.1.4 Observation likelihood matrix, $\\mathbf A$\n",
    "We now setup the observation likelihood matrix which is the first main component of the generative model."
   ]
  },
  {
   "cell_type": "code",
   "execution_count": 28,
   "metadata": {},
   "outputs": [
    {
     "name": "stdout",
     "output_type": "stream",
     "text": [
      "len(_Aᵁˢʳᴬʳᵗ)=3\n"
     ]
    },
    {
     "data": {
      "text/plain": [
       "array([array([[[0., 0., 0.],\n",
       "               [0., 0., 0.]],\n",
       "\n",
       "              [[0., 0., 0.],\n",
       "               [0., 0., 0.]],\n",
       "\n",
       "              [[0., 0., 0.],\n",
       "               [0., 0., 0.]]]), array([[[0., 0., 0.],\n",
       "                                        [0., 0., 0.]],\n",
       "\n",
       "                                       [[0., 0., 0.],\n",
       "                                        [0., 0., 0.]],\n",
       "\n",
       "                                       [[0., 0., 0.],\n",
       "                                        [0., 0., 0.]]]),\n",
       "       array([[[0., 0., 0.],\n",
       "               [0., 0., 0.]],\n",
       "\n",
       "              [[0., 0., 0.],\n",
       "               [0., 0., 0.]],\n",
       "\n",
       "              [[0., 0., 0.],\n",
       "               [0., 0., 0.]]])], dtype=object)"
      ]
     },
     "execution_count": 28,
     "metadata": {},
     "output_type": "execute_result"
    }
   ],
   "source": [
    "_Aᵁˢʳᴬʳᵗ = utils.obj_array_zeros([[y_car] + _sUsrArt_car for y_car in _yUsrArt_car])\n",
    "print(f'{len(_Aᵁˢʳᴬʳᵗ)=}')\n",
    "_Aᵁˢʳᴬʳᵗ"
   ]
  },
  {
   "cell_type": "markdown",
   "metadata": {},
   "source": [
    "#### 3.1.4.1 Observation modality $y^{\\mathrm{UsrArt}}_1$ (TOUCH_DATA_OBS)"
   ]
  },
  {
   "cell_type": "markdown",
   "metadata": {},
   "source": [
    "We setup this modality's likelihood mapping, corresponding to how $y^{\\mathrm{UsrArt}}_1$ (TOUCH_DATA_OBS) is related to hidden states."
   ]
  },
  {
   "cell_type": "code",
   "execution_count": 29,
   "metadata": {},
   "outputs": [
    {
     "data": {
      "text/plain": [
       "array([[[0. , 0. , 0.8],\n",
       "        [0. , 0. , 0.2]],\n",
       "\n",
       "       [[0. , 0. , 0.2],\n",
       "        [0. , 0. , 0.8]],\n",
       "\n",
       "       [[1. , 1. , 0. ],\n",
       "        [1. , 1. , 0. ]]])"
      ]
     },
     "execution_count": 29,
     "metadata": {},
     "output_type": "execute_result"
    }
   ],
   "source": [
    "_Aᵁˢʳᴬʳᵗ[0][\n",
    "    _labArt['y']['yᵁˢʳᴬʳᵗ₁'].index('INFREQUENT_OBS'), \n",
    "    :, \n",
    "    _labArt['s']['sᵁˢʳᴬʳᵗ₂'].index('SWIPES')\n",
    "] = 1.0\n",
    "_Aᵁˢʳᴬʳᵗ[0][\n",
    "    _labArt['y']['yᵁˢʳᴬʳᵗ₁'].index('INFREQUENT_OBS'), \n",
    "    :, \n",
    "    _labArt['s']['sᵁˢʳᴬʳᵗ₂'].index('TAPS')\n",
    "] = 1.0\n",
    "_Aᵁˢʳᴬʳᵗ[0][\n",
    "    _labArt['y']['yᵁˢʳᴬʳᵗ₁'].index('FREQUENT_OBS'),\n",
    "    _labArt['s']['sᵁˢʳᴬʳᵗ₁'].index('FREQUENT'), \n",
    "    _labArt['s']['sᵁˢʳᴬʳᵗ₂'].index('VOICE')\n",
    "] = 0.8\n",
    "_Aᵁˢʳᴬʳᵗ[0][\n",
    "    _labArt['y']['yᵁˢʳᴬʳᵗ₁'].index('MODERATE_OBS'),\n",
    "    _labArt['s']['sᵁˢʳᴬʳᵗ₁'].index('FREQUENT'), \n",
    "    _labArt['s']['sᵁˢʳᴬʳᵗ₂'].index('VOICE')\n",
    "] = 0.2\n",
    "\n",
    "_Aᵁˢʳᴬʳᵗ[0][\n",
    "    _labArt['y']['yᵁˢʳᴬʳᵗ₁'].index('MODERATE_OBS'),\n",
    "    _labArt['s']['sᵁˢʳᴬʳᵗ₁'].index('INFREQUENT'), \n",
    "    _labArt['s']['sᵁˢʳᴬʳᵗ₂'].index('VOICE')\n",
    "] = 0.8\n",
    "_Aᵁˢʳᴬʳᵗ[0][\n",
    "    _labArt['y']['yᵁˢʳᴬʳᵗ₁'].index('FREQUENT_OBS'),\n",
    "    _labArt['s']['sᵁˢʳᴬʳᵗ₁'].index('INFREQUENT'), \n",
    "    _labArt['s']['sᵁˢʳᴬʳᵗ₂'].index('VOICE')\n",
    "] = 0.2\n",
    "\n",
    "_Aᵁˢʳᴬʳᵗ[0]"
   ]
  },
  {
   "cell_type": "markdown",
   "metadata": {},
   "source": [
    "#### 3.1.4.2 Observation modality $y^{\\mathrm{UsrArt}}_2$ (GESTURES_OBS)"
   ]
  },
  {
   "cell_type": "markdown",
   "metadata": {},
   "source": [
    "We setup this modality's likelihood mapping, corresponding to how $y^{\\mathrm{UsrArt}}_2$ (GESTURES_OBS) is related to hidden states."
   ]
  },
  {
   "cell_type": "code",
   "execution_count": 30,
   "metadata": {},
   "outputs": [
    {
     "data": {
      "text/plain": [
       "array([[[0.        , 0.73105858, 0.        ],\n",
       "        [0.        , 0.26894142, 0.        ]],\n",
       "\n",
       "       [[0.        , 0.26894142, 0.        ],\n",
       "        [0.        , 0.73105858, 0.        ]],\n",
       "\n",
       "       [[1.        , 0.        , 1.        ],\n",
       "        [1.        , 0.        , 1.        ]]])"
      ]
     },
     "execution_count": 30,
     "metadata": {},
     "output_type": "execute_result"
    }
   ],
   "source": [
    "_Aᵁˢʳᴬʳᵗ[1][\n",
    "    _labArt['y']['yᵁˢʳᴬʳᵗ₂'].index('VOICE_OBS'), \n",
    "    :, \n",
    "    _labArt['s']['sᵁˢʳᴬʳᵗ₂'].index('SWIPES')\n",
    "] = 1.0\n",
    "\n",
    "_Aᵁˢʳᴬʳᵗ[1][\n",
    "    _labArt['y']['yᵁˢʳᴬʳᵗ₂'].index('VOICE_OBS'), \n",
    "    :, \n",
    "    _labArt['s']['sᵁˢʳᴬʳᵗ₂'].index('VOICE')\n",
    "] = 1.0\n",
    "\n",
    "_FREQUENT_MAPPING_ART = softmax(np.array([1.0, 0]))\n",
    "_INFREQUENT_MAPPING_ART = softmax(np.array([0.0, 1.0]))\n",
    "\n",
    "_Aᵁˢʳᴬʳᵗ[1][\n",
    "    _labArt['y']['yᵁˢʳᴬʳᵗ₂'].index('SWIPES_OBS'),\n",
    "    _labArt['s']['sᵁˢʳᴬʳᵗ₁'].index('FREQUENT'), \n",
    "    _labArt['s']['sᵁˢʳᴬʳᵗ₂'].index('TAPS')\n",
    "] = _FREQUENT_MAPPING_ART[0]\n",
    "_Aᵁˢʳᴬʳᵗ[1][\n",
    "    _labArt['y']['yᵁˢʳᴬʳᵗ₂'].index('TAPS_OBS'),\n",
    "    _labArt['s']['sᵁˢʳᴬʳᵗ₁'].index('FREQUENT'), \n",
    "    _labArt['s']['sᵁˢʳᴬʳᵗ₂'].index('TAPS')\n",
    "] = _FREQUENT_MAPPING_ART[1]\n",
    "\n",
    "_Aᵁˢʳᴬʳᵗ[1][\n",
    "    _labArt['y']['yᵁˢʳᴬʳᵗ₂'].index('SWIPES_OBS'),\n",
    "    _labArt['s']['sᵁˢʳᴬʳᵗ₁'].index('INFREQUENT'), \n",
    "    _labArt['s']['sᵁˢʳᴬʳᵗ₂'].index('TAPS')\n",
    "] = _INFREQUENT_MAPPING_ART[0]\n",
    "_Aᵁˢʳᴬʳᵗ[1][\n",
    "    _labArt['y']['yᵁˢʳᴬʳᵗ₂'].index('TAPS_OBS'),\n",
    "    _labArt['s']['sᵁˢʳᴬʳᵗ₁'].index('INFREQUENT'), \n",
    "    _labArt['s']['sᵁˢʳᴬʳᵗ₂'].index('TAPS')\n",
    "] = _INFREQUENT_MAPPING_ART[1]\n",
    "\n",
    "_Aᵁˢʳᴬʳᵗ[1]"
   ]
  },
  {
   "cell_type": "markdown",
   "metadata": {},
   "source": [
    "#### 3.1.4.3 Observation modality $y^{\\mathrm{UsrArt}}_3$ (APP_SWITCHES_OBS)"
   ]
  },
  {
   "cell_type": "markdown",
   "metadata": {},
   "source": [
    "We setup this modality's likelihood mapping, corresponding to how $y^{\\mathrm{UsrArt}}_3$ (APP_SWITCHES_OBS) is related to hidden states."
   ]
  },
  {
   "cell_type": "code",
   "execution_count": 31,
   "metadata": {},
   "outputs": [
    {
     "data": {
      "text/plain": [
       "array([[[1., 0., 0.],\n",
       "        [1., 0., 0.]],\n",
       "\n",
       "       [[0., 1., 0.],\n",
       "        [0., 1., 0.]],\n",
       "\n",
       "       [[0., 0., 1.],\n",
       "        [0., 0., 1.]]])"
      ]
     },
     "execution_count": 31,
     "metadata": {},
     "output_type": "execute_result"
    }
   ],
   "source": [
    "_Aᵁˢʳᴬʳᵗ[2][\n",
    "    _labArt['y']['yᵁˢʳᴬʳᵗ₃'].index('FEW_OBS'), \n",
    "    :, \n",
    "    _labArt['s']['sᵁˢʳᴬʳᵗ₂'].index('SWIPES')\n",
    "] = 1.0\n",
    "_Aᵁˢʳᴬʳᵗ[2][\n",
    "    _labArt['y']['yᵁˢʳᴬʳᵗ₃'].index('SOME_OBS'), \n",
    "    :, \n",
    "    _labArt['s']['sᵁˢʳᴬʳᵗ₂'].index('TAPS')\n",
    "] = 1.0\n",
    "_Aᵁˢʳᴬʳᵗ[2][\n",
    "    _labArt['y']['yᵁˢʳᴬʳᵗ₃'].index('MANY_OBS'), \n",
    "    :, \n",
    "    _labArt['s']['sᵁˢʳᴬʳᵗ₂'].index('VOICE')\n",
    "] = 1.0\n",
    "\n",
    "_Aᵁˢʳᴬʳᵗ[2]"
   ]
  },
  {
   "cell_type": "code",
   "execution_count": 32,
   "metadata": {},
   "outputs": [
    {
     "name": "stdout",
     "output_type": "stream",
     "text": [
      "=== _sUsrArt_car:\n",
      "[2, 3]\n",
      "=== _yUsrArt_car:\n",
      "[3, 3, 3]\n"
     ]
    },
    {
     "data": {
      "text/plain": [
       "array([array([[[0. , 0. , 0.8],\n",
       "               [0. , 0. , 0.2]],\n",
       "\n",
       "              [[0. , 0. , 0.2],\n",
       "               [0. , 0. , 0.8]],\n",
       "\n",
       "              [[1. , 1. , 0. ],\n",
       "               [1. , 1. , 0. ]]]),\n",
       "       array([[[0.        , 0.73105858, 0.        ],\n",
       "               [0.        , 0.26894142, 0.        ]],\n",
       "\n",
       "              [[0.        , 0.26894142, 0.        ],\n",
       "               [0.        , 0.73105858, 0.        ]],\n",
       "\n",
       "              [[1.        , 0.        , 1.        ],\n",
       "               [1.        , 0.        , 1.        ]]]),\n",
       "       array([[[1., 0., 0.],\n",
       "               [1., 0., 0.]],\n",
       "\n",
       "              [[0., 1., 0.],\n",
       "               [0., 1., 0.]],\n",
       "\n",
       "              [[0., 0., 1.],\n",
       "               [0., 0., 1.]]])], dtype=object)"
      ]
     },
     "execution_count": 32,
     "metadata": {},
     "output_type": "execute_result"
    }
   ],
   "source": [
    "## 3 matrices of 2x3\n",
    "## 3 matrices of 2x3\n",
    "## 3 matrices of 2x3\n",
    "print(f'=== _sUsrArt_car:\\n{_sUsrArt_car}')\n",
    "print(f'=== _yUsrArt_car:\\n{_yUsrArt_car}')\n",
    "_Aᵁˢʳᴬʳᵗ"
   ]
  },
  {
   "cell_type": "code",
   "execution_count": 33,
   "metadata": {},
   "outputs": [
    {
     "data": {
      "text/plain": [
       "True"
      ]
     },
     "execution_count": 33,
     "metadata": {},
     "output_type": "execute_result"
    }
   ],
   "source": [
    "utils.is_normalized(_Aᵁˢʳᴬʳᵗ)"
   ]
  },
  {
   "cell_type": "markdown",
   "metadata": {},
   "source": [
    "### 3.1.5 State transition matrix, $\\mathbf B$"
   ]
  },
  {
   "cell_type": "code",
   "execution_count": 34,
   "metadata": {},
   "outputs": [
    {
     "name": "stdout",
     "output_type": "stream",
     "text": [
      "_sUsrArt_num=2\n",
      "len(_Bᵁˢʳᴬʳᵗ)=2\n"
     ]
    },
    {
     "data": {
      "text/plain": [
       "array([None, None], dtype=object)"
      ]
     },
     "execution_count": 34,
     "metadata": {},
     "output_type": "execute_result"
    }
   ],
   "source": [
    "_Bᵁˢʳᴬʳᵗ = utils.obj_array(_sUsrArt_num); print(f'{_sUsrArt_num=}')\n",
    "print(f'{len(_Bᵁˢʳᴬʳᵗ)=}')\n",
    "_Bᵁˢʳᴬʳᵗ"
   ]
  },
  {
   "cell_type": "markdown",
   "metadata": {},
   "source": [
    "#### 3.1.5.1 Control factor $a^{\\mathrm{ArtUsr}}_1$ (NULL)"
   ]
  },
  {
   "cell_type": "code",
   "execution_count": 35,
   "metadata": {},
   "outputs": [
    {
     "name": "stdout",
     "output_type": "stream",
     "text": [
      "_sUsrArt_car[0]=2, _sUsrArt_car[0]=2, _aArtUsr_car[0]=1\n"
     ]
    },
    {
     "data": {
      "text/plain": [
       "array([[[0.],\n",
       "        [0.]],\n",
       "\n",
       "       [[0.],\n",
       "        [0.]]])"
      ]
     },
     "execution_count": 35,
     "metadata": {},
     "output_type": "execute_result"
    }
   ],
   "source": [
    "_Bᵁˢʳᴬʳᵗ[0] = np.zeros((_sUsrArt_car[0], _sUsrArt_car[0], _aArtUsr_car[0])); print(f'{_sUsrArt_car[0]=}, {_sUsrArt_car[0]=}, {_aArtUsr_car[0]=}')\n",
    "_Bᵁˢʳᴬʳᵗ[0]"
   ]
  },
  {
   "cell_type": "code",
   "execution_count": 36,
   "metadata": {},
   "outputs": [
    {
     "data": {
      "text/plain": [
       "array([[[1.],\n",
       "        [0.]],\n",
       "\n",
       "       [[0.],\n",
       "        [1.]]])"
      ]
     },
     "execution_count": 36,
     "metadata": {},
     "output_type": "execute_result"
    }
   ],
   "source": [
    "_p_stochArt = 0.0\n",
    "\n",
    "## we cannot influence factor zero, set up the 'default' stationary dynamics - \n",
    "## one state just maps to itself at the next timestep with very high probability, \n",
    "## by default. So this means the TOUCH_DATA state can change from one to another with \n",
    "## some low probability (p_stoch)\n",
    "\n",
    "_Bᵁˢʳᴬʳᵗ[0][\n",
    "    _labArt['s']['sᵁˢʳᴬʳᵗ₁'].index('FREQUENT'),\n",
    "    _labArt['s']['sᵁˢʳᴬʳᵗ₁'].index('FREQUENT'), \n",
    "    _labArt['a']['aᴬʳᵗᵁˢʳ₁'].index('NULL_ACT')\n",
    "] = 1.0 - _p_stochArt\n",
    "\n",
    "_Bᵁˢʳᴬʳᵗ[0][\n",
    "    _labArt['s']['sᵁˢʳᴬʳᵗ₁'].index('INFREQUENT'),\n",
    "    _labArt['s']['sᵁˢʳᴬʳᵗ₁'].index('FREQUENT'), \n",
    "    _labArt['a']['aᴬʳᵗᵁˢʳ₁'].index('NULL_ACT')\n",
    "] = _p_stochArt\n",
    "\n",
    "_Bᵁˢʳᴬʳᵗ[0][\n",
    "    _labArt['s']['sᵁˢʳᴬʳᵗ₁'].index('INFREQUENT'),\n",
    "    _labArt['s']['sᵁˢʳᴬʳᵗ₁'].index('INFREQUENT'), \n",
    "    _labArt['a']['aᴬʳᵗᵁˢʳ₁'].index('NULL_ACT')\n",
    "] = 1.0 - _p_stochArt\n",
    "\n",
    "_Bᵁˢʳᴬʳᵗ[0][\n",
    "    _labArt['s']['sᵁˢʳᴬʳᵗ₁'].index('FREQUENT'),\n",
    "    _labArt['s']['sᵁˢʳᴬʳᵗ₁'].index('INFREQUENT'), \n",
    "    _labArt['a']['aᴬʳᵗᵁˢʳ₁'].index('NULL_ACT')\n",
    "] = _p_stochArt\n",
    "\n",
    "_Bᵁˢʳᴬʳᵗ[0]"
   ]
  },
  {
   "cell_type": "markdown",
   "metadata": {},
   "source": [
    "#### 3.1.5.2 Control factor $a^{\\mathrm{ArtUsr}}_2$ (ADJUST_SCREEN_OUTPUT_ACTION)"
   ]
  },
  {
   "cell_type": "markdown",
   "metadata": {},
   "source": [
    "We setup this factor's mapping, corresponding to how $a^{\\mathrm{ArtUsr}}_2$ (ADJUST_SCREEN_OUTPUT_ACTION) is related to hidden states."
   ]
  },
  {
   "cell_type": "code",
   "execution_count": 37,
   "metadata": {},
   "outputs": [
    {
     "data": {
      "text/plain": [
       "array([[[1., 0., 0.],\n",
       "        [1., 0., 0.],\n",
       "        [1., 0., 0.]],\n",
       "\n",
       "       [[0., 1., 0.],\n",
       "        [0., 1., 0.],\n",
       "        [0., 1., 0.]],\n",
       "\n",
       "       [[0., 0., 1.],\n",
       "        [0., 0., 1.],\n",
       "        [0., 0., 1.]]])"
      ]
     },
     "execution_count": 37,
     "metadata": {},
     "output_type": "execute_result"
    }
   ],
   "source": [
    "_Bᵁˢʳᴬʳᵗ[1] = np.zeros((_sUsrArt_car[1], _sUsrArt_car[1], _aArtUsr_car[1]))\n",
    "\n",
    "_Bᵁˢʳᴬʳᵗ[1][\n",
    "    _labArt['s']['sᵁˢʳᴬʳᵗ₂'].index('SWIPES'), \n",
    "    :, \n",
    "    _labArt['a']['aᴬʳᵗᵁˢʳ₂'].index('ADJUST_NOTIFS_ACT')\n",
    "] = 1.0\n",
    "_Bᵁˢʳᴬʳᵗ[1][\n",
    "    _labArt['s']['sᵁˢʳᴬʳᵗ₂'].index('TAPS'), \n",
    "    :, \n",
    "    _labArt['a']['aᴬʳᵗᵁˢʳ₂'].index('ADJUST_COLORS_ACT')\n",
    "] = 1.0\n",
    "_Bᵁˢʳᴬʳᵗ[1][\n",
    "    _labArt['s']['sᵁˢʳᴬʳᵗ₂'].index('VOICE'), \n",
    "    :, \n",
    "    _labArt['a']['aᴬʳᵗᵁˢʳ₂'].index('ADJUST_TEXT_SIZE_ACT')\n",
    "] = 1.0\n",
    "\n",
    "_Bᵁˢʳᴬʳᵗ[1]"
   ]
  },
  {
   "cell_type": "code",
   "execution_count": 38,
   "metadata": {},
   "outputs": [
    {
     "name": "stdout",
     "output_type": "stream",
     "text": [
      "=== _aArtUsr_car:\n",
      "[1, 3]\n",
      "=== _sUsrArt_car:\n",
      "[2, 3]\n"
     ]
    },
    {
     "data": {
      "text/plain": [
       "array([array([[[1.],\n",
       "               [0.]],\n",
       "\n",
       "              [[0.],\n",
       "               [1.]]]), array([[[1., 0., 0.],\n",
       "                                [1., 0., 0.],\n",
       "                                [1., 0., 0.]],\n",
       "\n",
       "                               [[0., 1., 0.],\n",
       "                                [0., 1., 0.],\n",
       "                                [0., 1., 0.]],\n",
       "\n",
       "                               [[0., 0., 1.],\n",
       "                                [0., 0., 1.],\n",
       "                                [0., 0., 1.]]])], dtype=object)"
      ]
     },
     "execution_count": 38,
     "metadata": {},
     "output_type": "execute_result"
    }
   ],
   "source": [
    "## 2 matrices of 2x1\n",
    "## 3 matrices of 3x3\n",
    "print(f'=== _aArtUsr_car:\\n{_aArtUsr_car}')\n",
    "print(f'=== _sUsrArt_car:\\n{_sUsrArt_car}')\n",
    "_Bᵁˢʳᴬʳᵗ"
   ]
  },
  {
   "cell_type": "code",
   "execution_count": 39,
   "metadata": {},
   "outputs": [
    {
     "data": {
      "text/plain": [
       "True"
      ]
     },
     "execution_count": 39,
     "metadata": {},
     "output_type": "execute_result"
    }
   ],
   "source": [
    "utils.is_normalized(_Bᵁˢʳᴬʳᵗ)"
   ]
  },
  {
   "cell_type": "markdown",
   "metadata": {},
   "source": [
    "### 3.1.6 Prior preferences vector, $\\mathbf C$\n",
    "\n",
    "Now we parameterise the C vector, or the prior beliefs about observations. This will be used in the expression of the prior over actions, which is technically a softmax function of the negative expected free energy of each action. It is the equivalent of the exponentiated reward function in reinforcement learning treatments."
   ]
  },
  {
   "cell_type": "code",
   "execution_count": 40,
   "metadata": {},
   "outputs": [
    {
     "data": {
      "text/plain": [
       "array([array([0., 0., 0.]), array([0., 0., 0.]), array([0., 0., 0.])],\n",
       "      dtype=object)"
      ]
     },
     "execution_count": 40,
     "metadata": {},
     "output_type": "execute_result"
    }
   ],
   "source": [
    "_Cᵁˢʳᴬʳᵗ = utils.obj_array_zeros([y_car for y_car in _yUsrArt_car])\n",
    "_Cᵁˢʳᴬʳᵗ"
   ]
  },
  {
   "cell_type": "code",
   "execution_count": 41,
   "metadata": {},
   "outputs": [
    {
     "data": {
      "text/plain": [
       "array([ 1., -1.,  0.])"
      ]
     },
     "execution_count": 41,
     "metadata": {},
     "output_type": "execute_result"
    }
   ],
   "source": [
    "_Cᵁˢʳᴬʳᵗ[1][\n",
    "    _labArt['y']['yᵁˢʳᴬʳᵗ₂'].index('SWIPES_OBS'),\n",
    "] = 1.0\n",
    "_Cᵁˢʳᴬʳᵗ[1][\n",
    "    _labArt['y']['yᵁˢʳᴬʳᵗ₂'].index('TAPS_OBS'),\n",
    "] = -1.0\n",
    "_Cᵁˢʳᴬʳᵗ[1][\n",
    "    _labArt['y']['yᵁˢʳᴬʳᵗ₂'].index('VOICE_OBS'),\n",
    "] = 0.0\n",
    "\n",
    "_Cᵁˢʳᴬʳᵗ[1]"
   ]
  },
  {
   "cell_type": "code",
   "execution_count": 42,
   "metadata": {},
   "outputs": [],
   "source": [
    "## utils.is_normalized(_Cᵁˢʳᴬʳᵗ)"
   ]
  },
  {
   "cell_type": "markdown",
   "metadata": {},
   "source": [
    "### 3.1.7 Initialise an instance of the `Agent()` class:"
   ]
  },
  {
   "cell_type": "code",
   "execution_count": 43,
   "metadata": {},
   "outputs": [
    {
     "data": {
      "text/plain": [
       "<pymdp.agent.Agent at 0x7f2540063940>"
      ]
     },
     "execution_count": 43,
     "metadata": {},
     "output_type": "execute_result"
    }
   ],
   "source": [
    "_agtArt = Agent(\n",
    "    A=_Aᵁˢʳᴬʳᵗ, \n",
    "    B=_Bᵁˢʳᴬʳᵗ, \n",
    "    C=_Cᵁˢʳᴬʳᵗ, \n",
    ")\n",
    "_agtArt"
   ]
  },
  {
   "cell_type": "markdown",
   "metadata": {},
   "source": [
    "## 3.2 Artifact environment\n",
    "\n",
    "This is the Artifact agent's *generative process* for its environment.\n",
    "\n",
    "It is important to note that the generative process doesn't have to be described by A and B matrices - it can just be the arbitrary 'rules of the game' that you 'write in' as a modeller. But here we just use the same transition/likelihood matrices to make the sampling process straightforward."
   ]
  },
  {
   "cell_type": "code",
   "execution_count": 44,
   "metadata": {},
   "outputs": [],
   "source": [
    "## observation/transition matrices characterising the generative process\n",
    "_Ăᵁˢʳᴬʳᵗ = copy.deepcopy(_Aᵁˢʳᴬʳᵗ)\n",
    "_B̆ᵁˢʳᴬʳᵗ = copy.deepcopy(_Bᵁˢʳᴬʳᵗ)"
   ]
  },
  {
   "cell_type": "markdown",
   "metadata": {},
   "source": [
    "## 4.1 User agent\n",
    "This is the User agent's *generative model* for its environment."
   ]
  },
  {
   "cell_type": "markdown",
   "metadata": {},
   "source": [
    "### 4.1.1 State factors\n",
    "The inferred state factors from the User's environment are:\n",
    "\n",
    "- $s^{\\mathrm{ArtUsr}}_1$ (CONVERSION_POTENTIAL)\n",
    "\n",
    "#### 4.1.1.1 $s^{\\mathrm{ArtUsr}}_1$ (CONVERSION_POTENTIAL)\n",
    "It has possible values:\n",
    "\n",
    "- $s^{\\mathrm{ArtUsr}}_1 = 0$, `LOW`\n",
    "- $s^{\\mathrm{ArtUsr}}_1 = 1$, `HIGH`"
   ]
  },
  {
   "cell_type": "markdown",
   "metadata": {},
   "source": [
    "### 4.1.2 Observation modalities \n",
    "The observed observation modalities from the User's environment are:\n",
    "\n",
    "- $y^{\\mathrm{ArtUsr}}_1$ (CONVERSION_POTENTIAL_OBS)\n",
    "\n",
    "#### 4.1.2.1 $y^{\\mathrm{ArtUsr}}_1$ (CONVERSION_POTENTIAL_OBS)\n",
    "It has two possible values:\n",
    "\n",
    "- $y^{\\mathrm{ArtUsr}}_1 = 0$, `LOW_OBS`\n",
    "- $y^{\\mathrm{ArtUsr}}_1 = 1$, `HIGH_OBS`\n"
   ]
  },
  {
   "cell_type": "markdown",
   "metadata": {},
   "source": [
    "### 4.1.3 Control factors\n",
    "\n",
    "The action control factors to the User's environment are:\n",
    "\n",
    "- $a^{\\mathrm{UsrArt}}_1$ (ENGAGE_ACTION)\n",
    "\n",
    "#### 4.1.3.1 $a^{\\mathrm{UsrArt}}_1$ (ENGAGE_ACTION)\n",
    "It has three possible values:\n",
    "\n",
    "- $a^{\\mathrm{UsrArt}}_1 = 0$, `SIGNUP_ACT`\n",
    "- $a^{\\mathrm{UsrArt}}_2 = 1$, `CONTACT_REQUEST_ACT`\n",
    "- $a^{\\mathrm{UsrArt}}_3 = 2$, `PURCHASE_ACT`"
   ]
  },
  {
   "cell_type": "code",
   "execution_count": 45,
   "metadata": {},
   "outputs": [
    {
     "data": {
      "text/plain": [
       "([3], 1, [2], 1, [3], 1)"
      ]
     },
     "execution_count": 45,
     "metadata": {},
     "output_type": "execute_result"
    }
   ],
   "source": [
    "_labUsr = { ## labels for User interaction\n",
    "    \"a\": {\n",
    "        \"aᵁˢʳᴬʳᵗ₁\": [ ## \"ENGAGE_ACTION\"\n",
    "            \"SIGNUP_ACT\",\n",
    "            \"CONTACT_REQUEST_ACT\",\n",
    "            \"PURCHASE_ACT\"\n",
    "        ],\n",
    "    },\n",
    "    \"s\": {\n",
    "        \"sᴬʳᵗᵁˢʳ₁\": [ ## \"CONVERSION_POTENTIAL\"\n",
    "            \"LOW\", \n",
    "            \"HIGH\",\n",
    "        ],\n",
    "    },\n",
    "    \"s̆\": {\n",
    "        \"s̆ᴬʳᵗᵁˢʳ₁\": [ ## \"CONVERSION_POTENTIAL\"\n",
    "            \"LOW\",\n",
    "            \"HIGH\",\n",
    "        ],\n",
    "    },\n",
    "    \"y\": {\n",
    "        \"yᴬʳᵗᵁˢʳ₁\": [ ## \"CONVERSION_POTENTIAL_OBS\"\n",
    "            \"LOW_OBS\",\n",
    "            \"MEDIUM_OBS\",\n",
    "            \"HIGH_OBS\"\n",
    "        ],\n",
    "    },\n",
    "}\n",
    "_yArtUsr_car,_yArtUsr_num, _sArtUsr_car,_sArtUsr_num, _aUsrArt_car,_aUsrArt_num = get_model_dimensions_from_labels(_labUsr)\n",
    "_yArtUsr_car,_yArtUsr_num, _sArtUsr_car,_sArtUsr_num, _aUsrArt_car,_aUsrArt_num"
   ]
  },
  {
   "cell_type": "code",
   "execution_count": 46,
   "metadata": {},
   "outputs": [
    {
     "name": "stdout",
     "output_type": "stream",
     "text": [
      "_aUsrArt_car=[3]\n",
      "_aUsrArt_num=1\n",
      "_sArtUsr_car=[2]\n",
      "_sArtUsr_num=1\n",
      "_yArtUsr_car=[3]\n",
      "_yArtUsr_num=1\n"
     ]
    }
   ],
   "source": [
    "print(f'{_aUsrArt_car=}') ## cardinality of control factors\n",
    "print(f'{_aUsrArt_num=}') ## number of control factors\n",
    "\n",
    "print(f'{_sArtUsr_car=}') ## cardinality of state factors\n",
    "print(f'{_sArtUsr_num=}') ## number of state factors\n",
    "\n",
    "print(f'{_yArtUsr_car=}') ## cardinality of observation modalities\n",
    "print(f'{_yArtUsr_num=}') ## number of observation modalities"
   ]
  },
  {
   "cell_type": "code",
   "execution_count": 47,
   "metadata": {},
   "outputs": [
    {
     "name": "stdout",
     "output_type": "stream",
     "text": [
      "_aUsrArt_fac_names=['aᵁˢʳᴬʳᵗ₁']\n",
      "_sArtUsr_fac_names=['sᴬʳᵗᵁˢʳ₁']\n",
      "_s̆ArtUsr_fac_names=['s̆ᴬʳᵗᵁˢʳ₁']\n",
      "_yArtUsr_mod_names=['yᴬʳᵗᵁˢʳ₁']\n"
     ]
    }
   ],
   "source": [
    "_aUsrArt_fac_names = list(_labUsr['a'].keys()); print(f'{_aUsrArt_fac_names=}') ## control factor names\n",
    "_sArtUsr_fac_names = list(_labUsr['s'].keys()); print(f'{_sArtUsr_fac_names=}') ## state factor names\n",
    "_s̆ArtUsr_fac_names = list(_labUsr['s̆'].keys()); print(f'{_s̆ArtUsr_fac_names=}') ## state factor names\n",
    "_yArtUsr_mod_names = list(_labUsr['y'].keys()); print(f'{_yArtUsr_mod_names=}') ## observation modality names"
   ]
  },
  {
   "cell_type": "markdown",
   "metadata": {},
   "source": [
    "### 4.1.4 Observation likelihood matrix, $\\mathbf A$\n",
    "We now setup the observation likelihood matrix which is the first main component of the generative model."
   ]
  },
  {
   "cell_type": "code",
   "execution_count": 48,
   "metadata": {},
   "outputs": [
    {
     "name": "stdout",
     "output_type": "stream",
     "text": [
      "len(_Aᴬʳᵗᵁˢʳ)=1\n"
     ]
    },
    {
     "data": {
      "text/plain": [
       "array([array([[0., 0.],\n",
       "              [0., 0.],\n",
       "              [0., 0.]])], dtype=object)"
      ]
     },
     "execution_count": 48,
     "metadata": {},
     "output_type": "execute_result"
    }
   ],
   "source": [
    "_Aᴬʳᵗᵁˢʳ = utils.obj_array_zeros([[y_car] + _sArtUsr_car for y_car in _yArtUsr_car])\n",
    "print(f'{len(_Aᴬʳᵗᵁˢʳ)=}')\n",
    "_Aᴬʳᵗᵁˢʳ"
   ]
  },
  {
   "cell_type": "markdown",
   "metadata": {},
   "source": [
    "#### 4.1.4.1 Observation modality $y^{\\mathrm{ArtUsr}}_1$ (CONVERSION_POTENTIAL_OBS)"
   ]
  },
  {
   "cell_type": "markdown",
   "metadata": {},
   "source": [
    "We setup this modality's likelihood mapping, corresponding to how $y^{\\mathrm{ArtUsr}}_1$ (CONVERSION_POTENTIAL_OBS) is related to hidden states."
   ]
  },
  {
   "cell_type": "code",
   "execution_count": 49,
   "metadata": {},
   "outputs": [
    {
     "data": {
      "text/plain": [
       "array([[0.5, 0. ],\n",
       "       [0.5, 0.2],\n",
       "       [0. , 0.8]])"
      ]
     },
     "execution_count": 49,
     "metadata": {},
     "output_type": "execute_result"
    }
   ],
   "source": [
    "_Aᴬʳᵗᵁˢʳ[0][\n",
    "    _labUsr['y']['yᴬʳᵗᵁˢʳ₁'].index('LOW_OBS'),\n",
    "    _labUsr['s']['sᴬʳᵗᵁˢʳ₁'].index('LOW')\n",
    "] = 0.5\n",
    "_Aᴬʳᵗᵁˢʳ[0][\n",
    "    _labUsr['y']['yᴬʳᵗᵁˢʳ₁'].index('MEDIUM_OBS'),\n",
    "    _labUsr['s']['sᴬʳᵗᵁˢʳ₁'].index('LOW')\n",
    "] = 0.5\n",
    "\n",
    "_Aᴬʳᵗᵁˢʳ[0][\n",
    "    _labUsr['y']['yᴬʳᵗᵁˢʳ₁'].index('MEDIUM_OBS'),\n",
    "    _labUsr['s']['sᴬʳᵗᵁˢʳ₁'].index('HIGH')\n",
    "] = 0.2\n",
    "_Aᴬʳᵗᵁˢʳ[0][\n",
    "    _labUsr['y']['yᴬʳᵗᵁˢʳ₁'].index('HIGH_OBS'),\n",
    "    _labUsr['s']['sᴬʳᵗᵁˢʳ₁'].index('HIGH')\n",
    "] = 0.8\n",
    "\n",
    "_Aᴬʳᵗᵁˢʳ[0]"
   ]
  },
  {
   "cell_type": "code",
   "execution_count": 50,
   "metadata": {},
   "outputs": [
    {
     "name": "stdout",
     "output_type": "stream",
     "text": [
      "=== _sArtUsr_car:\n",
      "[2]\n",
      "=== _yArtUsr_car:\n",
      "[3]\n"
     ]
    },
    {
     "data": {
      "text/plain": [
       "array([array([[0.5, 0. ],\n",
       "              [0.5, 0.2],\n",
       "              [0. , 0.8]])], dtype=object)"
      ]
     },
     "execution_count": 50,
     "metadata": {},
     "output_type": "execute_result"
    }
   ],
   "source": [
    "## 3 vectors of 2\n",
    "print(f'=== _sArtUsr_car:\\n{_sArtUsr_car}')\n",
    "print(f'=== _yArtUsr_car:\\n{_yArtUsr_car}')\n",
    "_Aᴬʳᵗᵁˢʳ"
   ]
  },
  {
   "cell_type": "code",
   "execution_count": 51,
   "metadata": {},
   "outputs": [
    {
     "data": {
      "text/plain": [
       "True"
      ]
     },
     "execution_count": 51,
     "metadata": {},
     "output_type": "execute_result"
    }
   ],
   "source": [
    "utils.is_normalized(_Aᴬʳᵗᵁˢʳ)"
   ]
  },
  {
   "cell_type": "markdown",
   "metadata": {},
   "source": [
    "### 4.1.5 State transition matrix, $\\mathbf B$"
   ]
  },
  {
   "cell_type": "code",
   "execution_count": 52,
   "metadata": {},
   "outputs": [
    {
     "name": "stdout",
     "output_type": "stream",
     "text": [
      "_sArtUsr_num=1\n",
      "len(_Bᴬʳᵗᵁˢʳ)=1\n"
     ]
    },
    {
     "data": {
      "text/plain": [
       "array([None], dtype=object)"
      ]
     },
     "execution_count": 52,
     "metadata": {},
     "output_type": "execute_result"
    }
   ],
   "source": [
    "_Bᴬʳᵗᵁˢʳ = utils.obj_array(_sArtUsr_num); print(f'{_sArtUsr_num=}')\n",
    "print(f'{len(_Bᴬʳᵗᵁˢʳ)=}')\n",
    "_Bᴬʳᵗᵁˢʳ"
   ]
  },
  {
   "cell_type": "markdown",
   "metadata": {},
   "source": [
    "#### 4.1.5.1 Control factor $a^{\\mathrm{UsrArt}}_1$ (ENGAGE_ACTION)"
   ]
  },
  {
   "cell_type": "markdown",
   "metadata": {},
   "source": [
    "We setup this factor's mapping, corresponding to how $a^{\\mathrm{UsrArt}}_1$ (ENGAGE_ACTION) is related to hidden states."
   ]
  },
  {
   "cell_type": "code",
   "execution_count": 53,
   "metadata": {},
   "outputs": [
    {
     "data": {
      "text/plain": [
       "array([[[1., 1., 0.],\n",
       "        [1., 1., 0.]],\n",
       "\n",
       "       [[0., 0., 1.],\n",
       "        [0., 0., 1.]]])"
      ]
     },
     "execution_count": 53,
     "metadata": {},
     "output_type": "execute_result"
    }
   ],
   "source": [
    "_Bᴬʳᵗᵁˢʳ[0] = np.zeros((_sArtUsr_car[0], _sArtUsr_car[0], _aUsrArt_car[0]))\n",
    "\n",
    "_Bᴬʳᵗᵁˢʳ[0][\n",
    "    _labUsr['s']['sᴬʳᵗᵁˢʳ₁'].index('LOW'), \n",
    "    :, \n",
    "    _labUsr['a']['aᵁˢʳᴬʳᵗ₁'].index('SIGNUP_ACT')\n",
    "] = 1.0\n",
    "_Bᴬʳᵗᵁˢʳ[0][\n",
    "    _labUsr['s']['sᴬʳᵗᵁˢʳ₁'].index('LOW'), \n",
    "    :, \n",
    "    _labUsr['a']['aᵁˢʳᴬʳᵗ₁'].index('CONTACT_REQUEST_ACT')\n",
    "] = 1.0\n",
    "_Bᴬʳᵗᵁˢʳ[0][\n",
    "    _labUsr['s']['sᴬʳᵗᵁˢʳ₁'].index('HIGH'), \n",
    "    :, \n",
    "    _labUsr['a']['aᵁˢʳᴬʳᵗ₁'].index('PURCHASE_ACT')\n",
    "] = 1.0\n",
    "\n",
    "_Bᴬʳᵗᵁˢʳ[0]"
   ]
  },
  {
   "cell_type": "code",
   "execution_count": 54,
   "metadata": {},
   "outputs": [
    {
     "name": "stdout",
     "output_type": "stream",
     "text": [
      "=== _aUsrArt_car:\n",
      "[3]\n",
      "=== _sArtUsr_car:\n",
      "[2]\n"
     ]
    },
    {
     "data": {
      "text/plain": [
       "array([array([[[1., 1., 0.],\n",
       "               [1., 1., 0.]],\n",
       "\n",
       "              [[0., 0., 1.],\n",
       "               [0., 0., 1.]]])], dtype=object)"
      ]
     },
     "execution_count": 54,
     "metadata": {},
     "output_type": "execute_result"
    }
   ],
   "source": [
    "## 2 matrices of 2x3\n",
    "print(f'=== _aUsrArt_car:\\n{_aUsrArt_car}')\n",
    "print(f'=== _sArtUsr_car:\\n{_sArtUsr_car}')\n",
    "_Bᴬʳᵗᵁˢʳ"
   ]
  },
  {
   "cell_type": "code",
   "execution_count": 55,
   "metadata": {},
   "outputs": [
    {
     "data": {
      "text/plain": [
       "True"
      ]
     },
     "execution_count": 55,
     "metadata": {},
     "output_type": "execute_result"
    }
   ],
   "source": [
    "utils.is_normalized(_Bᴬʳᵗᵁˢʳ)"
   ]
  },
  {
   "cell_type": "markdown",
   "metadata": {},
   "source": [
    "### 4.1.6 Prior preferences vector, $\\mathbf C$\n",
    "\n",
    "Now we parameterise the C vector, or the prior beliefs about observations. This will be used in the expression of the prior over actions, which is technically a softmax function of the negative expected free energy of each action. It is the equivalent of the exponentiated reward function in reinforcement learning treatments."
   ]
  },
  {
   "cell_type": "code",
   "execution_count": 56,
   "metadata": {},
   "outputs": [
    {
     "data": {
      "text/plain": [
       "array([array([0., 0., 0.])], dtype=object)"
      ]
     },
     "execution_count": 56,
     "metadata": {},
     "output_type": "execute_result"
    }
   ],
   "source": [
    "_Cᴬʳᵗᵁˢʳ = utils.obj_array_zeros([y_car for y_car in _yArtUsr_car])\n",
    "_Cᴬʳᵗᵁˢʳ"
   ]
  },
  {
   "cell_type": "code",
   "execution_count": 57,
   "metadata": {},
   "outputs": [
    {
     "data": {
      "text/plain": [
       "array([-1.,  0.,  0.])"
      ]
     },
     "execution_count": 57,
     "metadata": {},
     "output_type": "execute_result"
    }
   ],
   "source": [
    "_Cᴬʳᵗᵁˢʳ[0][\n",
    "    _labUsr['y']['yᴬʳᵗᵁˢʳ₁'].index('LOW_OBS'),\n",
    "] = 1.0\n",
    "_Cᴬʳᵗᵁˢʳ[0][\n",
    "    _labUsr['y']['yᴬʳᵗᵁˢʳ₁'].index('LOW_OBS'),\n",
    "] = -1.0\n",
    "_Cᴬʳᵗᵁˢʳ[0][\n",
    "    _labUsr['y']['yᴬʳᵗᵁˢʳ₁'].index('HIGH_OBS'),\n",
    "] = 0.0\n",
    "\n",
    "_Cᴬʳᵗᵁˢʳ[0]"
   ]
  },
  {
   "cell_type": "code",
   "execution_count": 58,
   "metadata": {},
   "outputs": [],
   "source": [
    "## utils.is_normalized(_Cᴬʳᵗᵁˢʳ)"
   ]
  },
  {
   "cell_type": "markdown",
   "metadata": {},
   "source": [
    "### 4.1.7 Initialise an instance of the `Agent()` class:"
   ]
  },
  {
   "cell_type": "code",
   "execution_count": 59,
   "metadata": {},
   "outputs": [
    {
     "data": {
      "text/plain": [
       "<pymdp.agent.Agent at 0x7f2540062860>"
      ]
     },
     "execution_count": 59,
     "metadata": {},
     "output_type": "execute_result"
    }
   ],
   "source": [
    "_agtUsr = Agent(\n",
    "    A=_Aᴬʳᵗᵁˢʳ, \n",
    "    B=_Bᴬʳᵗᵁˢʳ, \n",
    "    C=_Cᴬʳᵗᵁˢʳ, \n",
    ")\n",
    "_agtUsr"
   ]
  },
  {
   "cell_type": "markdown",
   "metadata": {},
   "source": [
    "## 4.2 User environment\n",
    "\n",
    "This is the User agent's *generative process* for its environment.\n",
    "\n",
    "It is important to note that the generative process doesn't have to be described by A and B matrices - it can just be the arbitrary 'rules of the game' that you 'write in' as a modeller. But here we just use the same transition/likelihood matrices to make the sampling process straightforward."
   ]
  },
  {
   "cell_type": "code",
   "execution_count": 60,
   "metadata": {},
   "outputs": [],
   "source": [
    "## observation/transition matrices characterising the generative process\n",
    "_Ăᴬʳᵗᵁˢʳ = copy.deepcopy(_Aᴬʳᵗᵁˢʳ)\n",
    "_B̆ᴬʳᵗᵁˢʳ = copy.deepcopy(_Bᴬʳᵗᵁˢʳ)"
   ]
  },
  {
   "cell_type": "markdown",
   "metadata": {},
   "source": [
    "# 5 Run simulation"
   ]
  },
  {
   "cell_type": "markdown",
   "metadata": {},
   "source": [
    "Initialise the simulation"
   ]
  },
  {
   "cell_type": "code",
   "execution_count": 61,
   "metadata": {},
   "outputs": [],
   "source": [
    "_T = 20 ## number of timesteps in the simulation"
   ]
  },
  {
   "cell_type": "code",
   "execution_count": 62,
   "metadata": {},
   "outputs": [
    {
     "name": "stdout",
     "output_type": "stream",
     "text": [
      "_s̆ᴬʳᵗᴰˢᵍ=[0, 0]\n",
      "_yᴬʳᵗᴰˢᵍ=[2, 2, 0]\n"
     ]
    }
   ],
   "source": [
    "## Designer\n",
    "_s̆ᴬʳᵗᴰˢᵍ = [ ## initial (true) state\n",
    "    _labDsg['s̆']['s̆ᴬʳᵗᴰˢᵍ₁'].index('FOCUSED'), \n",
    "    _labDsg['s̆']['s̆ᴬʳᵗᴰˢᵍ₂'].index('SHORT')\n",
    "]; print(f'{_s̆ᴬʳᵗᴰˢᵍ=}')\n",
    "\n",
    "_yᴬʳᵗᴰˢᵍ = [ ## initial observation\n",
    "    _labDsg['y']['yᴬʳᵗᴰˢᵍ₁'].index('NEUTRAL_OBS'), \n",
    "    _labDsg['y']['yᴬʳᵗᴰˢᵍ₂'].index('LONG_OBS'),\n",
    "    _labDsg['y']['yᴬʳᵗᴰˢᵍ₃'].index('MINIMAL_OBS')\n",
    "]; print(f'{_yᴬʳᵗᴰˢᵍ=}')"
   ]
  },
  {
   "cell_type": "code",
   "execution_count": 63,
   "metadata": {},
   "outputs": [
    {
     "name": "stdout",
     "output_type": "stream",
     "text": [
      "_s̆ᵁˢʳᴬʳᵗ=[0, 0]\n",
      "_yᵁˢʳᴬʳᵗ=[0, 0, 0]\n"
     ]
    }
   ],
   "source": [
    "## Artifact\n",
    "_s̆ᵁˢʳᴬʳᵗ = [ ## initial (true) state\n",
    "    _labArt['s̆']['s̆ᵁˢʳᴬʳᵗ₁'].index('FREQUENT'),\n",
    "    _labArt['s̆']['s̆ᵁˢʳᴬʳᵗ₂'].index('SWIPES')\n",
    "]; print(f'{_s̆ᵁˢʳᴬʳᵗ=}')\n",
    "\n",
    "_yᵁˢʳᴬʳᵗ = [ ## initial observation\n",
    "    _labArt['y']['yᵁˢʳᴬʳᵗ₁'].index('FREQUENT_OBS'),\n",
    "    _labArt['y']['yᵁˢʳᴬʳᵗ₂'].index('SWIPES_OBS'),\n",
    "    _labArt['y']['yᵁˢʳᴬʳᵗ₃'].index('FEW_OBS')\n",
    "]; print(f'{_yᵁˢʳᴬʳᵗ=}')"
   ]
  },
  {
   "cell_type": "code",
   "execution_count": 64,
   "metadata": {},
   "outputs": [
    {
     "name": "stdout",
     "output_type": "stream",
     "text": [
      "_s̆ᴬʳᵗᵁˢʳ=[0]\n",
      "_yᴬʳᵗᵁˢʳ=[0]\n"
     ]
    }
   ],
   "source": [
    "## User\n",
    "_s̆ᴬʳᵗᵁˢʳ = [ ## initial (true) state\n",
    "    _labUsr['s̆']['s̆ᴬʳᵗᵁˢʳ₁'].index('LOW')\n",
    "]; print(f'{_s̆ᴬʳᵗᵁˢʳ=}')\n",
    "\n",
    "_yᴬʳᵗᵁˢʳ = [ ## initial observation\n",
    "    _labUsr['y']['yᴬʳᵗᵁˢʳ₁'].index('LOW_OBS')\n",
    "]; print(f'{_yᴬʳᵗᵁˢʳ=}')"
   ]
  },
  {
   "cell_type": "markdown",
   "metadata": {},
   "source": [
    "Create some string names for the state, observation, and action indices to help with print statements"
   ]
  },
  {
   "cell_type": "code",
   "execution_count": 65,
   "metadata": {},
   "outputs": [
    {
     "name": "stdout",
     "output_type": "stream",
     "text": [
      "_aDsgArt_val_names=[['NULL_ACT'], ['NO_CHANGE_ACT', 'CHANGE_COLOR_THEME_ACT', 'CHANGE_TEXT_SIZE_ACT']]\n",
      "_sArtDsg_val_names=[['FOCUSED', 'SCATTERED'], ['SHORT', 'MEDIUM', 'LONG']]\n",
      "_s̆ArtDsg_val_names=[['FOCUSED', 'SCATTERED'], ['SHORT', 'MEDIUM', 'LONG']]\n",
      "_yArtDsg_val_names=[['FOCUSED_OBS', 'SCATTERED_OBS', 'NEUTRAL_OBS'], ['SHORT_OBS', 'MEDIUM_OBS', 'LONG_OBS'], ['MINIMAL_OBS', 'STANDARD_OBS', 'ADVANCED_OBS']]\n"
     ]
    }
   ],
   "source": [
    "## Designer\n",
    "_aDsgArt_val_names = [_labDsg['a'][cfn] for cfn in _aDsgArt_fac_names]; print(f'{_aDsgArt_val_names=}')\n",
    "_sArtDsg_val_names = [_labDsg['s'][sfn] for sfn in _sArtDsg_fac_names]; print(f'{_sArtDsg_val_names=}')\n",
    "_s̆ArtDsg_val_names = [_labDsg['s̆'][sfn] for sfn in _s̆ArtDsg_fac_names]; print(f'{_s̆ArtDsg_val_names=}')\n",
    "_yArtDsg_val_names = [_labDsg['y'][omn] for omn in _yArtDsg_mod_names]; print(f'{_yArtDsg_val_names=}')"
   ]
  },
  {
   "cell_type": "code",
   "execution_count": 66,
   "metadata": {},
   "outputs": [
    {
     "name": "stdout",
     "output_type": "stream",
     "text": [
      "_aArtUsr_val_names=[['NULL_ACT'], ['ADJUST_NOTIFS_ACT', 'ADJUST_COLORS_ACT', 'ADJUST_TEXT_SIZE_ACT']]\n",
      "_sUsrArt_val_names=[['FREQUENT', 'INFREQUENT'], ['SWIPES', 'TAPS', 'VOICE']]\n",
      "_s̆UsrArt_val_names=[['FREQUENT', 'INFREQUENT'], ['SWIPES', 'TAPS', 'VOICE']]\n",
      "_yUsrArt_val_names=[['FREQUENT_OBS', 'MODERATE_OBS', 'INFREQUENT_OBS'], ['SWIPES_OBS', 'TAPS_OBS', 'VOICE_OBS'], ['FEW_OBS', 'SOME_OBS', 'MANY_OBS']]\n"
     ]
    }
   ],
   "source": [
    "## Artifact\n",
    "_aArtUsr_val_names = [_labArt['a'][cfn] for cfn in _aArtUsr_fac_names]; print(f'{_aArtUsr_val_names=}')\n",
    "_sUsrArt_val_names = [_labArt['s'][sfn] for sfn in _sUsrArt_fac_names]; print(f'{_sUsrArt_val_names=}')\n",
    "_s̆UsrArt_val_names = [_labArt['s̆'][sfn] for sfn in _s̆UsrArt_fac_names]; print(f'{_s̆UsrArt_val_names=}')\n",
    "_yUsrArt_val_names = [_labArt['y'][omn] for omn in _yUsrArt_mod_names]; print(f'{_yUsrArt_val_names=}')"
   ]
  },
  {
   "cell_type": "code",
   "execution_count": 67,
   "metadata": {},
   "outputs": [
    {
     "name": "stdout",
     "output_type": "stream",
     "text": [
      "_aUsrArt_val_names=[['SIGNUP_ACT', 'CONTACT_REQUEST_ACT', 'PURCHASE_ACT']]\n",
      "_sArtUsr_val_names=[['LOW', 'HIGH']]\n",
      "_s̆ArtUsr_val_names=[['LOW', 'HIGH']]\n",
      "_yArtUsr_val_names=[['LOW_OBS', 'MEDIUM_OBS', 'HIGH_OBS']]\n"
     ]
    }
   ],
   "source": [
    "## User\n",
    "_aUsrArt_val_names = [_labUsr['a'][cfn] for cfn in _aUsrArt_fac_names]; print(f'{_aUsrArt_val_names=}')\n",
    "_sArtUsr_val_names = [_labUsr['s'][sfn] for sfn in _sArtUsr_fac_names]; print(f'{_sArtUsr_val_names=}')\n",
    "_s̆ArtUsr_val_names = [_labUsr['s̆'][sfn] for sfn in _s̆ArtUsr_fac_names]; print(f'{_s̆ArtUsr_val_names=}')\n",
    "_yArtUsr_val_names = [_labUsr['y'][omn] for omn in _yArtUsr_mod_names]; print(f'{_yArtUsr_val_names=}')"
   ]
  },
  {
   "cell_type": "code",
   "execution_count": 68,
   "metadata": {},
   "outputs": [],
   "source": [
    "def act(agt, a_facs, a_fac_names, a_val_names, s̆_fac_names, t):\n",
    "    if(t == 0): ## at t=0 agent has no q_pi yet, so no .sample_action()\n",
    "        action = np.array([0.0, 0.0, 0.0])\n",
    "        print(f\"_a: {[(a_fac_names[a], a_val_names[a][int(action[a])]) for a in range(len(s̆_fac_names))]}\")\n",
    "        print(f\"RAW action: {action}\")\n",
    "    else: ## t > 0\n",
    "        action = agt.sample_action()\n",
    "        ## min_F.append(np.min(_agent.F)) ## does not have .F\n",
    "        print(f\"_a: {[(a_fac_names[a], a_val_names[a][int(action[a])]) for a in range(len(s̆_fac_names))]}\") ##.\n",
    "        for afi, afn in enumerate(a_fac_names):\n",
    "            a_facs[afn].append(a_val_names[afi][int(action[afi])])\n",
    "    return action\n",
    "\n",
    "def future(agt, qIpiIs, GNegs):\n",
    "    ## _agent.infer_policies()\n",
    "    qIpiI, GNeg = agt.infer_policies() ## posterior over policies and negative EFE\n",
    "    print(f'{qIpiI=}')\n",
    "    print(f'{GNeg=}')\n",
    "    qIpiIs.append(qIpiI)\n",
    "    GNegs.append(GNeg)\n",
    "\n",
    "def next(s̆_facs, action, s̆, B̆, s̆_fac_names, s̆_val_names):\n",
    "    for sfi, sf in enumerate(s̆):\n",
    "        s̆[sfi] = utils.sample(B̆[sfi][:, sf, int(action[sfi])])\n",
    "    print(f\"_s̆: {[(s̆_fac_names[sfi], s̆_val_names[sfi][s̆[sfi]]) for sfi in range(len(s̆_fac_names))]}\")\n",
    "    for sfi, sfn in enumerate(s̆_fac_names):\n",
    "        s̆_facs[sfn].append(s̆_val_names[sfi][s̆[sfi]])\n",
    "\n",
    "def nextWithoutB(s̆_facs, action, s̆, s̆_fac_names, s̆_val_names):\n",
    "    ## print(f'n!!! BEFORE: {s̆=}, {action=}')\n",
    "    for sfi, sf in enumerate(s̆):\n",
    "        if action[0] == 0: ## 'SIGNUP_ACT'\n",
    "            s̆[sfi] = 0 ## 'LOW'\n",
    "        elif action[0] == 1: ## 'CONTACT_REQUEST_ACT': \n",
    "            s̆[sfi] = random.choice([0, 1]) ## ['LOW', 'HIGH']\n",
    "        else: ## \"PURCHASE_ACT\"\n",
    "            s̆[sfi] = 1 ## 'HIGH'\n",
    "    ## print(f'n!!! AFTER: {s̆=}')\n",
    "    print(f\"_s̆: {[(s̆_fac_names[sfi], s̆_val_names[sfi][s̆[sfi]]) for sfi in range(len(s̆_fac_names))]}\")\n",
    "    for sfi, sfn in enumerate(s̆_fac_names):\n",
    "        s̆_facs[sfn].append(s̆_val_names[sfi][s̆[sfi]])\n",
    " \n",
    "def observeWithoutA(y_mods, y, s̆, _y_mod_names, _y_val_names):\n",
    "    ## print(f'o!!! BEFORE: {y=}, {s̆=}')\n",
    "    for omi, _ in enumerate(y):\n",
    "        if s̆[0] == 0: ## 'LOW', s̆ᴬʳᵗᵁˢʳ₁\n",
    "            y[omi] = random.choice([0, 1]) ## ['LOW_OBS', 'MEDIUM_OBS']\n",
    "        else:\n",
    "            y[omi] = random.choice([1, 2]) ## ['MEDIUM_OBS', 'HIGH_OBS']\n",
    "    ## print(f'o!!! AFTER: {y=}')\n",
    "    print(f\"_y: {[(_y_mod_names[omi], _y_val_names[omi][y[omi]]) for omi in range(len(_y_mod_names))]}\")\n",
    "    for ymi, ymn in enumerate(_y_mod_names):\n",
    "        y_mods[ymn].append(_y_val_names[ymi][y[ymi]])\n",
    "\n",
    "def observe(y_mods, y, Ă, s̆, _y_mod_names, _y_val_names):\n",
    "    for omi, _ in enumerate(y):\n",
    "        if len(s̆) == 1:\n",
    "            y[omi] = utils.sample(Ă[omi][:, s̆[0]])\n",
    "        elif len(s̆) == 2:\n",
    "            y[omi] = utils.sample(Ă[omi][:, s̆[0], s̆[1]])\n",
    "        else:\n",
    "            print(f'ERROR: {len(s̆)=} not handled!')\n",
    "    print(f\"_y: {[(_y_mod_names[omi], _y_val_names[omi][y[omi]]) for omi in range(len(_y_mod_names))]}\")\n",
    "    for ymi, ymn in enumerate(_y_mod_names):\n",
    "        y_mods[ymn].append(_y_val_names[ymi][y[ymi]])\n",
    "\n",
    "def infer(agt, s_facs, y, s_fac_names, lab):\n",
    "    belief_state = agt.infer_states(y)\n",
    "    print(f\"Beliefs: {[(s_fac_names[sfi], belief_state[sfi].round(3).T) for sfi in range(len(s_fac_names))]}\")\n",
    "    for sfi, sfn in enumerate(s_fac_names):\n",
    "        s_facs[sfn].append( lab['s'][sfn][int(np.argmax(belief_state[sfi].round(3).T))] )"
   ]
  },
  {
   "cell_type": "code",
   "execution_count": 69,
   "metadata": {},
   "outputs": [],
   "source": [
    "_aDsgArt_facs = {'aᴰˢᵍᴬʳᵗ₁': [], 'aᴰˢᵍᴬʳᵗ₂': []}\n",
    "_sArtDsg_facs = {'sᴬʳᵗᴰˢᵍ₁': [], 'sᴬʳᵗᴰˢᵍ₂': []}\n",
    "_s̆ArtDsg_facs = {'s̆ᴬʳᵗᴰˢᵍ₁': [], 's̆ᴬʳᵗᴰˢᵍ₂': []}\n",
    "_yArtDsg_mods = {'yᴬʳᵗᴰˢᵍ₁': [], 'yᴬʳᵗᴰˢᵍ₂': [], 'yᴬʳᵗᴰˢᵍ₃': []}\n",
    "\n",
    "_aArtUsr_facs = {'aᴬʳᵗᵁˢʳ₁': [], 'aᴬʳᵗᵁˢʳ₂': []}\n",
    "_sUsrArt_facs = {'sᵁˢʳᴬʳᵗ₁': [], 'sᵁˢʳᴬʳᵗ₂': []}\n",
    "_s̆UsrArt_facs = {'s̆ᵁˢʳᴬʳᵗ₁': [], 's̆ᵁˢʳᴬʳᵗ₂': []}\n",
    "_yUsrArt_mods = {'yᵁˢʳᴬʳᵗ₁': [], 'yᵁˢʳᴬʳᵗ₂': [], 'yᵁˢʳᴬʳᵗ₃': []}\n",
    "\n",
    "_aUsrArt_facs = {'aᵁˢʳᴬʳᵗ₁': []}\n",
    "_sArtUsr_facs = {'sᴬʳᵗᵁˢʳ₁': []}\n",
    "_s̆ArtUsr_facs = {'s̆ᴬʳᵗᵁˢʳ₁': []}\n",
    "_yArtUsr_mods = {'yᴬʳᵗᵁˢʳ₁': []}\n",
    "\n",
    "## min_F = []\n",
    "_qDsgIpiIs = []\n",
    "_GDsgNegs = []\n",
    "\n",
    "_qArtIpiIs = []\n",
    "_GArtNegs = []\n",
    "\n",
    "_qUsrIpiIs = []\n",
    "_GUsrNegs = []"
   ]
  },
  {
   "cell_type": "code",
   "execution_count": 70,
   "metadata": {},
   "outputs": [],
   "source": [
    "def simulate(T):\n",
    "    for t in range(T):\n",
    "        print(f\"\\nTime {t}:\")\n",
    "\n",
    "        ### act\n",
    "        print('___act___')\n",
    "        actionDsgArt = act(_agtDsg, _aDsgArt_facs, _aDsgArt_fac_names, _aDsgArt_val_names, _s̆ArtDsg_fac_names, t)\n",
    "        \n",
    "        actionArtUsr = act(_agtArt, _aArtUsr_facs, _aArtUsr_fac_names, _aArtUsr_val_names, _s̆UsrArt_fac_names, t)\n",
    "        \n",
    "        actionUsrArt = act(_agtUsr, _aUsrArt_facs, _aUsrArt_fac_names, _aUsrArt_val_names, _s̆ArtUsr_fac_names, t)\n",
    "\n",
    "        ### future\n",
    "        print('___future___')\n",
    "        future(_agtDsg, _qDsgIpiIs, _GDsgNegs)\n",
    "        future(_agtArt, _qArtIpiIs, _GArtNegs)\n",
    "        future(_agtUsr, _qUsrIpiIs, _GUsrNegs)\n",
    "\n",
    "        ### next\n",
    "        print('___next___')\n",
    "        next(_s̆ArtDsg_facs, actionDsgArt, _s̆ᴬʳᵗᴰˢᵍ, _B̆ᴬʳᵗᴰˢᵍ, _s̆ArtDsg_fac_names, _s̆ArtDsg_val_names)\n",
    "        \n",
    "        next(_s̆UsrArt_facs, actionArtUsr, _s̆ᵁˢʳᴬʳᵗ, _B̆ᵁˢʳᴬʳᵗ, _s̆UsrArt_fac_names, _s̆UsrArt_val_names)\n",
    "        \n",
    "        ## next(_s̆ArtUsr_facs, actionUsrArt, _s̆ᴬʳᵗᵁˢʳ, _B̆ᴬʳᵗᵁˢʳ, _s̆ArtUsr_fac_names, _s̆ArtUsr_val_names)\n",
    "        nextWithoutB(_s̆ArtUsr_facs, actionUsrArt, _s̆ᴬʳᵗᵁˢʳ, _s̆ArtUsr_fac_names, _s̆ArtUsr_val_names)\n",
    "\n",
    "        ### observe\n",
    "        print('___observe___')\n",
    "        observe(_yArtDsg_mods, _yᴬʳᵗᴰˢᵍ, _Ăᴬʳᵗᴰˢᵍ, _s̆ᴬʳᵗᴰˢᵍ, _yArtDsg_mod_names, _yArtDsg_val_names)\n",
    "        \n",
    "        observe(_yUsrArt_mods, _yᵁˢʳᴬʳᵗ, _Ăᵁˢʳᴬʳᵗ, _s̆ᵁˢʳᴬʳᵗ, _yUsrArt_mod_names, _yUsrArt_val_names)\n",
    "        \n",
    "        ## observe(_yArtUsr_mods, _yᴬʳᵗᵁˢʳ, _Ăᴬʳᵗᵁˢʳ, _s̆ᴬʳᵗᵁˢʳ, _yArtUsr_mod_names, _yArtUsr_val_names)\n",
    "        observeWithoutA(_yArtUsr_mods, _yᴬʳᵗᵁˢʳ, _s̆ᴬʳᵗᵁˢʳ, _yArtUsr_mod_names, _yArtUsr_val_names)\n",
    "\n",
    "        ### infer\n",
    "        print('___infer___')\n",
    "        infer(_agtDsg, _sArtDsg_facs, _yᴬʳᵗᴰˢᵍ, _sArtDsg_fac_names, _labDsg)\n",
    "        \n",
    "        infer(_agtArt, _sUsrArt_facs, _yᵁˢʳᴬʳᵗ, _sUsrArt_fac_names, _labArt)\n",
    "        \n",
    "        infer(_agtUsr, _sArtUsr_facs, _yᴬʳᵗᵁˢʳ, _sArtUsr_fac_names, _labUsr)\n",
    "    \n",
    "    visualize_Designer_Artifact()\n",
    "    visualize_Artifact_User()\n",
    "    visualize_User_Artifact()"
   ]
  },
  {
   "cell_type": "code",
   "execution_count": 71,
   "metadata": {},
   "outputs": [],
   "source": [
    "def visualize_Designer_Artifact():\n",
    "    colors = [\n",
    "    {'NULL_ACT':'black'}, ## aDsgArt_1\n",
    "    {'NO_CHANGE_ACT':'red', 'CHANGE_COLOR_THEME_ACT':'green', 'CHANGE_TEXT_SIZE_ACT': 'blue'}, ## aDsgArt_2\n",
    "\n",
    "    {'FOCUSED':'orange', 'SCATTERED':'purple'}, ## sArtDsg_1\n",
    "    {'SHORT':'red', 'MEDIUM':'green', 'LONG': 'blue'}, ## sArtDsg_2\n",
    "\n",
    "    {'FOCUSED':'orange', 'SCATTERED':'purple'}, ## qIsIArtDsg_1\n",
    "    {'SHORT':'red', 'MEDIUM':'green', 'LONG': 'blue'}, ## qIsIArtDsg_2\n",
    "\n",
    "    {'FOCUSED_OBS':'orange', 'SCATTERED_OBS':'purple', 'NEUTRAL_OBS':'pink'}, ## yArtDsg_1\n",
    "    {'SHORT_OBS':'red', 'MEDIUM_OBS':'green', 'LONG_OBS': 'blue'}, ## yArtDsg_2\n",
    "    {'MINIMAL_OBS':'red', 'STANDARD_OBS':'green', 'ADVANCED_OBS': 'blue'} ## yArtDsg_3\n",
    "    ]\n",
    "\n",
    "    ylabel_size = 12\n",
    "    msi = 7 ## markersize for Line2D, diameter in points\n",
    "    siz = (msi/2)**2 * np.pi ## size for scatter, area of marker in points squared\n",
    "\n",
    "    fig = plt.figure(figsize=(9, 6))\n",
    "    gs = GridSpec(9, 1, figure=fig, height_ratios=[1, 1, 1, 1, 1, 1, 1, 1, 1])\n",
    "    ax = [fig.add_subplot(gs[i]) for i in range(9)]\n",
    "\n",
    "    i = 0\n",
    "    ax[i].set_title(f'Designer/Artifact interaction', fontweight='bold',fontsize=14)\n",
    "    y_pos = 0\n",
    "    for t, s in zip(range(_T), _aDsgArt_facs['aᴰˢᵍᴬʳᵗ₁']):\n",
    "        ax[i].scatter(t, y_pos, color=colors[i][s], s=siz)\n",
    "    ax[i].set_ylabel('$a^{\\mathrm{DsgArt}}_{1t}, \\mathrm{NULL}$', rotation=0, fontweight='bold', fontsize=ylabel_size)\n",
    "    ax[i].set_yticks([])\n",
    "    ax[i].set_xticklabels([])\n",
    "    leg_items = [\n",
    "        Line2D([0],[0],marker='o',color='w',markerfacecolor='black',markersize=msi,label='NULL_ACT')]\n",
    "    ax[i].legend(handles=leg_items, bbox_to_anchor=(1.05, 0.5), loc='center left', borderaxespad=0, labelspacing=0.1)\n",
    "    ax[i].spines['top'].set_visible(False); ax[i].spines['right'].set_visible(False)\n",
    "\n",
    "    i = 1\n",
    "    y_pos = 0\n",
    "    for t, s in zip(range(_T), _aDsgArt_facs['aᴰˢᵍᴬʳᵗ₂']):\n",
    "        ax[i].scatter(t, y_pos, color=colors[i][s], s=siz, label=s)\n",
    "    ax[i].set_ylabel('$a^{\\mathrm{DsgArt}}_{2t}, \\mathrm{ADJUST\\_UI\\_FEATURES\\_ACTION}$', rotation=0, fontweight='bold', fontsize=ylabel_size)\n",
    "    ax[i].set_yticks([])\n",
    "    leg_items = [\n",
    "        Line2D([0],[0],marker='o',color='w',markerfacecolor=colors[i]['NO_CHANGE_ACT'],markersize=msi,label='NO_CHANGE_ACT'),\n",
    "        Line2D([0],[0],marker='o',color='w',markerfacecolor=colors[i]['CHANGE_COLOR_THEME_ACT'],markersize=msi,label='CHANGE_COLOR_THEME_ACT'),\n",
    "        Line2D([0],[0],marker='o',color='w',markerfacecolor=colors[i]['CHANGE_TEXT_SIZE_ACT'],markersize=msi,label='CHANGE_TEXT_SIZE_ACT')]\n",
    "    ax[i].legend(handles=leg_items, bbox_to_anchor=(1.05, 0.5), loc='center left', borderaxespad=0, labelspacing=0.1)\n",
    "    ax[i].spines['top'].set_visible(False); ax[i].spines['right'].set_visible(False)\n",
    "\n",
    "    i = 2\n",
    "    y_pos = 0\n",
    "    for t, s in zip(range(_T), _sArtDsg_facs['sᴬʳᵗᴰˢᵍ₁']):\n",
    "        ax[i].scatter(t, y_pos, color=colors[i][s], s=siz)\n",
    "    ax[i].set_ylabel('$s^{\\mathrm{ArtDsg}}_{1t}, \\mathrm{EYE\\_TRACKING}$', rotation=0, fontweight='bold', fontsize=ylabel_size)\n",
    "    ax[i].set_yticks([])\n",
    "    ax[i].set_xticklabels([])\n",
    "    leg_items = [\n",
    "        Line2D([0],[0],marker='o',color='w',markerfacecolor=colors[i]['FOCUSED'],markersize=msi,label='FOCUSED'),\n",
    "        Line2D([0],[0],marker='o',color='w',markerfacecolor=colors[i]['SCATTERED'],markersize=msi,label='SCATTERED')]\n",
    "    ax[i].legend(handles=leg_items, bbox_to_anchor=(1.05, 0.5), loc='center left', borderaxespad=0, labelspacing=0.1)\n",
    "    ax[i].spines['top'].set_visible(False); ax[i].spines['right'].set_visible(False)\n",
    "\n",
    "    i = 3\n",
    "    y_pos = 0\n",
    "    for t, s in zip(range(_T), _sArtDsg_facs['sᴬʳᵗᴰˢᵍ₂']):\n",
    "        ax[i].scatter(t, y_pos, color=colors[i][s], s=siz, label=s)\n",
    "    ax[i].set_ylabel('$s^{\\mathrm{ArtDsg}}_{2t}, \\mathrm{TIME\\_ON\\_TASK}$', rotation=0, fontweight='bold', fontsize=ylabel_size)\n",
    "    ax[i].set_yticks([])\n",
    "    leg_items = [\n",
    "        Line2D([0],[0],marker='o',color='w',markerfacecolor=colors[i]['SHORT'],markersize=msi,label='SHORT'),\n",
    "        Line2D([0],[0],marker='o',color='w',markerfacecolor=colors[i]['MEDIUM'],markersize=msi,label='MEDIUM'),\n",
    "        Line2D([0],[0],marker='o',color='w',markerfacecolor=colors[i]['LONG'],markersize=msi,label='LONG')]\n",
    "    ax[i].legend(handles=leg_items, bbox_to_anchor=(1.05, 0.5), loc='center left', borderaxespad=0, labelspacing=0.1)\n",
    "    ax[i].spines['top'].set_visible(False); ax[i].spines['right'].set_visible(False)\n",
    "\n",
    "    i = 4\n",
    "    y_pos = 0\n",
    "    for t, s in zip(range(_T), _sArtDsg_facs['sᴬʳᵗᴰˢᵍ₁']):\n",
    "        ax[i].scatter(t, y_pos, color=colors[i][s], s=siz)\n",
    "    ax[i].set_ylabel('$q(s)^{\\mathrm{ArtDsg}}_{1t}, \\mathrm{EYE\\_TRACKING}$', rotation=0, fontweight='bold', fontsize=ylabel_size)\n",
    "    ax[i].set_yticks([])\n",
    "    ax[i].set_xticklabels([])\n",
    "    leg_items = [\n",
    "        Line2D([0],[0],marker='o',color='w',markerfacecolor=colors[i]['FOCUSED'],markersize=msi,label='FOCUSED'),\n",
    "        Line2D([0],[0],marker='o',color='w',markerfacecolor=colors[i]['SCATTERED'],markersize=msi,label='SCATTERED')]\n",
    "    ax[i].legend(handles=leg_items, bbox_to_anchor=(1.05, 0.5), loc='center left', borderaxespad=0, labelspacing=0.1)\n",
    "    ax[i].spines['top'].set_visible(False); ax[i].spines['right'].set_visible(False)\n",
    "\n",
    "    i = 5\n",
    "    y_pos = 0\n",
    "    for t, s in zip(range(_T), _sArtDsg_facs['sᴬʳᵗᴰˢᵍ₂']):\n",
    "        ax[i].scatter(t, y_pos, color=colors[i][s], s=siz, label=s)\n",
    "    ax[i].set_ylabel('$q(s)^{\\mathrm{ArtDsg}}_{2t}, \\mathrm{TIME\\_ON\\_TASK}$', rotation=0, fontweight='bold', fontsize=ylabel_size)\n",
    "    ax[i].set_yticks([])\n",
    "    leg_items = [\n",
    "        Line2D([0],[0],marker='o',color='w',markerfacecolor=colors[i]['SHORT'],markersize=msi,label='SHORT'),\n",
    "        Line2D([0],[0],marker='o',color='w',markerfacecolor=colors[i]['MEDIUM'],markersize=msi,label='MEDIUM'),\n",
    "        Line2D([0],[0],marker='o',color='w',markerfacecolor=colors[i]['LONG'],markersize=msi,label='LONG')]\n",
    "    ax[i].legend(handles=leg_items, bbox_to_anchor=(1.05, 0.5), loc='center left', borderaxespad=0, labelspacing=0.1)\n",
    "    ax[i].spines['top'].set_visible(False); ax[i].spines['right'].set_visible(False)\n",
    "\n",
    "    i = 6\n",
    "    y_pos = 0\n",
    "    for t, s in zip(range(_T), _yArtDsg_mods['yᴬʳᵗᴰˢᵍ₁']):\n",
    "        ax[i].scatter(t, y_pos, color=colors[i][s], s=siz, label=s)\n",
    "    ax[i].set_ylabel('$y^{\\mathrm{ArtDsg}}_{1t}, \\mathrm{EYE\\_TRACKING\\_OBS}$', rotation=0, fontweight='bold', fontsize=ylabel_size)\n",
    "    ax[i].set_yticks([])\n",
    "    leg_items = [\n",
    "        Line2D([0],[0],marker='o',color='w',markerfacecolor=colors[i]['FOCUSED_OBS'],markersize=msi,label='FOCUSED_OBS'),\n",
    "        Line2D([0],[0],marker='o',color='w',markerfacecolor=colors[i]['SCATTERED_OBS'],markersize=msi,label='SCATTERED_OBS'),\n",
    "        Line2D([0],[0],marker='o',color='w',markerfacecolor=colors[i]['NEUTRAL_OBS'],markersize=msi,label='NEUTRAL_OBS')]\n",
    "    ax[i].legend(handles=leg_items, bbox_to_anchor=(1.05, 0.5), loc='center left', borderaxespad=0, labelspacing=0.1)\n",
    "    ax[i].spines['top'].set_visible(False); ax[i].spines['right'].set_visible(False)\n",
    "\n",
    "    i = 7\n",
    "    y_pos = 0\n",
    "    for t, s in zip(range(_T), _yArtDsg_mods['yᴬʳᵗᴰˢᵍ₂']):\n",
    "        ax[i].scatter(t, y_pos, color=colors[i][s], s=siz, label=s)\n",
    "    ax[i].set_ylabel('$y^{\\mathrm{ArtDsg}}_{2t}, \\mathrm{TIME\\_ON\\_TASK\\_OBS}$', rotation=0, fontweight='bold', fontsize=ylabel_size)\n",
    "    ax[i].set_yticks([])\n",
    "    leg_items = [\n",
    "        Line2D([0],[0],marker='o',color='w',markerfacecolor=colors[i]['SHORT_OBS'],markersize=msi,label='SHORT_OBS'),\n",
    "        Line2D([0],[0],marker='o',color='w',markerfacecolor=colors[i]['MEDIUM_OBS'],markersize=msi,label='MEDIUM_OBS'),\n",
    "        Line2D([0],[0],marker='o',color='w',markerfacecolor=colors[i]['LONG_OBS'],markersize=msi,label='LONG_OBS')]\n",
    "    ax[i].legend(handles=leg_items, bbox_to_anchor=(1.05, 0.5), loc='center left', borderaxespad=0, labelspacing=0.1)\n",
    "    ax[i].spines['top'].set_visible(False); ax[i].spines['right'].set_visible(False)\n",
    "\n",
    "    i = 8\n",
    "    y_pos = 0\n",
    "    for t, s in zip(range(_T), _yArtDsg_mods['yᴬʳᵗᴰˢᵍ₃']):\n",
    "        ax[i].scatter(t, y_pos, color=colors[i][s], s=siz, label=s)\n",
    "    ax[i].set_ylabel('$y^{\\mathrm{ArtDsg}}_{3t}, \\mathrm{UI\\_FEATURES\\_OBS}$', rotation=0, fontweight='bold', fontsize=ylabel_size)\n",
    "    ax[i].set_yticks([])\n",
    "    leg_items = [\n",
    "        Line2D([0],[0],marker='o',color='w',markerfacecolor=colors[i]['MINIMAL_OBS'],markersize=msi,label='MINIMAL_OBS'),\n",
    "        Line2D([0],[0],marker='o',color='w',markerfacecolor=colors[i]['STANDARD_OBS'],markersize=msi,label='STANDARD_OBS'),\n",
    "        Line2D([0],[0],marker='o',color='w',markerfacecolor=colors[i]['ADVANCED_OBS'],markersize=msi,label='ADVANCED_OBS')]\n",
    "    ax[i].legend(handles=leg_items, bbox_to_anchor=(1.05, 0.5), loc='center left', borderaxespad=0, labelspacing=0.1)\n",
    "    ax[i].spines['top'].set_visible(False); ax[i].spines['right'].set_visible(False)\n",
    "\n",
    "    ax[i].xaxis.set_major_locator(MaxNLocator(integer=True))\n",
    "    ax[i].set_xlabel('$\\mathrm{time,}\\ t$', fontweight='bold', fontsize=12)\n",
    "\n",
    "    plt.tight_layout()\n",
    "    plt.subplots_adjust(hspace=0.1)\n",
    "    plt.show()\n",
    "    plt.savefig(\"Designer-Artifact.png\")\n",
    "    print(\"Plot saved as 'Designer-Artifact.png'.\")"
   ]
  },
  {
   "cell_type": "code",
   "execution_count": 72,
   "metadata": {},
   "outputs": [],
   "source": [
    "def visualize_Artifact_User():\n",
    "    colors = [\n",
    "    {'NULL_ACT':'black'}, ## aArtUsr_1\n",
    "    {'ADJUST_NOTIFS_ACT':'red', 'ADJUST_COLORS_ACT':'green', 'ADJUST_TEXT_SIZE_ACT': 'blue'}, ## aArtUsr_2\n",
    "\n",
    "    {'FREQUENT':'orange', 'INFREQUENT':'purple'}, ## sUsrArt_1\n",
    "    {'SWIPES':'red', 'TAPS':'green', 'VOICE': 'blue'}, ## sUsrArt_2\n",
    "\n",
    "    {'FREQUENT':'orange', 'INFREQUENT':'purple'}, ## qIsIUsrArt_1\n",
    "    {'SWIPES':'red', 'TAPS':'green', 'VOICE': 'blue'}, ## qIsIUsrArt_2\n",
    "\n",
    "    {'FREQUENT_OBS':'orange', 'MODERATE_OBS':'purple', 'INFREQUENT_OBS':'pink'}, ## yUsrArt_1\n",
    "    {'SWIPES_OBS':'red', 'TAPS_OBS':'green', 'VOICE_OBS': 'blue'}, ## yUsrArt_2\n",
    "    {'FEW_OBS':'red', 'SOME_OBS':'green', 'MANY_OBS': 'blue'} ## yUsrArt_3\n",
    "    ]\n",
    "\n",
    "    ylabel_size = 12\n",
    "    msi = 7 ## markersize for Line2D, diameter in points\n",
    "    siz = (msi/2)**2 * np.pi ## size for scatter, area of marker in points squared\n",
    "\n",
    "    fig = plt.figure(figsize=(9, 6))\n",
    "    gs = GridSpec(9, 1, figure=fig, height_ratios=[1, 1, 1, 1, 1, 1, 1, 1, 1])\n",
    "    ax = [fig.add_subplot(gs[i]) for i in range(9)]\n",
    "\n",
    "    i = 0\n",
    "    ax[i].set_title(f'Artifact/User interaction', fontweight='bold',fontsize=14)\n",
    "    y_pos = 0\n",
    "    for t, s in zip(range(_T), _aArtUsr_facs['aᴬʳᵗᵁˢʳ₁']):\n",
    "        ax[i].scatter(t, y_pos, color=colors[i][s], s=siz)\n",
    "    ax[i].set_ylabel('$a^{\\mathrm{ArtUsr}}_{1t}, \\mathrm{NULL}$', rotation=0, fontweight='bold', fontsize=ylabel_size)\n",
    "    ax[i].set_yticks([])\n",
    "    ax[i].set_xticklabels([])\n",
    "    leg_items = [\n",
    "        Line2D([0],[0],marker='o',color='w',markerfacecolor='black',markersize=msi,label='NULL_ACT')]\n",
    "    ax[i].legend(handles=leg_items, bbox_to_anchor=(1.05, 0.5), loc='center left', borderaxespad=0, labelspacing=0.1)\n",
    "    ax[i].spines['top'].set_visible(False); ax[i].spines['right'].set_visible(False)\n",
    "\n",
    "    i = 1\n",
    "    y_pos = 0\n",
    "    for t, s in zip(range(_T), _aArtUsr_facs['aᴬʳᵗᵁˢʳ₂']):\n",
    "        ax[i].scatter(t, y_pos, color=colors[i][s], s=siz, label=s)\n",
    "    ax[i].set_ylabel('$a^{\\mathrm{ArtUsr}}_{2t}, \\mathrm{ADJUST\\_SCREEN\\_OUTPUT\\_ACTION}$', rotation=0, fontweight='bold', fontsize=ylabel_size)\n",
    "    ax[i].set_yticks([])\n",
    "    leg_items = [\n",
    "        Line2D([0],[0],marker='o',color='w',markerfacecolor=colors[i]['ADJUST_NOTIFS_ACT'],markersize=msi,label='ADJUST_NOTIFS_ACT'),\n",
    "        Line2D([0],[0],marker='o',color='w',markerfacecolor=colors[i]['ADJUST_COLORS_ACT'],markersize=msi,label='ADJUST_COLORS_ACT'),\n",
    "        Line2D([0],[0],marker='o',color='w',markerfacecolor=colors[i]['ADJUST_TEXT_SIZE_ACT'],markersize=msi,label='ADJUST_TEXT_SIZE_ACT')]\n",
    "    ax[i].legend(handles=leg_items, bbox_to_anchor=(1.05, 0.5), loc='center left', borderaxespad=0, labelspacing=0.1)\n",
    "    ax[i].spines['top'].set_visible(False); ax[i].spines['right'].set_visible(False)\n",
    "\n",
    "    i = 2\n",
    "    y_pos = 0\n",
    "    for t, s in zip(range(_T), _sUsrArt_facs['sᵁˢʳᴬʳᵗ₁']):\n",
    "        ax[i].scatter(t, y_pos, color=colors[i][s], s=siz)\n",
    "    ax[i].set_ylabel('$s^{\\mathrm{Usr}}_{1t}, \\mathrm{TOUCH\\_DATA}$', rotation=0, fontweight='bold', fontsize=ylabel_size)\n",
    "    ax[i].set_yticks([])\n",
    "    ax[i].set_xticklabels([])\n",
    "    leg_items = [\n",
    "        Line2D([0],[0],marker='o',color='w',markerfacecolor=colors[i]['FREQUENT'],markersize=msi,label='FREQUENT'),\n",
    "        Line2D([0],[0],marker='o',color='w',markerfacecolor=colors[i]['INFREQUENT'],markersize=msi,label='INFREQUENT')]\n",
    "    ax[i].legend(handles=leg_items, bbox_to_anchor=(1.05, 0.5), loc='center left', borderaxespad=0, labelspacing=0.1)\n",
    "    ax[i].spines['top'].set_visible(False); ax[i].spines['right'].set_visible(False)\n",
    "\n",
    "    i = 3\n",
    "    y_pos = 0\n",
    "    for t, s in zip(range(_T), _sUsrArt_facs['sᵁˢʳᴬʳᵗ₂']):\n",
    "        ax[i].scatter(t, y_pos, color=colors[i][s], s=siz, label=s)\n",
    "    ax[i].set_ylabel('$s^{\\mathrm{UsrArt}}_{2t}, \\mathrm{GESTURES}$', rotation=0, fontweight='bold', fontsize=ylabel_size)\n",
    "    ax[i].set_yticks([])\n",
    "    leg_items = [\n",
    "        Line2D([0],[0],marker='o',color='w',markerfacecolor=colors[i]['SWIPES'],markersize=msi,label='SWIPES'),\n",
    "        Line2D([0],[0],marker='o',color='w',markerfacecolor=colors[i]['TAPS'],markersize=msi,label='TAPS'),\n",
    "        Line2D([0],[0],marker='o',color='w',markerfacecolor=colors[i]['VOICE'],markersize=msi,label='VOICE')]\n",
    "    ax[i].legend(handles=leg_items, bbox_to_anchor=(1.05, 0.5), loc='center left', borderaxespad=0, labelspacing=0.1)\n",
    "    ax[i].spines['top'].set_visible(False); ax[i].spines['right'].set_visible(False)\n",
    "\n",
    "    i = 4\n",
    "    y_pos = 0\n",
    "    for t, s in zip(range(_T), _sUsrArt_facs['sᵁˢʳᴬʳᵗ₁']):\n",
    "        ax[i].scatter(t, y_pos, color=colors[i][s], s=siz)\n",
    "    ax[i].set_ylabel('$q(s)^{\\mathrm{UsrArt}}_{1t}, \\mathrm{TOUCH\\_DATA}$', rotation=0, fontweight='bold', fontsize=ylabel_size)\n",
    "    ax[i].set_yticks([])\n",
    "    ax[i].set_xticklabels([])\n",
    "    leg_items = [\n",
    "        Line2D([0],[0],marker='o',color='w',markerfacecolor=colors[i]['FREQUENT'],markersize=msi,label='FREQUENT'),\n",
    "        Line2D([0],[0],marker='o',color='w',markerfacecolor=colors[i]['INFREQUENT'],markersize=msi,label='INFREQUENT')]\n",
    "    ax[i].legend(handles=leg_items, bbox_to_anchor=(1.05, 0.5), loc='center left', borderaxespad=0, labelspacing=0.1)\n",
    "    ax[i].spines['top'].set_visible(False); ax[i].spines['right'].set_visible(False)\n",
    "\n",
    "    i = 5\n",
    "    y_pos = 0\n",
    "    for t, s in zip(range(_T), _sUsrArt_facs['sᵁˢʳᴬʳᵗ₂']):\n",
    "        ax[i].scatter(t, y_pos, color=colors[i][s], s=siz, label=s)\n",
    "    ax[i].set_ylabel('$q(s)^{\\mathrm{UsrArt}}_{2t}, \\mathrm{GESTURES}$', rotation=0, fontweight='bold', fontsize=ylabel_size)\n",
    "    ax[i].set_yticks([])\n",
    "    leg_items = [\n",
    "        Line2D([0],[0],marker='o',color='w',markerfacecolor=colors[i]['SWIPES'],markersize=msi,label='SWIPES'),\n",
    "        Line2D([0],[0],marker='o',color='w',markerfacecolor=colors[i]['TAPS'],markersize=msi,label='TAPS'),\n",
    "        Line2D([0],[0],marker='o',color='w',markerfacecolor=colors[i]['VOICE'],markersize=msi,label='VOICE')]\n",
    "    ax[i].legend(handles=leg_items, bbox_to_anchor=(1.05, 0.5), loc='center left', borderaxespad=0, labelspacing=0.1)\n",
    "    ax[i].spines['top'].set_visible(False); ax[i].spines['right'].set_visible(False)\n",
    "\n",
    "    i = 6\n",
    "    y_pos = 0\n",
    "    for t, s in zip(range(_T), _yUsrArt_mods['yᵁˢʳᴬʳᵗ₁']):\n",
    "        ax[i].scatter(t, y_pos, color=colors[i][s], s=siz, label=s)\n",
    "    ax[i].set_ylabel('$y^{\\mathrm{UsrArt}}_{1t}, \\mathrm{TOUCH\\_DATA\\_OBS}$', rotation=0, fontweight='bold', fontsize=ylabel_size)\n",
    "    ax[i].set_yticks([])\n",
    "    leg_items = [\n",
    "        Line2D([0],[0],marker='o',color='w',markerfacecolor=colors[i]['FREQUENT_OBS'],markersize=msi,label='FREQUENT_OBS'),\n",
    "        Line2D([0],[0],marker='o',color='w',markerfacecolor=colors[i]['MODERATE_OBS'],markersize=msi,label='MODERATE_OBS'),\n",
    "        Line2D([0],[0],marker='o',color='w',markerfacecolor=colors[i]['INFREQUENT_OBS'],markersize=msi,label='INFREQUENT_OBS')]\n",
    "    ax[i].legend(handles=leg_items, bbox_to_anchor=(1.05, 0.5), loc='center left', borderaxespad=0, labelspacing=0.1)\n",
    "    ax[i].spines['top'].set_visible(False); ax[i].spines['right'].set_visible(False)\n",
    "\n",
    "    i = 7\n",
    "    y_pos = 0\n",
    "    for t, s in zip(range(_T), _yUsrArt_mods['yᵁˢʳᴬʳᵗ₂']):\n",
    "        ax[i].scatter(t, y_pos, color=colors[i][s], s=siz, label=s)\n",
    "    ax[i].set_ylabel('$y^{\\mathrm{UsrArt}}_{2t}, \\mathrm{GESTURES\\_OBS}$', rotation=0, fontweight='bold', fontsize=ylabel_size)\n",
    "    ax[i].set_yticks([])\n",
    "    leg_items = [\n",
    "        Line2D([0],[0],marker='o',color='w',markerfacecolor=colors[i]['SWIPES_OBS'],markersize=msi,label='SWIPES_OBS'),\n",
    "        Line2D([0],[0],marker='o',color='w',markerfacecolor=colors[i]['TAPS_OBS'],markersize=msi,label='TAPS_OBS'),\n",
    "        Line2D([0],[0],marker='o',color='w',markerfacecolor=colors[i]['VOICE_OBS'],markersize=msi,label='VOICE_OBS')]\n",
    "    ax[i].legend(handles=leg_items, bbox_to_anchor=(1.05, 0.5), loc='center left', borderaxespad=0, labelspacing=0.1)\n",
    "    ax[i].spines['top'].set_visible(False); ax[i].spines['right'].set_visible(False)\n",
    "\n",
    "    i = 8\n",
    "    y_pos = 0\n",
    "    for t, s in zip(range(_T), _yUsrArt_mods['yᵁˢʳᴬʳᵗ₃']):\n",
    "        ax[i].scatter(t, y_pos, color=colors[i][s], s=siz, label=s)\n",
    "    ax[i].set_ylabel('$y^{\\mathrm{UsrArt}}_{3t}, \\mathrm{APP\\_SWITCHES\\_OBS}$', rotation=0, fontweight='bold', fontsize=ylabel_size)\n",
    "    ax[i].set_yticks([])\n",
    "    leg_items = [\n",
    "        Line2D([0],[0],marker='o',color='w',markerfacecolor=colors[i]['FEW_OBS'],markersize=msi,label='FEW_OBS'),\n",
    "        Line2D([0],[0],marker='o',color='w',markerfacecolor=colors[i]['SOME_OBS'],markersize=msi,label='SOME_OBS'),\n",
    "        Line2D([0],[0],marker='o',color='w',markerfacecolor=colors[i]['MANY_OBS'],markersize=msi,label='MANY_OBS')]\n",
    "    ax[i].legend(handles=leg_items, bbox_to_anchor=(1.05, 0.5), loc='center left', borderaxespad=0, labelspacing=0.1)\n",
    "    ax[i].spines['top'].set_visible(False); ax[i].spines['right'].set_visible(False)\n",
    "\n",
    "    ax[i].xaxis.set_major_locator(MaxNLocator(integer=True))\n",
    "    ax[i].set_xlabel('$\\mathrm{time,}\\ t$', fontweight='bold', fontsize=12)\n",
    "\n",
    "    plt.tight_layout()\n",
    "    plt.subplots_adjust(hspace=0.1) ## Adjust this value as needed\n",
    "    plt.show()\n",
    "    plt.savefig(\"Artifact-User.png\")\n",
    "    print(\"Plot saved as 'Artifact-User.png'.\")"
   ]
  },
  {
   "cell_type": "code",
   "execution_count": 73,
   "metadata": {},
   "outputs": [],
   "source": [
    "def visualize_User_Artifact():\n",
    "    colors = [\n",
    "    {'SIGNUP_ACT':'red', 'CONTACT_REQUEST_ACT':'green', 'PURCHASE_ACT': 'blue'}, ## aUsrArt_1\n",
    "\n",
    "    {'LOW':'orange', 'HIGH':'purple'}, ## sArtUsr_1\n",
    "\n",
    "    {'LOW':'orange', 'HIGH':'purple'}, ## qIsIArtUsr_1\n",
    "\n",
    "    {'LOW_OBS':'orange', 'MEDIUM_OBS':'purple', 'HIGH_OBS':'pink'}, ## yArtUsr_1\n",
    "    ]\n",
    "\n",
    "    ylabel_size = 12\n",
    "    msi = 7 ## markersize for Line2D, diameter in points\n",
    "    siz = (msi/2)**2 * np.pi ## size for scatter, area of marker in points squared\n",
    "\n",
    "    fig = plt.figure(figsize=(9, 6))\n",
    "    gs = GridSpec(4, 1, figure=fig, height_ratios=[1, 1, 1, 1])\n",
    "    ax = [fig.add_subplot(gs[i]) for i in range(4)]\n",
    "\n",
    "    i = 0\n",
    "    y_pos = 0\n",
    "    ax[i].set_title(f'User/Artifact interaction', fontweight='bold',fontsize=14)\n",
    "\n",
    "    for t, s in zip(range(_T), _aUsrArt_facs['aᵁˢʳᴬʳᵗ₁']):\n",
    "        ax[i].scatter(t, y_pos, color=colors[i][s], s=siz, label=s)\n",
    "    ax[i].set_ylabel('$a^{\\mathrm{UsrArt}}_{1t}, \\mathrm{ENGAGE\\_ACTION}$', rotation=0, fontweight='bold', fontsize=ylabel_size)\n",
    "    ax[i].set_yticks([])\n",
    "    leg_items = [\n",
    "        Line2D([0],[0],marker='o',color='w',markerfacecolor=colors[i]['SIGNUP_ACT'],markersize=msi,label='SIGNUP_ACT'),\n",
    "        Line2D([0],[0],marker='o',color='w',markerfacecolor=colors[i]['CONTACT_REQUEST_ACT'],markersize=msi,label='CONTACT_REQUEST_ACT'),\n",
    "        Line2D([0],[0],marker='o',color='w',markerfacecolor=colors[i]['PURCHASE_ACT'],markersize=msi,label='PURCHASE_ACT')]\n",
    "    ax[i].legend(handles=leg_items, bbox_to_anchor=(1.05, 0.5), loc='center left', borderaxespad=0, labelspacing=0.1)\n",
    "    ax[i].spines['top'].set_visible(False); ax[i].spines['right'].set_visible(False)\n",
    "\n",
    "    i = 1\n",
    "    y_pos = 0\n",
    "    for t, s in zip(range(_T), _sArtUsr_facs['sᴬʳᵗᵁˢʳ₁']):\n",
    "        ax[i].scatter(t, y_pos, color=colors[i][s], s=siz)\n",
    "    ax[i].set_ylabel('$s^{\\mathrm{ArtUsr}}_{1t}, \\mathrm{CONVERSION\\_POTENTIAL}$', rotation=0, fontweight='bold', fontsize=ylabel_size)\n",
    "    ax[i].set_yticks([])\n",
    "    ax[i].set_xticklabels([])\n",
    "    leg_items = [\n",
    "        Line2D([0],[0],marker='o',color='w',markerfacecolor=colors[i]['LOW'],markersize=msi,label='LOW'),\n",
    "        Line2D([0],[0],marker='o',color='w',markerfacecolor=colors[i]['HIGH'],markersize=msi,label='HIGH')]\n",
    "    ax[i].legend(handles=leg_items, bbox_to_anchor=(1.05, 0.5), loc='center left', borderaxespad=0, labelspacing=0.1)\n",
    "    ax[i].spines['top'].set_visible(False); ax[i].spines['right'].set_visible(False)\n",
    "\n",
    "    i = 2\n",
    "    y_pos = 0\n",
    "    for t, s in zip(range(_T), _sArtUsr_facs['sᴬʳᵗᵁˢʳ₁']):\n",
    "        ax[i].scatter(t, y_pos, color=colors[i][s], s=siz)\n",
    "    ax[i].set_ylabel('$q(s)^{\\mathrm{ArtUsr}}_{1t}, \\mathrm{CONVERSION\\_POTENTIAL}$', rotation=0, fontweight='bold', fontsize=ylabel_size)\n",
    "    ax[i].set_yticks([])\n",
    "    ax[i].set_xticklabels([])\n",
    "    leg_items = [\n",
    "        Line2D([0],[0],marker='o',color='w',markerfacecolor=colors[i]['LOW'],markersize=msi,label='LOW'),\n",
    "        Line2D([0],[0],marker='o',color='w',markerfacecolor=colors[i]['HIGH'],markersize=msi,label='HIGH')]\n",
    "    ax[i].legend(handles=leg_items, bbox_to_anchor=(1.05, 0.5), loc='center left', borderaxespad=0, labelspacing=0.1)\n",
    "    ax[i].spines['top'].set_visible(False); ax[i].spines['right'].set_visible(False)\n",
    "\n",
    "    i = 3\n",
    "    y_pos = 0\n",
    "    for t, s in zip(range(_T), _yArtUsr_mods['yᴬʳᵗᵁˢʳ₁']):\n",
    "        ax[i].scatter(t, y_pos, color=colors[i][s], s=siz, label=s)\n",
    "    ax[i].set_ylabel('$y^{\\mathrm{ArtUsr}}_{1t}, \\mathrm{CONVERSION\\_POTENTIAL\\_OBS}$', rotation=0, fontweight='bold', fontsize=ylabel_size)\n",
    "    ax[i].set_yticks([])\n",
    "    leg_items = [\n",
    "        Line2D([0],[0],marker='o',color='w',markerfacecolor=colors[i]['LOW_OBS'],markersize=msi,label='LOW_OBS'),\n",
    "        Line2D([0],[0],marker='o',color='w',markerfacecolor=colors[i]['MEDIUM_OBS'],markersize=msi,label='MEDIUM_OBS'),\n",
    "        Line2D([0],[0],marker='o',color='w',markerfacecolor=colors[i]['HIGH_OBS'],markersize=msi,label='HIGH_OBS')]\n",
    "    ax[i].legend(handles=leg_items, bbox_to_anchor=(1.05, 0.5), loc='center left',borderaxespad=0, labelspacing=0.1)\n",
    "    ax[i].spines['top'].set_visible(False); ax[i].spines['right'].set_visible(False)\n",
    "\n",
    "    ax[i].xaxis.set_major_locator(MaxNLocator(integer=True))\n",
    "    ax[i].set_xlabel('$\\mathrm{time,}\\ t$', fontweight='bold', fontsize=12)\n",
    "\n",
    "    plt.tight_layout()\n",
    "    plt.subplots_adjust(hspace=0.1) ## Adjust this value as needed\n",
    "    plt.show()\n",
    "    plt.savefig(\"User-Artifact.png\")\n",
    "    print(\"Plot saved as 'User-Artifact.png'.\")"
   ]
  },
  {
   "cell_type": "code",
   "execution_count": 77,
   "metadata": {},
   "outputs": [
    {
     "name": "stdout",
     "output_type": "stream",
     "text": [
      "\n",
      "Time 0:\n",
      "___act___\n",
      "_a: [('aᴰˢᵍᴬʳᵗ₁', 'NULL_ACT'), ('aᴰˢᵍᴬʳᵗ₂', 'NO_CHANGE_ACT')]\n",
      "RAW action: [0. 0. 0.]\n",
      "_a: [('aᴬʳᵗᵁˢʳ₁', 'NULL_ACT'), ('aᴬʳᵗᵁˢʳ₂', 'ADJUST_NOTIFS_ACT')]\n",
      "RAW action: [0. 0. 0.]\n",
      "_a: [('aᵁˢʳᴬʳᵗ₁', 'SIGNUP_ACT')]\n",
      "RAW action: [0. 0. 0.]\n",
      "___future___\n",
      "qIpiI=array([0.03478899, 0.20528675, 0.75992426])\n",
      "GNeg=array([-3.60483043, -3.49388625, -3.41208556])\n",
      "qIpiI=array([0.03478899, 0.20528675, 0.75992426])\n",
      "GNeg=array([-3.60483043, -3.49388625, -3.41208556])\n",
      "qIpiI=array([3.35237708e-04, 3.35237708e-04, 9.99329525e-01])\n",
      "GNeg=array([-1.36199458, -1.36199458, -0.86199458])\n",
      "___next___\n",
      "_s̆: [('s̆ᴬʳᵗᴰˢᵍ₁', 'FOCUSED'), ('s̆ᴬʳᵗᴰˢᵍ₂', 'SHORT')]\n",
      "_s̆: [('s̆ᵁˢʳᴬʳᵗ₁', 'FREQUENT'), ('s̆ᵁˢʳᴬʳᵗ₂', 'SWIPES')]\n",
      "_s̆: [('s̆ᴬʳᵗᵁˢʳ₁', 'LOW')]\n",
      "___observe___\n",
      "_y: [('yᴬʳᵗᴰˢᵍ₁', 'NEUTRAL_OBS'), ('yᴬʳᵗᴰˢᵍ₂', 'LONG_OBS'), ('yᴬʳᵗᴰˢᵍ₃', 'MINIMAL_OBS')]\n",
      "_y: [('yᵁˢʳᴬʳᵗ₁', 'INFREQUENT_OBS'), ('yᵁˢʳᴬʳᵗ₂', 'VOICE_OBS'), ('yᵁˢʳᴬʳᵗ₃', 'FEW_OBS')]\n",
      "_y: [('yᴬʳᵗᵁˢʳ₁', 'MEDIUM_OBS')]\n",
      "___infer___\n",
      "Beliefs: [('sᴬʳᵗᴰˢᵍ₁', array([0.5, 0.5])), ('sᴬʳᵗᴰˢᵍ₂', array([1., 0., 0.]))]\n",
      "Beliefs: [('sᵁˢʳᴬʳᵗ₁', array([0.5, 0.5])), ('sᵁˢʳᴬʳᵗ₂', array([1., 0., 0.]))]\n",
      "Beliefs: [('sᴬʳᵗᵁˢʳ₁', array([0.714, 0.286]))]\n",
      "\n",
      "Time 1:\n",
      "___act___\n",
      "_a: [('aᴰˢᵍᴬʳᵗ₁', 'NULL_ACT'), ('aᴰˢᵍᴬʳᵗ₂', 'CHANGE_TEXT_SIZE_ACT')]\n",
      "_a: [('aᴬʳᵗᵁˢʳ₁', 'NULL_ACT'), ('aᴬʳᵗᵁˢʳ₂', 'ADJUST_TEXT_SIZE_ACT')]\n",
      "_a: [('aᵁˢʳᴬʳᵗ₁', 'PURCHASE_ACT')]\n",
      "___future___\n",
      "qIpiI=array([0.03478899, 0.20528675, 0.75992426])\n",
      "GNeg=array([-3.60483043, -3.49388625, -3.41208556])\n",
      "qIpiI=array([0.03478899, 0.20528675, 0.75992426])\n",
      "GNeg=array([-3.60483043, -3.49388625, -3.41208556])\n",
      "qIpiI=array([3.35237708e-04, 3.35237708e-04, 9.99329525e-01])\n",
      "GNeg=array([-1.36199458, -1.36199458, -0.86199458])\n",
      "___next___\n",
      "_s̆: [('s̆ᴬʳᵗᴰˢᵍ₁', 'FOCUSED'), ('s̆ᴬʳᵗᴰˢᵍ₂', 'LONG')]\n",
      "_s̆: [('s̆ᵁˢʳᴬʳᵗ₁', 'FREQUENT'), ('s̆ᵁˢʳᴬʳᵗ₂', 'VOICE')]\n",
      "_s̆: [('s̆ᴬʳᵗᵁˢʳ₁', 'HIGH')]\n",
      "___observe___\n",
      "_y: [('yᴬʳᵗᴰˢᵍ₁', 'SCATTERED_OBS'), ('yᴬʳᵗᴰˢᵍ₂', 'LONG_OBS'), ('yᴬʳᵗᴰˢᵍ₃', 'ADVANCED_OBS')]\n",
      "_y: [('yᵁˢʳᴬʳᵗ₁', 'MODERATE_OBS'), ('yᵁˢʳᴬʳᵗ₂', 'VOICE_OBS'), ('yᵁˢʳᴬʳᵗ₃', 'MANY_OBS')]\n",
      "_y: [('yᴬʳᵗᵁˢʳ₁', 'HIGH_OBS')]\n",
      "___infer___\n",
      "Beliefs: [('sᴬʳᵗᴰˢᵍ₁', array([0.2, 0.8])), ('sᴬʳᵗᴰˢᵍ₂', array([0., 0., 1.]))]\n",
      "Beliefs: [('sᵁˢʳᴬʳᵗ₁', array([0.2, 0.8])), ('sᵁˢʳᴬʳᵗ₂', array([0., 0., 1.]))]\n",
      "Beliefs: [('sᴬʳᵗᵁˢʳ₁', array([0., 1.]))]\n",
      "\n",
      "Time 2:\n",
      "___act___\n",
      "_a: [('aᴰˢᵍᴬʳᵗ₁', 'NULL_ACT'), ('aᴰˢᵍᴬʳᵗ₂', 'CHANGE_TEXT_SIZE_ACT')]\n",
      "_a: [('aᴬʳᵗᵁˢʳ₁', 'NULL_ACT'), ('aᴬʳᵗᵁˢʳ₂', 'ADJUST_TEXT_SIZE_ACT')]\n",
      "_a: [('aᵁˢʳᴬʳᵗ₁', 'PURCHASE_ACT')]\n",
      "___future___\n",
      "qIpiI=array([0.1162517 , 0.00435522, 0.87939308])\n",
      "GNeg=array([-3.60483043, -3.81010428, -3.47836328])\n",
      "qIpiI=array([0.1162517 , 0.00435522, 0.87939308])\n",
      "GNeg=array([-3.60483043, -3.81010428, -3.47836328])\n",
      "qIpiI=array([3.35237708e-04, 3.35237708e-04, 9.99329525e-01])\n",
      "GNeg=array([-1.36199458, -1.36199458, -0.86199458])\n",
      "___next___\n",
      "_s̆: [('s̆ᴬʳᵗᴰˢᵍ₁', 'FOCUSED'), ('s̆ᴬʳᵗᴰˢᵍ₂', 'LONG')]\n",
      "_s̆: [('s̆ᵁˢʳᴬʳᵗ₁', 'FREQUENT'), ('s̆ᵁˢʳᴬʳᵗ₂', 'VOICE')]\n",
      "_s̆: [('s̆ᴬʳᵗᵁˢʳ₁', 'HIGH')]\n",
      "___observe___\n",
      "_y: [('yᴬʳᵗᴰˢᵍ₁', 'FOCUSED_OBS'), ('yᴬʳᵗᴰˢᵍ₂', 'LONG_OBS'), ('yᴬʳᵗᴰˢᵍ₃', 'ADVANCED_OBS')]\n",
      "_y: [('yᵁˢʳᴬʳᵗ₁', 'FREQUENT_OBS'), ('yᵁˢʳᴬʳᵗ₂', 'VOICE_OBS'), ('yᵁˢʳᴬʳᵗ₃', 'MANY_OBS')]\n",
      "_y: [('yᴬʳᵗᵁˢʳ₁', 'MEDIUM_OBS')]\n",
      "___infer___\n",
      "Beliefs: [('sᴬʳᵗᴰˢᵍ₁', array([0.5, 0.5])), ('sᴬʳᵗᴰˢᵍ₂', array([0., 0., 1.]))]\n",
      "Beliefs: [('sᵁˢʳᴬʳᵗ₁', array([0.5, 0.5])), ('sᵁˢʳᴬʳᵗ₂', array([0., 0., 1.]))]\n",
      "Beliefs: [('sᴬʳᵗᵁˢʳ₁', array([0., 1.]))]\n",
      "\n",
      "Time 3:\n",
      "___act___\n",
      "_a: [('aᴰˢᵍᴬʳᵗ₁', 'NULL_ACT'), ('aᴰˢᵍᴬʳᵗ₂', 'CHANGE_TEXT_SIZE_ACT')]\n",
      "_a: [('aᴬʳᵗᵁˢʳ₁', 'NULL_ACT'), ('aᴬʳᵗᵁˢʳ₂', 'ADJUST_TEXT_SIZE_ACT')]\n",
      "_a: [('aᵁˢʳᴬʳᵗ₁', 'PURCHASE_ACT')]\n",
      "___future___\n",
      "qIpiI=array([0.03478899, 0.20528675, 0.75992426])\n",
      "GNeg=array([-3.60483043, -3.49388625, -3.41208556])\n",
      "qIpiI=array([0.03478899, 0.20528675, 0.75992426])\n",
      "GNeg=array([-3.60483043, -3.49388625, -3.41208556])\n",
      "qIpiI=array([3.35237708e-04, 3.35237708e-04, 9.99329525e-01])\n",
      "GNeg=array([-1.36199458, -1.36199458, -0.86199458])\n",
      "___next___\n",
      "_s̆: [('s̆ᴬʳᵗᴰˢᵍ₁', 'FOCUSED'), ('s̆ᴬʳᵗᴰˢᵍ₂', 'LONG')]\n",
      "_s̆: [('s̆ᵁˢʳᴬʳᵗ₁', 'FREQUENT'), ('s̆ᵁˢʳᴬʳᵗ₂', 'VOICE')]\n",
      "_s̆: [('s̆ᴬʳᵗᵁˢʳ₁', 'HIGH')]\n",
      "___observe___\n",
      "_y: [('yᴬʳᵗᴰˢᵍ₁', 'FOCUSED_OBS'), ('yᴬʳᵗᴰˢᵍ₂', 'LONG_OBS'), ('yᴬʳᵗᴰˢᵍ₃', 'ADVANCED_OBS')]\n",
      "_y: [('yᵁˢʳᴬʳᵗ₁', 'MODERATE_OBS'), ('yᵁˢʳᴬʳᵗ₂', 'VOICE_OBS'), ('yᵁˢʳᴬʳᵗ₃', 'MANY_OBS')]\n",
      "_y: [('yᴬʳᵗᵁˢʳ₁', 'MEDIUM_OBS')]\n",
      "___infer___\n",
      "Beliefs: [('sᴬʳᵗᴰˢᵍ₁', array([0.8, 0.2])), ('sᴬʳᵗᴰˢᵍ₂', array([0., 0., 1.]))]\n",
      "Beliefs: [('sᵁˢʳᴬʳᵗ₁', array([0.2, 0.8])), ('sᵁˢʳᴬʳᵗ₂', array([0., 0., 1.]))]\n",
      "Beliefs: [('sᴬʳᵗᵁˢʳ₁', array([0., 1.]))]\n",
      "\n",
      "Time 4:\n",
      "___act___\n",
      "_a: [('aᴰˢᵍᴬʳᵗ₁', 'NULL_ACT'), ('aᴰˢᵍᴬʳᵗ₂', 'CHANGE_TEXT_SIZE_ACT')]\n",
      "_a: [('aᴬʳᵗᵁˢʳ₁', 'NULL_ACT'), ('aᴬʳᵗᵁˢʳ₂', 'ADJUST_TEXT_SIZE_ACT')]\n",
      "_a: [('aᵁˢʳᴬʳᵗ₁', 'PURCHASE_ACT')]\n",
      "___future___\n",
      "qIpiI=array([0.00362533, 0.96895062, 0.02742404])\n",
      "GNeg=array([-3.60483043, -3.25556369, -3.47836328])\n",
      "qIpiI=array([0.1162517 , 0.00435522, 0.87939308])\n",
      "GNeg=array([-3.60483043, -3.81010428, -3.47836328])\n",
      "qIpiI=array([3.35237708e-04, 3.35237708e-04, 9.99329525e-01])\n",
      "GNeg=array([-1.36199458, -1.36199458, -0.86199458])\n",
      "___next___\n",
      "_s̆: [('s̆ᴬʳᵗᴰˢᵍ₁', 'FOCUSED'), ('s̆ᴬʳᵗᴰˢᵍ₂', 'LONG')]\n",
      "_s̆: [('s̆ᵁˢʳᴬʳᵗ₁', 'FREQUENT'), ('s̆ᵁˢʳᴬʳᵗ₂', 'VOICE')]\n",
      "_s̆: [('s̆ᴬʳᵗᵁˢʳ₁', 'HIGH')]\n",
      "___observe___\n",
      "_y: [('yᴬʳᵗᴰˢᵍ₁', 'FOCUSED_OBS'), ('yᴬʳᵗᴰˢᵍ₂', 'LONG_OBS'), ('yᴬʳᵗᴰˢᵍ₃', 'ADVANCED_OBS')]\n",
      "_y: [('yᵁˢʳᴬʳᵗ₁', 'FREQUENT_OBS'), ('yᵁˢʳᴬʳᵗ₂', 'VOICE_OBS'), ('yᵁˢʳᴬʳᵗ₃', 'MANY_OBS')]\n",
      "_y: [('yᴬʳᵗᵁˢʳ₁', 'HIGH_OBS')]\n",
      "___infer___\n",
      "Beliefs: [('sᴬʳᵗᴰˢᵍ₁', array([0.941, 0.059])), ('sᴬʳᵗᴰˢᵍ₂', array([0., 0., 1.]))]\n",
      "Beliefs: [('sᵁˢʳᴬʳᵗ₁', array([0.5, 0.5])), ('sᵁˢʳᴬʳᵗ₂', array([0., 0., 1.]))]\n",
      "Beliefs: [('sᴬʳᵗᵁˢʳ₁', array([0., 1.]))]\n",
      "\n",
      "Time 5:\n",
      "___act___\n",
      "_a: [('aᴰˢᵍᴬʳᵗ₁', 'NULL_ACT'), ('aᴰˢᵍᴬʳᵗ₂', 'CHANGE_COLOR_THEME_ACT')]\n",
      "_a: [('aᴬʳᵗᵁˢʳ₁', 'NULL_ACT'), ('aᴬʳᵗᵁˢʳ₂', 'ADJUST_TEXT_SIZE_ACT')]\n",
      "_a: [('aᵁˢʳᴬʳᵗ₁', 'PURCHASE_ACT')]\n",
      "___future___\n",
      "qIpiI=array([9.75588752e-04, 9.97013954e-01, 2.01045701e-03])\n",
      "GNeg=array([-3.60483043, -3.171738  , -3.55963817])\n",
      "qIpiI=array([0.03478899, 0.20528675, 0.75992426])\n",
      "GNeg=array([-3.60483043, -3.49388625, -3.41208556])\n",
      "qIpiI=array([3.35237708e-04, 3.35237708e-04, 9.99329525e-01])\n",
      "GNeg=array([-1.36199458, -1.36199458, -0.86199458])\n",
      "___next___\n",
      "_s̆: [('s̆ᴬʳᵗᴰˢᵍ₁', 'FOCUSED'), ('s̆ᴬʳᵗᴰˢᵍ₂', 'MEDIUM')]\n",
      "_s̆: [('s̆ᵁˢʳᴬʳᵗ₁', 'FREQUENT'), ('s̆ᵁˢʳᴬʳᵗ₂', 'VOICE')]\n",
      "_s̆: [('s̆ᴬʳᵗᵁˢʳ₁', 'HIGH')]\n",
      "___observe___\n",
      "_y: [('yᴬʳᵗᴰˢᵍ₁', 'NEUTRAL_OBS'), ('yᴬʳᵗᴰˢᵍ₂', 'SHORT_OBS'), ('yᴬʳᵗᴰˢᵍ₃', 'STANDARD_OBS')]\n",
      "_y: [('yᵁˢʳᴬʳᵗ₁', 'MODERATE_OBS'), ('yᵁˢʳᴬʳᵗ₂', 'VOICE_OBS'), ('yᵁˢʳᴬʳᵗ₃', 'MANY_OBS')]\n",
      "_y: [('yᴬʳᵗᵁˢʳ₁', 'MEDIUM_OBS')]\n",
      "___infer___\n",
      "Beliefs: [('sᴬʳᵗᴰˢᵍ₁', array([0.978, 0.022])), ('sᴬʳᵗᴰˢᵍ₂', array([0., 1., 0.]))]\n",
      "Beliefs: [('sᵁˢʳᴬʳᵗ₁', array([0.2, 0.8])), ('sᵁˢʳᴬʳᵗ₂', array([0., 0., 1.]))]\n",
      "Beliefs: [('sᴬʳᵗᵁˢʳ₁', array([0., 1.]))]\n",
      "\n",
      "Time 6:\n",
      "___act___\n",
      "_a: [('aᴰˢᵍᴬʳᵗ₁', 'NULL_ACT'), ('aᴰˢᵍᴬʳᵗ₂', 'CHANGE_COLOR_THEME_ACT')]\n",
      "_a: [('aᴬʳᵗᵁˢʳ₁', 'NULL_ACT'), ('aᴬʳᵗᵁˢʳ₂', 'ADJUST_TEXT_SIZE_ACT')]\n",
      "_a: [('aᵁˢʳᴬʳᵗ₁', 'PURCHASE_ACT')]\n",
      "___future___\n",
      "qIpiI=array([7.28121866e-04, 9.98298628e-01, 9.73250403e-04])\n",
      "GNeg=array([-3.60483043, -3.15337172, -3.58669462])\n",
      "qIpiI=array([0.1162517 , 0.00435522, 0.87939308])\n",
      "GNeg=array([-3.60483043, -3.81010428, -3.47836328])\n",
      "qIpiI=array([3.35237708e-04, 3.35237708e-04, 9.99329525e-01])\n",
      "GNeg=array([-1.36199458, -1.36199458, -0.86199458])\n",
      "___next___\n",
      "_s̆: [('s̆ᴬʳᵗᴰˢᵍ₁', 'FOCUSED'), ('s̆ᴬʳᵗᴰˢᵍ₂', 'MEDIUM')]\n",
      "_s̆: [('s̆ᵁˢʳᴬʳᵗ₁', 'FREQUENT'), ('s̆ᵁˢʳᴬʳᵗ₂', 'VOICE')]\n",
      "_s̆: [('s̆ᴬʳᵗᵁˢʳ₁', 'HIGH')]\n",
      "___observe___\n",
      "_y: [('yᴬʳᵗᴰˢᵍ₁', 'NEUTRAL_OBS'), ('yᴬʳᵗᴰˢᵍ₂', 'SHORT_OBS'), ('yᴬʳᵗᴰˢᵍ₃', 'STANDARD_OBS')]\n",
      "_y: [('yᵁˢʳᴬʳᵗ₁', 'FREQUENT_OBS'), ('yᵁˢʳᴬʳᵗ₂', 'VOICE_OBS'), ('yᵁˢʳᴬʳᵗ₃', 'MANY_OBS')]\n",
      "_y: [('yᴬʳᵗᵁˢʳ₁', 'MEDIUM_OBS')]\n",
      "___infer___\n",
      "Beliefs: [('sᴬʳᵗᴰˢᵍ₁', array([0.992, 0.008])), ('sᴬʳᵗᴰˢᵍ₂', array([0., 1., 0.]))]\n",
      "Beliefs: [('sᵁˢʳᴬʳᵗ₁', array([0.5, 0.5])), ('sᵁˢʳᴬʳᵗ₂', array([0., 0., 1.]))]\n",
      "Beliefs: [('sᴬʳᵗᵁˢʳ₁', array([0., 1.]))]\n",
      "\n",
      "Time 7:\n",
      "___act___\n",
      "_a: [('aᴰˢᵍᴬʳᵗ₁', 'NULL_ACT'), ('aᴰˢᵍᴬʳᵗ₂', 'CHANGE_COLOR_THEME_ACT')]\n",
      "_a: [('aᴬʳᵗᵁˢʳ₁', 'NULL_ACT'), ('aᴬʳᵗᵁˢʳ₂', 'ADJUST_TEXT_SIZE_ACT')]\n",
      "_a: [('aᵁˢʳᴬʳᵗ₁', 'PURCHASE_ACT')]\n",
      "___future___\n",
      "qIpiI=array([6.53848020e-04, 9.98616007e-01, 7.30144782e-04])\n",
      "GNeg=array([-3.60483043, -3.14662726, -3.59793244])\n",
      "qIpiI=array([0.03478899, 0.20528675, 0.75992426])\n",
      "GNeg=array([-3.60483043, -3.49388625, -3.41208556])\n",
      "qIpiI=array([3.35237708e-04, 3.35237708e-04, 9.99329525e-01])\n",
      "GNeg=array([-1.36199458, -1.36199458, -0.86199458])\n",
      "___next___\n",
      "_s̆: [('s̆ᴬʳᵗᴰˢᵍ₁', 'FOCUSED'), ('s̆ᴬʳᵗᴰˢᵍ₂', 'MEDIUM')]\n",
      "_s̆: [('s̆ᵁˢʳᴬʳᵗ₁', 'FREQUENT'), ('s̆ᵁˢʳᴬʳᵗ₂', 'VOICE')]\n",
      "_s̆: [('s̆ᴬʳᵗᵁˢʳ₁', 'HIGH')]\n",
      "___observe___\n",
      "_y: [('yᴬʳᵗᴰˢᵍ₁', 'NEUTRAL_OBS'), ('yᴬʳᵗᴰˢᵍ₂', 'MEDIUM_OBS'), ('yᴬʳᵗᴰˢᵍ₃', 'STANDARD_OBS')]\n",
      "_y: [('yᵁˢʳᴬʳᵗ₁', 'FREQUENT_OBS'), ('yᵁˢʳᴬʳᵗ₂', 'VOICE_OBS'), ('yᵁˢʳᴬʳᵗ₃', 'MANY_OBS')]\n",
      "_y: [('yᴬʳᵗᵁˢʳ₁', 'HIGH_OBS')]\n",
      "___infer___\n",
      "Beliefs: [('sᴬʳᵗᴰˢᵍ₁', array([0.978, 0.022])), ('sᴬʳᵗᴰˢᵍ₂', array([0., 1., 0.]))]\n",
      "Beliefs: [('sᵁˢʳᴬʳᵗ₁', array([0.8, 0.2])), ('sᵁˢʳᴬʳᵗ₂', array([0., 0., 1.]))]\n",
      "Beliefs: [('sᴬʳᵗᵁˢʳ₁', array([0., 1.]))]\n",
      "\n",
      "Time 8:\n",
      "___act___\n",
      "_a: [('aᴰˢᵍᴬʳᵗ₁', 'NULL_ACT'), ('aᴰˢᵍᴬʳᵗ₂', 'CHANGE_COLOR_THEME_ACT')]\n",
      "_a: [('aᴬʳᵗᵁˢʳ₁', 'NULL_ACT'), ('aᴬʳᵗᵁˢʳ₂', 'ADJUST_TEXT_SIZE_ACT')]\n",
      "_a: [('aᵁˢʳᴬʳᵗ₁', 'PURCHASE_ACT')]\n",
      "___future___\n",
      "qIpiI=array([7.28121866e-04, 9.98298628e-01, 9.73250403e-04])\n",
      "GNeg=array([-3.60483043, -3.15337172, -3.58669462])\n",
      "qIpiI=array([0.00362533, 0.96895062, 0.02742404])\n",
      "GNeg=array([-3.60483043, -3.25556369, -3.47836328])\n",
      "qIpiI=array([3.35237708e-04, 3.35237708e-04, 9.99329525e-01])\n",
      "GNeg=array([-1.36199458, -1.36199458, -0.86199458])\n",
      "___next___\n",
      "_s̆: [('s̆ᴬʳᵗᴰˢᵍ₁', 'FOCUSED'), ('s̆ᴬʳᵗᴰˢᵍ₂', 'MEDIUM')]\n",
      "_s̆: [('s̆ᵁˢʳᴬʳᵗ₁', 'FREQUENT'), ('s̆ᵁˢʳᴬʳᵗ₂', 'VOICE')]\n",
      "_s̆: [('s̆ᴬʳᵗᵁˢʳ₁', 'HIGH')]\n",
      "___observe___\n",
      "_y: [('yᴬʳᵗᴰˢᵍ₁', 'NEUTRAL_OBS'), ('yᴬʳᵗᴰˢᵍ₂', 'SHORT_OBS'), ('yᴬʳᵗᴰˢᵍ₃', 'STANDARD_OBS')]\n",
      "_y: [('yᵁˢʳᴬʳᵗ₁', 'FREQUENT_OBS'), ('yᵁˢʳᴬʳᵗ₂', 'VOICE_OBS'), ('yᵁˢʳᴬʳᵗ₃', 'MANY_OBS')]\n",
      "_y: [('yᴬʳᵗᵁˢʳ₁', 'MEDIUM_OBS')]\n",
      "___infer___\n",
      "Beliefs: [('sᴬʳᵗᴰˢᵍ₁', array([0.992, 0.008])), ('sᴬʳᵗᴰˢᵍ₂', array([0., 1., 0.]))]\n",
      "Beliefs: [('sᵁˢʳᴬʳᵗ₁', array([0.941, 0.059])), ('sᵁˢʳᴬʳᵗ₂', array([0., 0., 1.]))]\n",
      "Beliefs: [('sᴬʳᵗᵁˢʳ₁', array([0., 1.]))]\n",
      "\n",
      "Time 9:\n",
      "___act___\n",
      "_a: [('aᴰˢᵍᴬʳᵗ₁', 'NULL_ACT'), ('aᴰˢᵍᴬʳᵗ₂', 'CHANGE_COLOR_THEME_ACT')]\n",
      "_a: [('aᴬʳᵗᵁˢʳ₁', 'NULL_ACT'), ('aᴬʳᵗᵁˢʳ₂', 'ADJUST_COLORS_ACT')]\n",
      "_a: [('aᵁˢʳᴬʳᵗ₁', 'PURCHASE_ACT')]\n",
      "___future___\n",
      "qIpiI=array([6.53848020e-04, 9.98616007e-01, 7.30144782e-04])\n",
      "GNeg=array([-3.60483043, -3.14662726, -3.59793244])\n",
      "qIpiI=array([9.75588752e-04, 9.97013954e-01, 2.01045701e-03])\n",
      "GNeg=array([-3.60483043, -3.171738  , -3.55963817])\n",
      "qIpiI=array([3.35237708e-04, 3.35237708e-04, 9.99329525e-01])\n",
      "GNeg=array([-1.36199458, -1.36199458, -0.86199458])\n",
      "___next___\n",
      "_s̆: [('s̆ᴬʳᵗᴰˢᵍ₁', 'FOCUSED'), ('s̆ᴬʳᵗᴰˢᵍ₂', 'MEDIUM')]\n",
      "_s̆: [('s̆ᵁˢʳᴬʳᵗ₁', 'FREQUENT'), ('s̆ᵁˢʳᴬʳᵗ₂', 'TAPS')]\n",
      "_s̆: [('s̆ᴬʳᵗᵁˢʳ₁', 'HIGH')]\n",
      "___observe___\n",
      "_y: [('yᴬʳᵗᴰˢᵍ₁', 'NEUTRAL_OBS'), ('yᴬʳᵗᴰˢᵍ₂', 'SHORT_OBS'), ('yᴬʳᵗᴰˢᵍ₃', 'STANDARD_OBS')]\n",
      "_y: [('yᵁˢʳᴬʳᵗ₁', 'INFREQUENT_OBS'), ('yᵁˢʳᴬʳᵗ₂', 'SWIPES_OBS'), ('yᵁˢʳᴬʳᵗ₃', 'SOME_OBS')]\n",
      "_y: [('yᴬʳᵗᵁˢʳ₁', 'HIGH_OBS')]\n",
      "___infer___\n",
      "Beliefs: [('sᴬʳᵗᴰˢᵍ₁', array([0.997, 0.003])), ('sᴬʳᵗᴰˢᵍ₂', array([0., 1., 0.]))]\n",
      "Beliefs: [('sᵁˢʳᴬʳᵗ₁', array([0.978, 0.022])), ('sᵁˢʳᴬʳᵗ₂', array([0., 1., 0.]))]\n",
      "Beliefs: [('sᴬʳᵗᵁˢʳ₁', array([0., 1.]))]\n",
      "\n",
      "Time 10:\n",
      "___act___\n",
      "_a: [('aᴰˢᵍᴬʳᵗ₁', 'NULL_ACT'), ('aᴰˢᵍᴬʳᵗ₂', 'CHANGE_COLOR_THEME_ACT')]\n",
      "_a: [('aᴬʳᵗᵁˢʳ₁', 'NULL_ACT'), ('aᴬʳᵗᵁˢʳ₂', 'ADJUST_COLORS_ACT')]\n",
      "_a: [('aᵁˢʳᴬʳᵗ₁', 'PURCHASE_ACT')]\n",
      "___future___\n",
      "qIpiI=array([6.28521104e-04, 9.98716579e-01, 6.54899545e-04])\n",
      "GNeg=array([-3.60483043, -3.14415189, -3.60226091])\n",
      "qIpiI=array([7.28121866e-04, 9.98298628e-01, 9.73250403e-04])\n",
      "GNeg=array([-3.60483043, -3.15337172, -3.58669462])\n",
      "qIpiI=array([3.35237708e-04, 3.35237708e-04, 9.99329525e-01])\n",
      "GNeg=array([-1.36199458, -1.36199458, -0.86199458])\n",
      "___next___\n",
      "_s̆: [('s̆ᴬʳᵗᴰˢᵍ₁', 'FOCUSED'), ('s̆ᴬʳᵗᴰˢᵍ₂', 'MEDIUM')]\n",
      "_s̆: [('s̆ᵁˢʳᴬʳᵗ₁', 'FREQUENT'), ('s̆ᵁˢʳᴬʳᵗ₂', 'TAPS')]\n",
      "_s̆: [('s̆ᴬʳᵗᵁˢʳ₁', 'HIGH')]\n",
      "___observe___\n",
      "_y: [('yᴬʳᵗᴰˢᵍ₁', 'NEUTRAL_OBS'), ('yᴬʳᵗᴰˢᵍ₂', 'SHORT_OBS'), ('yᴬʳᵗᴰˢᵍ₃', 'STANDARD_OBS')]\n",
      "_y: [('yᵁˢʳᴬʳᵗ₁', 'INFREQUENT_OBS'), ('yᵁˢʳᴬʳᵗ₂', 'SWIPES_OBS'), ('yᵁˢʳᴬʳᵗ₃', 'SOME_OBS')]\n",
      "_y: [('yᴬʳᵗᵁˢʳ₁', 'HIGH_OBS')]\n",
      "___infer___\n",
      "Beliefs: [('sᴬʳᵗᴰˢᵍ₁', array([0.999, 0.001])), ('sᴬʳᵗᴰˢᵍ₂', array([0., 1., 0.]))]\n",
      "Beliefs: [('sᵁˢʳᴬʳᵗ₁', array([0.992, 0.008])), ('sᵁˢʳᴬʳᵗ₂', array([0., 1., 0.]))]\n",
      "Beliefs: [('sᴬʳᵗᵁˢʳ₁', array([0., 1.]))]\n",
      "\n",
      "Time 11:\n",
      "___act___\n",
      "_a: [('aᴰˢᵍᴬʳᵗ₁', 'NULL_ACT'), ('aᴰˢᵍᴬʳᵗ₂', 'CHANGE_COLOR_THEME_ACT')]\n",
      "_a: [('aᴬʳᵗᵁˢʳ₁', 'NULL_ACT'), ('aᴬʳᵗᵁˢʳ₂', 'ADJUST_COLORS_ACT')]\n",
      "_a: [('aᵁˢʳᴬʳᵗ₁', 'PURCHASE_ACT')]\n",
      "___future___\n",
      "qIpiI=array([6.19461593e-04, 9.98751592e-01, 6.28946433e-04])\n",
      "GNeg=array([-3.60483043, -3.14324226, -3.60388072])\n",
      "qIpiI=array([6.53848020e-04, 9.98616007e-01, 7.30144782e-04])\n",
      "GNeg=array([-3.60483043, -3.14662726, -3.59793244])\n",
      "qIpiI=array([3.35237708e-04, 3.35237708e-04, 9.99329525e-01])\n",
      "GNeg=array([-1.36199458, -1.36199458, -0.86199458])\n",
      "___next___\n",
      "_s̆: [('s̆ᴬʳᵗᴰˢᵍ₁', 'FOCUSED'), ('s̆ᴬʳᵗᴰˢᵍ₂', 'MEDIUM')]\n",
      "_s̆: [('s̆ᵁˢʳᴬʳᵗ₁', 'FREQUENT'), ('s̆ᵁˢʳᴬʳᵗ₂', 'TAPS')]\n",
      "_s̆: [('s̆ᴬʳᵗᵁˢʳ₁', 'HIGH')]\n",
      "___observe___\n",
      "_y: [('yᴬʳᵗᴰˢᵍ₁', 'NEUTRAL_OBS'), ('yᴬʳᵗᴰˢᵍ₂', 'MEDIUM_OBS'), ('yᴬʳᵗᴰˢᵍ₃', 'STANDARD_OBS')]\n",
      "_y: [('yᵁˢʳᴬʳᵗ₁', 'INFREQUENT_OBS'), ('yᵁˢʳᴬʳᵗ₂', 'SWIPES_OBS'), ('yᵁˢʳᴬʳᵗ₃', 'SOME_OBS')]\n",
      "_y: [('yᴬʳᵗᵁˢʳ₁', 'MEDIUM_OBS')]\n",
      "___infer___\n",
      "Beliefs: [('sᴬʳᵗᴰˢᵍ₁', array([0.997, 0.003])), ('sᴬʳᵗᴰˢᵍ₂', array([0., 1., 0.]))]\n",
      "Beliefs: [('sᵁˢʳᴬʳᵗ₁', array([0.997, 0.003])), ('sᵁˢʳᴬʳᵗ₂', array([0., 1., 0.]))]\n",
      "Beliefs: [('sᴬʳᵗᵁˢʳ₁', array([0., 1.]))]\n",
      "\n",
      "Time 12:\n",
      "___act___\n",
      "_a: [('aᴰˢᵍᴬʳᵗ₁', 'NULL_ACT'), ('aᴰˢᵍᴬʳᵗ₂', 'CHANGE_COLOR_THEME_ACT')]\n",
      "_a: [('aᴬʳᵗᵁˢʳ₁', 'NULL_ACT'), ('aᴬʳᵗᵁˢʳ₂', 'ADJUST_COLORS_ACT')]\n",
      "_a: [('aᵁˢʳᴬʳᵗ₁', 'PURCHASE_ACT')]\n",
      "___future___\n",
      "qIpiI=array([6.28521104e-04, 9.98716579e-01, 6.54899545e-04])\n",
      "GNeg=array([-3.60483043, -3.14415189, -3.60226091])\n",
      "qIpiI=array([6.28521104e-04, 9.98716579e-01, 6.54899545e-04])\n",
      "GNeg=array([-3.60483043, -3.14415189, -3.60226091])\n",
      "qIpiI=array([3.35237708e-04, 3.35237708e-04, 9.99329525e-01])\n",
      "GNeg=array([-1.36199458, -1.36199458, -0.86199458])\n",
      "___next___\n",
      "_s̆: [('s̆ᴬʳᵗᴰˢᵍ₁', 'FOCUSED'), ('s̆ᴬʳᵗᴰˢᵍ₂', 'MEDIUM')]\n",
      "_s̆: [('s̆ᵁˢʳᴬʳᵗ₁', 'FREQUENT'), ('s̆ᵁˢʳᴬʳᵗ₂', 'TAPS')]\n",
      "_s̆: [('s̆ᴬʳᵗᵁˢʳ₁', 'HIGH')]\n",
      "___observe___\n",
      "_y: [('yᴬʳᵗᴰˢᵍ₁', 'NEUTRAL_OBS'), ('yᴬʳᵗᴰˢᵍ₂', 'SHORT_OBS'), ('yᴬʳᵗᴰˢᵍ₃', 'STANDARD_OBS')]\n",
      "_y: [('yᵁˢʳᴬʳᵗ₁', 'INFREQUENT_OBS'), ('yᵁˢʳᴬʳᵗ₂', 'SWIPES_OBS'), ('yᵁˢʳᴬʳᵗ₃', 'SOME_OBS')]\n",
      "_y: [('yᴬʳᵗᵁˢʳ₁', 'HIGH_OBS')]\n",
      "___infer___\n",
      "Beliefs: [('sᴬʳᵗᴰˢᵍ₁', array([0.999, 0.001])), ('sᴬʳᵗᴰˢᵍ₂', array([0., 1., 0.]))]\n",
      "Beliefs: [('sᵁˢʳᴬʳᵗ₁', array([0.999, 0.001])), ('sᵁˢʳᴬʳᵗ₂', array([0., 1., 0.]))]\n",
      "Beliefs: [('sᴬʳᵗᵁˢʳ₁', array([0., 1.]))]\n",
      "\n",
      "Time 13:\n",
      "___act___\n",
      "_a: [('aᴰˢᵍᴬʳᵗ₁', 'NULL_ACT'), ('aᴰˢᵍᴬʳᵗ₂', 'CHANGE_COLOR_THEME_ACT')]\n",
      "_a: [('aᴬʳᵗᵁˢʳ₁', 'NULL_ACT'), ('aᴬʳᵗᵁˢʳ₂', 'ADJUST_COLORS_ACT')]\n",
      "_a: [('aᵁˢʳᴬʳᵗ₁', 'PURCHASE_ACT')]\n",
      "___future___\n",
      "qIpiI=array([6.19461593e-04, 9.98751592e-01, 6.28946433e-04])\n",
      "GNeg=array([-3.60483043, -3.14324226, -3.60388072])\n",
      "qIpiI=array([6.19461593e-04, 9.98751592e-01, 6.28946433e-04])\n",
      "GNeg=array([-3.60483043, -3.14324226, -3.60388072])\n",
      "qIpiI=array([3.35237708e-04, 3.35237708e-04, 9.99329525e-01])\n",
      "GNeg=array([-1.36199458, -1.36199458, -0.86199458])\n",
      "___next___\n",
      "_s̆: [('s̆ᴬʳᵗᴰˢᵍ₁', 'FOCUSED'), ('s̆ᴬʳᵗᴰˢᵍ₂', 'MEDIUM')]\n",
      "_s̆: [('s̆ᵁˢʳᴬʳᵗ₁', 'FREQUENT'), ('s̆ᵁˢʳᴬʳᵗ₂', 'TAPS')]\n",
      "_s̆: [('s̆ᴬʳᵗᵁˢʳ₁', 'HIGH')]\n",
      "___observe___\n",
      "_y: [('yᴬʳᵗᴰˢᵍ₁', 'NEUTRAL_OBS'), ('yᴬʳᵗᴰˢᵍ₂', 'MEDIUM_OBS'), ('yᴬʳᵗᴰˢᵍ₃', 'STANDARD_OBS')]\n",
      "_y: [('yᵁˢʳᴬʳᵗ₁', 'INFREQUENT_OBS'), ('yᵁˢʳᴬʳᵗ₂', 'SWIPES_OBS'), ('yᵁˢʳᴬʳᵗ₃', 'SOME_OBS')]\n",
      "_y: [('yᴬʳᵗᵁˢʳ₁', 'MEDIUM_OBS')]\n",
      "___infer___\n",
      "Beliefs: [('sᴬʳᵗᴰˢᵍ₁', array([0.997, 0.003])), ('sᴬʳᵗᴰˢᵍ₂', array([0., 1., 0.]))]\n",
      "Beliefs: [('sᵁˢʳᴬʳᵗ₁', array([1., 0.])), ('sᵁˢʳᴬʳᵗ₂', array([0., 1., 0.]))]\n",
      "Beliefs: [('sᴬʳᵗᵁˢʳ₁', array([0., 1.]))]\n",
      "\n",
      "Time 14:\n",
      "___act___\n",
      "_a: [('aᴰˢᵍᴬʳᵗ₁', 'NULL_ACT'), ('aᴰˢᵍᴬʳᵗ₂', 'CHANGE_COLOR_THEME_ACT')]\n",
      "_a: [('aᴬʳᵗᵁˢʳ₁', 'NULL_ACT'), ('aᴬʳᵗᵁˢʳ₂', 'ADJUST_COLORS_ACT')]\n",
      "_a: [('aᵁˢʳᴬʳᵗ₁', 'PURCHASE_ACT')]\n",
      "___future___\n",
      "qIpiI=array([6.28521104e-04, 9.98716579e-01, 6.54899545e-04])\n",
      "GNeg=array([-3.60483043, -3.14415189, -3.60226091])\n",
      "qIpiI=array([6.16163062e-04, 9.98764213e-01, 6.19623701e-04])\n",
      "GNeg=array([-3.60483043, -3.14290778, -3.60448038])\n",
      "qIpiI=array([3.35237708e-04, 3.35237708e-04, 9.99329525e-01])\n",
      "GNeg=array([-1.36199458, -1.36199458, -0.86199458])\n",
      "___next___\n",
      "_s̆: [('s̆ᴬʳᵗᴰˢᵍ₁', 'FOCUSED'), ('s̆ᴬʳᵗᴰˢᵍ₂', 'MEDIUM')]\n",
      "_s̆: [('s̆ᵁˢʳᴬʳᵗ₁', 'FREQUENT'), ('s̆ᵁˢʳᴬʳᵗ₂', 'TAPS')]\n",
      "_s̆: [('s̆ᴬʳᵗᵁˢʳ₁', 'HIGH')]\n",
      "___observe___\n",
      "_y: [('yᴬʳᵗᴰˢᵍ₁', 'NEUTRAL_OBS'), ('yᴬʳᵗᴰˢᵍ₂', 'MEDIUM_OBS'), ('yᴬʳᵗᴰˢᵍ₃', 'STANDARD_OBS')]\n",
      "_y: [('yᵁˢʳᴬʳᵗ₁', 'INFREQUENT_OBS'), ('yᵁˢʳᴬʳᵗ₂', 'SWIPES_OBS'), ('yᵁˢʳᴬʳᵗ₃', 'SOME_OBS')]\n",
      "_y: [('yᴬʳᵗᵁˢʳ₁', 'HIGH_OBS')]\n",
      "___infer___\n",
      "Beliefs: [('sᴬʳᵗᴰˢᵍ₁', array([0.992, 0.008])), ('sᴬʳᵗᴰˢᵍ₂', array([0., 1., 0.]))]\n",
      "Beliefs: [('sᵁˢʳᴬʳᵗ₁', array([1., 0.])), ('sᵁˢʳᴬʳᵗ₂', array([0., 1., 0.]))]\n",
      "Beliefs: [('sᴬʳᵗᵁˢʳ₁', array([0., 1.]))]\n",
      "\n",
      "Time 15:\n",
      "___act___\n",
      "_a: [('aᴰˢᵍᴬʳᵗ₁', 'NULL_ACT'), ('aᴰˢᵍᴬʳᵗ₂', 'CHANGE_COLOR_THEME_ACT')]\n",
      "_a: [('aᴬʳᵗᵁˢʳ₁', 'NULL_ACT'), ('aᴬʳᵗᵁˢʳ₂', 'ADJUST_COLORS_ACT')]\n",
      "_a: [('aᵁˢʳᴬʳᵗ₁', 'PURCHASE_ACT')]\n",
      "___future___\n",
      "qIpiI=array([6.53848020e-04, 9.98616007e-01, 7.30144782e-04])\n",
      "GNeg=array([-3.60483043, -3.14662726, -3.59793244])\n",
      "qIpiI=array([6.14954210e-04, 9.98768822e-01, 6.16224057e-04])\n",
      "GNeg=array([-3.60483043, -3.14278475, -3.6047015 ])\n",
      "qIpiI=array([3.35237708e-04, 3.35237708e-04, 9.99329525e-01])\n",
      "GNeg=array([-1.36199458, -1.36199458, -0.86199458])\n",
      "___next___\n",
      "_s̆: [('s̆ᴬʳᵗᴰˢᵍ₁', 'FOCUSED'), ('s̆ᴬʳᵗᴰˢᵍ₂', 'MEDIUM')]\n",
      "_s̆: [('s̆ᵁˢʳᴬʳᵗ₁', 'FREQUENT'), ('s̆ᵁˢʳᴬʳᵗ₂', 'TAPS')]\n",
      "_s̆: [('s̆ᴬʳᵗᵁˢʳ₁', 'HIGH')]\n",
      "___observe___\n",
      "_y: [('yᴬʳᵗᴰˢᵍ₁', 'NEUTRAL_OBS'), ('yᴬʳᵗᴰˢᵍ₂', 'SHORT_OBS'), ('yᴬʳᵗᴰˢᵍ₃', 'STANDARD_OBS')]\n",
      "_y: [('yᵁˢʳᴬʳᵗ₁', 'INFREQUENT_OBS'), ('yᵁˢʳᴬʳᵗ₂', 'SWIPES_OBS'), ('yᵁˢʳᴬʳᵗ₃', 'SOME_OBS')]\n",
      "_y: [('yᴬʳᵗᵁˢʳ₁', 'HIGH_OBS')]\n",
      "___infer___\n",
      "Beliefs: [('sᴬʳᵗᴰˢᵍ₁', array([0.997, 0.003])), ('sᴬʳᵗᴰˢᵍ₂', array([0., 1., 0.]))]\n",
      "Beliefs: [('sᵁˢʳᴬʳᵗ₁', array([1., 0.])), ('sᵁˢʳᴬʳᵗ₂', array([0., 1., 0.]))]\n",
      "Beliefs: [('sᴬʳᵗᵁˢʳ₁', array([0., 1.]))]\n",
      "\n",
      "Time 16:\n",
      "___act___\n",
      "_a: [('aᴰˢᵍᴬʳᵗ₁', 'NULL_ACT'), ('aᴰˢᵍᴬʳᵗ₂', 'CHANGE_COLOR_THEME_ACT')]\n",
      "_a: [('aᴬʳᵗᵁˢʳ₁', 'NULL_ACT'), ('aᴬʳᵗᵁˢʳ₂', 'ADJUST_COLORS_ACT')]\n",
      "_a: [('aᵁˢʳᴬʳᵗ₁', 'PURCHASE_ACT')]\n",
      "___future___\n",
      "qIpiI=array([6.28521104e-04, 9.98716579e-01, 6.54899545e-04])\n",
      "GNeg=array([-3.60483043, -3.14415189, -3.60226091])\n",
      "qIpiI=array([6.14510120e-04, 9.98770512e-01, 6.14977437e-04])\n",
      "GNeg=array([-3.60483043, -3.1427395 , -3.60478292])\n",
      "qIpiI=array([3.35237708e-04, 3.35237708e-04, 9.99329525e-01])\n",
      "GNeg=array([-1.36199458, -1.36199458, -0.86199458])\n",
      "___next___\n",
      "_s̆: [('s̆ᴬʳᵗᴰˢᵍ₁', 'FOCUSED'), ('s̆ᴬʳᵗᴰˢᵍ₂', 'MEDIUM')]\n",
      "_s̆: [('s̆ᵁˢʳᴬʳᵗ₁', 'FREQUENT'), ('s̆ᵁˢʳᴬʳᵗ₂', 'TAPS')]\n",
      "_s̆: [('s̆ᴬʳᵗᵁˢʳ₁', 'HIGH')]\n",
      "___observe___\n",
      "_y: [('yᴬʳᵗᴰˢᵍ₁', 'NEUTRAL_OBS'), ('yᴬʳᵗᴰˢᵍ₂', 'SHORT_OBS'), ('yᴬʳᵗᴰˢᵍ₃', 'STANDARD_OBS')]\n",
      "_y: [('yᵁˢʳᴬʳᵗ₁', 'INFREQUENT_OBS'), ('yᵁˢʳᴬʳᵗ₂', 'SWIPES_OBS'), ('yᵁˢʳᴬʳᵗ₃', 'SOME_OBS')]\n",
      "_y: [('yᴬʳᵗᵁˢʳ₁', 'MEDIUM_OBS')]\n",
      "___infer___\n",
      "Beliefs: [('sᴬʳᵗᴰˢᵍ₁', array([0.999, 0.001])), ('sᴬʳᵗᴰˢᵍ₂', array([0., 1., 0.]))]\n",
      "Beliefs: [('sᵁˢʳᴬʳᵗ₁', array([1., 0.])), ('sᵁˢʳᴬʳᵗ₂', array([0., 1., 0.]))]\n",
      "Beliefs: [('sᴬʳᵗᵁˢʳ₁', array([0., 1.]))]\n",
      "\n",
      "Time 17:\n",
      "___act___\n",
      "_a: [('aᴰˢᵍᴬʳᵗ₁', 'NULL_ACT'), ('aᴰˢᵍᴬʳᵗ₂', 'CHANGE_COLOR_THEME_ACT')]\n",
      "_a: [('aᴬʳᵗᵁˢʳ₁', 'NULL_ACT'), ('aᴬʳᵗᵁˢʳ₂', 'ADJUST_COLORS_ACT')]\n",
      "_a: [('aᵁˢʳᴬʳᵗ₁', 'PURCHASE_ACT')]\n",
      "___future___\n",
      "qIpiI=array([6.19461593e-04, 9.98751592e-01, 6.28946433e-04])\n",
      "GNeg=array([-3.60483043, -3.14324226, -3.60388072])\n",
      "qIpiI=array([6.14346833e-04, 9.98771134e-01, 6.14519376e-04])\n",
      "GNeg=array([-3.60483043, -3.14272285, -3.60481288])\n",
      "qIpiI=array([3.35237708e-04, 3.35237708e-04, 9.99329525e-01])\n",
      "GNeg=array([-1.36199458, -1.36199458, -0.86199458])\n",
      "___next___\n",
      "_s̆: [('s̆ᴬʳᵗᴰˢᵍ₁', 'FOCUSED'), ('s̆ᴬʳᵗᴰˢᵍ₂', 'MEDIUM')]\n",
      "_s̆: [('s̆ᵁˢʳᴬʳᵗ₁', 'FREQUENT'), ('s̆ᵁˢʳᴬʳᵗ₂', 'TAPS')]\n",
      "_s̆: [('s̆ᴬʳᵗᵁˢʳ₁', 'HIGH')]\n",
      "___observe___\n",
      "_y: [('yᴬʳᵗᴰˢᵍ₁', 'NEUTRAL_OBS'), ('yᴬʳᵗᴰˢᵍ₂', 'SHORT_OBS'), ('yᴬʳᵗᴰˢᵍ₃', 'STANDARD_OBS')]\n",
      "_y: [('yᵁˢʳᴬʳᵗ₁', 'INFREQUENT_OBS'), ('yᵁˢʳᴬʳᵗ₂', 'SWIPES_OBS'), ('yᵁˢʳᴬʳᵗ₃', 'SOME_OBS')]\n",
      "_y: [('yᴬʳᵗᵁˢʳ₁', 'MEDIUM_OBS')]\n",
      "___infer___\n",
      "Beliefs: [('sᴬʳᵗᴰˢᵍ₁', array([1., 0.])), ('sᴬʳᵗᴰˢᵍ₂', array([0., 1., 0.]))]\n",
      "Beliefs: [('sᵁˢʳᴬʳᵗ₁', array([1., 0.])), ('sᵁˢʳᴬʳᵗ₂', array([0., 1., 0.]))]\n",
      "Beliefs: [('sᴬʳᵗᵁˢʳ₁', array([0., 1.]))]\n",
      "\n",
      "Time 18:\n",
      "___act___\n",
      "_a: [('aᴰˢᵍᴬʳᵗ₁', 'NULL_ACT'), ('aᴰˢᵍᴬʳᵗ₂', 'CHANGE_COLOR_THEME_ACT')]\n",
      "_a: [('aᴬʳᵗᵁˢʳ₁', 'NULL_ACT'), ('aᴬʳᵗᵁˢʳ₂', 'ADJUST_COLORS_ACT')]\n",
      "_a: [('aᵁˢʳᴬʳᵗ₁', 'PURCHASE_ACT')]\n",
      "___future___\n",
      "qIpiI=array([6.16163062e-04, 9.98764213e-01, 6.19623701e-04])\n",
      "GNeg=array([-3.60483043, -3.14290778, -3.60448038])\n",
      "qIpiI=array([6.14286774e-04, 9.98771362e-01, 6.14350939e-04])\n",
      "GNeg=array([-3.60483043, -3.14271672, -3.6048239 ])\n",
      "qIpiI=array([3.35237708e-04, 3.35237708e-04, 9.99329525e-01])\n",
      "GNeg=array([-1.36199458, -1.36199458, -0.86199458])\n",
      "___next___\n",
      "_s̆: [('s̆ᴬʳᵗᴰˢᵍ₁', 'FOCUSED'), ('s̆ᴬʳᵗᴰˢᵍ₂', 'MEDIUM')]\n",
      "_s̆: [('s̆ᵁˢʳᴬʳᵗ₁', 'FREQUENT'), ('s̆ᵁˢʳᴬʳᵗ₂', 'TAPS')]\n",
      "_s̆: [('s̆ᴬʳᵗᵁˢʳ₁', 'HIGH')]\n",
      "___observe___\n",
      "_y: [('yᴬʳᵗᴰˢᵍ₁', 'NEUTRAL_OBS'), ('yᴬʳᵗᴰˢᵍ₂', 'SHORT_OBS'), ('yᴬʳᵗᴰˢᵍ₃', 'STANDARD_OBS')]\n",
      "_y: [('yᵁˢʳᴬʳᵗ₁', 'INFREQUENT_OBS'), ('yᵁˢʳᴬʳᵗ₂', 'SWIPES_OBS'), ('yᵁˢʳᴬʳᵗ₃', 'SOME_OBS')]\n",
      "_y: [('yᴬʳᵗᵁˢʳ₁', 'MEDIUM_OBS')]\n",
      "___infer___\n",
      "Beliefs: [('sᴬʳᵗᴰˢᵍ₁', array([1., 0.])), ('sᴬʳᵗᴰˢᵍ₂', array([0., 1., 0.]))]\n",
      "Beliefs: [('sᵁˢʳᴬʳᵗ₁', array([1., 0.])), ('sᵁˢʳᴬʳᵗ₂', array([0., 1., 0.]))]\n",
      "Beliefs: [('sᴬʳᵗᵁˢʳ₁', array([0., 1.]))]\n",
      "\n",
      "Time 19:\n",
      "___act___\n",
      "_a: [('aᴰˢᵍᴬʳᵗ₁', 'NULL_ACT'), ('aᴰˢᵍᴬʳᵗ₂', 'CHANGE_COLOR_THEME_ACT')]\n",
      "_a: [('aᴬʳᵗᵁˢʳ₁', 'NULL_ACT'), ('aᴬʳᵗᵁˢʳ₂', 'ADJUST_COLORS_ACT')]\n",
      "_a: [('aᵁˢʳᴬʳᵗ₁', 'PURCHASE_ACT')]\n",
      "___future___\n",
      "qIpiI=array([6.14954210e-04, 9.98768822e-01, 6.16224057e-04])\n",
      "GNeg=array([-3.60483043, -3.14278475, -3.6047015 ])\n",
      "qIpiI=array([6.14264681e-04, 9.98771446e-01, 6.14288984e-04])\n",
      "GNeg=array([-3.60483043, -3.14271447, -3.60482796])\n",
      "qIpiI=array([3.35237708e-04, 3.35237708e-04, 9.99329525e-01])\n",
      "GNeg=array([-1.36199458, -1.36199458, -0.86199458])\n",
      "___next___\n",
      "_s̆: [('s̆ᴬʳᵗᴰˢᵍ₁', 'FOCUSED'), ('s̆ᴬʳᵗᴰˢᵍ₂', 'MEDIUM')]\n",
      "_s̆: [('s̆ᵁˢʳᴬʳᵗ₁', 'FREQUENT'), ('s̆ᵁˢʳᴬʳᵗ₂', 'TAPS')]\n",
      "_s̆: [('s̆ᴬʳᵗᵁˢʳ₁', 'HIGH')]\n",
      "___observe___\n",
      "_y: [('yᴬʳᵗᴰˢᵍ₁', 'NEUTRAL_OBS'), ('yᴬʳᵗᴰˢᵍ₂', 'SHORT_OBS'), ('yᴬʳᵗᴰˢᵍ₃', 'STANDARD_OBS')]\n",
      "_y: [('yᵁˢʳᴬʳᵗ₁', 'INFREQUENT_OBS'), ('yᵁˢʳᴬʳᵗ₂', 'SWIPES_OBS'), ('yᵁˢʳᴬʳᵗ₃', 'SOME_OBS')]\n",
      "_y: [('yᴬʳᵗᵁˢʳ₁', 'HIGH_OBS')]\n",
      "___infer___\n",
      "Beliefs: [('sᴬʳᵗᴰˢᵍ₁', array([1., 0.])), ('sᴬʳᵗᴰˢᵍ₂', array([0., 1., 0.]))]\n",
      "Beliefs: [('sᵁˢʳᴬʳᵗ₁', array([1., 0.])), ('sᵁˢʳᴬʳᵗ₂', array([0., 1., 0.]))]\n",
      "Beliefs: [('sᴬʳᵗᵁˢʳ₁', array([0., 1.]))]\n",
      "Plot saved as 'Designer-Artifact.png'.\n",
      "Plot saved as 'Artifact-User.png'.\n",
      "Plot saved as 'User-Artifact.png'.\n"
     ]
    }
   ],
   "source": [
    "simulate(_T)"
   ]
  },
  {
   "cell_type": "code",
   "execution_count": null,
   "metadata": {},
   "outputs": [],
   "source": [
    "## def main():\n",
    "#     parser = argparse.ArgumentParser(\n",
    "#         description=\"\"\"\n",
    "# A Designer-Artifact-User interaction simulation script.\n",
    "# To execute:\n",
    "# python -m dau-active-inference --duration 20\n",
    "# \"\"\")\n",
    "#     parser.add_argument(\n",
    "#         \"--duration\", \n",
    "#         type=str, \n",
    "#         default=20,\n",
    "#         help=\"The time duration of the simulation, i.e. the number of time steps.\", \n",
    "#         required=True)\n",
    "#     args = parser.parse_args(); print(f\"Duration, {args.duration}\")\n",
    "\n",
    "#     simulate(int(args.duration))\n",
    "\n",
    "# if __name__ == \"__main__\":\n",
    "#     main()"
   ]
  },
  {
   "cell_type": "code",
   "execution_count": null,
   "metadata": {},
   "outputs": [],
   "source": []
  }
 ],
 "metadata": {
  "kernelspec": {
   "display_name": "Python 3",
   "language": "python",
   "name": "python3"
  },
  "language_info": {
   "codemirror_mode": {
    "name": "ipython",
    "version": 3
   },
   "file_extension": ".py",
   "mimetype": "text/x-python",
   "name": "python",
   "nbconvert_exporter": "python",
   "pygments_lexer": "ipython3",
   "version": "3.10.12"
  }
 },
 "nbformat": 4,
 "nbformat_minor": 2
}
